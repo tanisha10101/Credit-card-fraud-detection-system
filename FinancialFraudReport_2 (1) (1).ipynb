{
  "cells": [
    {
      "cell_type": "markdown",
      "metadata": {
        "id": "17cedcac-8a66-41ad-b1c6-7f45fac97f40"
      },
      "source": [
        "## Importing Libraries"
      ],
      "id": "17cedcac-8a66-41ad-b1c6-7f45fac97f40"
    },
    {
      "cell_type": "code",
      "execution_count": 533,
      "metadata": {
        "id": "c6ddf899-f0f9-445f-8e52-2dd151da1a86"
      },
      "outputs": [],
      "source": [
        "\n",
        "import numpy as np\n",
        "import pandas as pd\n",
        "from tensorflow.keras.models import Sequential\n",
        "from tensorflow.keras.layers import Dense\n",
        "import matplotlib.pyplot as plt\n",
        "import seaborn as sns\n",
        "from tensorflow.keras.layers import SimpleRNN\n",
        "import missingno as msno\n",
        "import plotly.express as px\n",
        "from sklearn.ensemble import RandomForestClassifier\n",
        "from lightgbm.sklearn import LGBMClassifier\n",
        "import plotly as pio\n",
        "import xgboost as xgb\n",
        "from sklearn.linear_model import LogisticRegression\n",
        "from sklearn.metrics import roc_auc_score\n",
        "from sklearn.metrics import hamming_loss\n",
        "\n",
        "from sklearn.preprocessing import StandardScaler\n",
        "from sklearn.model_selection import train_test_split\n"
      ],
      "id": "c6ddf899-f0f9-445f-8e52-2dd151da1a86"
    },
    {
      "cell_type": "code",
      "execution_count": 533,
      "metadata": {
        "id": "d5256128-7f98-43a3-b380-640e3fd14ed2"
      },
      "outputs": [],
      "source": [],
      "id": "d5256128-7f98-43a3-b380-640e3fd14ed2"
    },
    {
      "cell_type": "markdown",
      "metadata": {
        "id": "8c0ef9ff-1f49-4de5-8efb-a1af50f5bf24"
      },
      "source": [
        "## Reading Data"
      ],
      "id": "8c0ef9ff-1f49-4de5-8efb-a1af50f5bf24"
    },
    {
      "cell_type": "code",
      "execution_count": 534,
      "metadata": {
        "id": "8479d866-b414-4c0b-85cd-ddd298498490"
      },
      "outputs": [],
      "source": [
        "data = pd.read_csv('/content/fraud_detection.csv')"
      ],
      "id": "8479d866-b414-4c0b-85cd-ddd298498490"
    },
    {
      "cell_type": "markdown",
      "metadata": {
        "id": "c587f62e-a306-4e51-be2f-89273cc130dd"
      },
      "source": [
        "### data info"
      ],
      "id": "c587f62e-a306-4e51-be2f-89273cc130dd"
    },
    {
      "cell_type": "code",
      "source": [
        "data"
      ],
      "metadata": {
        "colab": {
          "base_uri": "https://localhost:8080/",
          "height": 424
        },
        "id": "rlaMffQnGb_U",
        "outputId": "0837cf88-0378-4bb8-fa77-af6f17374ebf"
      },
      "id": "rlaMffQnGb_U",
      "execution_count": 535,
      "outputs": [
        {
          "output_type": "execute_result",
          "data": {
            "text/plain": [
              "         step      type     amount     nameOrig  oldbalanceOrg  \\\n",
              "0           1   PAYMENT    9839.64  C1231006815       170136.0   \n",
              "1           1   PAYMENT    1864.28  C1666544295        21249.0   \n",
              "2           1  TRANSFER     181.00  C1305486145          181.0   \n",
              "3           1  CASH_OUT     181.00   C840083671          181.0   \n",
              "4           1   PAYMENT   11668.14  C2048537720        41554.0   \n",
              "...       ...       ...        ...          ...            ...   \n",
              "3749586   279  CASH_OUT  226716.59   C482321322            0.0   \n",
              "3749587   279  CASH_OUT   11672.36   C891215384            0.0   \n",
              "3749588   279  CASH_OUT  232921.92   C139798161            0.0   \n",
              "3749589   279  CASH_OUT   60093.54  C1397600788            0.0   \n",
              "3749590   279  CASH_OUT  248917.54          NaN            NaN   \n",
              "\n",
              "         newbalanceOrig     nameDest  oldbalanceDest  newbalanceDest  isFraud  \\\n",
              "0             160296.36  M1979787155            0.00            0.00      0.0   \n",
              "1              19384.72  M2044282225            0.00            0.00      0.0   \n",
              "2                  0.00   C553264065            0.00            0.00      1.0   \n",
              "3                  0.00    C38997010        21182.00            0.00      1.0   \n",
              "4              29885.86  M1230701703            0.00            0.00      0.0   \n",
              "...                 ...          ...             ...             ...      ...   \n",
              "3749586            0.00    C30694688       867785.58      1094502.17      0.0   \n",
              "3749587            0.00   C393125134       271237.28       282909.64      0.0   \n",
              "3749588            0.00   C632504280       379446.17       612368.10      0.0   \n",
              "3749589            0.00    C68587257       259402.33       319495.87      0.0   \n",
              "3749590             NaN          NaN             NaN             NaN      NaN   \n",
              "\n",
              "         isFlaggedFraud  \n",
              "0                   0.0  \n",
              "1                   0.0  \n",
              "2                   0.0  \n",
              "3                   0.0  \n",
              "4                   0.0  \n",
              "...                 ...  \n",
              "3749586             0.0  \n",
              "3749587             0.0  \n",
              "3749588             0.0  \n",
              "3749589             0.0  \n",
              "3749590             NaN  \n",
              "\n",
              "[3749591 rows x 11 columns]"
            ],
            "text/html": [
              "\n",
              "  <div id=\"df-b1187f6f-7cfb-47c3-bfd5-ba292527ac7b\" class=\"colab-df-container\">\n",
              "    <div>\n",
              "<style scoped>\n",
              "    .dataframe tbody tr th:only-of-type {\n",
              "        vertical-align: middle;\n",
              "    }\n",
              "\n",
              "    .dataframe tbody tr th {\n",
              "        vertical-align: top;\n",
              "    }\n",
              "\n",
              "    .dataframe thead th {\n",
              "        text-align: right;\n",
              "    }\n",
              "</style>\n",
              "<table border=\"1\" class=\"dataframe\">\n",
              "  <thead>\n",
              "    <tr style=\"text-align: right;\">\n",
              "      <th></th>\n",
              "      <th>step</th>\n",
              "      <th>type</th>\n",
              "      <th>amount</th>\n",
              "      <th>nameOrig</th>\n",
              "      <th>oldbalanceOrg</th>\n",
              "      <th>newbalanceOrig</th>\n",
              "      <th>nameDest</th>\n",
              "      <th>oldbalanceDest</th>\n",
              "      <th>newbalanceDest</th>\n",
              "      <th>isFraud</th>\n",
              "      <th>isFlaggedFraud</th>\n",
              "    </tr>\n",
              "  </thead>\n",
              "  <tbody>\n",
              "    <tr>\n",
              "      <th>0</th>\n",
              "      <td>1</td>\n",
              "      <td>PAYMENT</td>\n",
              "      <td>9839.64</td>\n",
              "      <td>C1231006815</td>\n",
              "      <td>170136.0</td>\n",
              "      <td>160296.36</td>\n",
              "      <td>M1979787155</td>\n",
              "      <td>0.00</td>\n",
              "      <td>0.00</td>\n",
              "      <td>0.0</td>\n",
              "      <td>0.0</td>\n",
              "    </tr>\n",
              "    <tr>\n",
              "      <th>1</th>\n",
              "      <td>1</td>\n",
              "      <td>PAYMENT</td>\n",
              "      <td>1864.28</td>\n",
              "      <td>C1666544295</td>\n",
              "      <td>21249.0</td>\n",
              "      <td>19384.72</td>\n",
              "      <td>M2044282225</td>\n",
              "      <td>0.00</td>\n",
              "      <td>0.00</td>\n",
              "      <td>0.0</td>\n",
              "      <td>0.0</td>\n",
              "    </tr>\n",
              "    <tr>\n",
              "      <th>2</th>\n",
              "      <td>1</td>\n",
              "      <td>TRANSFER</td>\n",
              "      <td>181.00</td>\n",
              "      <td>C1305486145</td>\n",
              "      <td>181.0</td>\n",
              "      <td>0.00</td>\n",
              "      <td>C553264065</td>\n",
              "      <td>0.00</td>\n",
              "      <td>0.00</td>\n",
              "      <td>1.0</td>\n",
              "      <td>0.0</td>\n",
              "    </tr>\n",
              "    <tr>\n",
              "      <th>3</th>\n",
              "      <td>1</td>\n",
              "      <td>CASH_OUT</td>\n",
              "      <td>181.00</td>\n",
              "      <td>C840083671</td>\n",
              "      <td>181.0</td>\n",
              "      <td>0.00</td>\n",
              "      <td>C38997010</td>\n",
              "      <td>21182.00</td>\n",
              "      <td>0.00</td>\n",
              "      <td>1.0</td>\n",
              "      <td>0.0</td>\n",
              "    </tr>\n",
              "    <tr>\n",
              "      <th>4</th>\n",
              "      <td>1</td>\n",
              "      <td>PAYMENT</td>\n",
              "      <td>11668.14</td>\n",
              "      <td>C2048537720</td>\n",
              "      <td>41554.0</td>\n",
              "      <td>29885.86</td>\n",
              "      <td>M1230701703</td>\n",
              "      <td>0.00</td>\n",
              "      <td>0.00</td>\n",
              "      <td>0.0</td>\n",
              "      <td>0.0</td>\n",
              "    </tr>\n",
              "    <tr>\n",
              "      <th>...</th>\n",
              "      <td>...</td>\n",
              "      <td>...</td>\n",
              "      <td>...</td>\n",
              "      <td>...</td>\n",
              "      <td>...</td>\n",
              "      <td>...</td>\n",
              "      <td>...</td>\n",
              "      <td>...</td>\n",
              "      <td>...</td>\n",
              "      <td>...</td>\n",
              "      <td>...</td>\n",
              "    </tr>\n",
              "    <tr>\n",
              "      <th>3749586</th>\n",
              "      <td>279</td>\n",
              "      <td>CASH_OUT</td>\n",
              "      <td>226716.59</td>\n",
              "      <td>C482321322</td>\n",
              "      <td>0.0</td>\n",
              "      <td>0.00</td>\n",
              "      <td>C30694688</td>\n",
              "      <td>867785.58</td>\n",
              "      <td>1094502.17</td>\n",
              "      <td>0.0</td>\n",
              "      <td>0.0</td>\n",
              "    </tr>\n",
              "    <tr>\n",
              "      <th>3749587</th>\n",
              "      <td>279</td>\n",
              "      <td>CASH_OUT</td>\n",
              "      <td>11672.36</td>\n",
              "      <td>C891215384</td>\n",
              "      <td>0.0</td>\n",
              "      <td>0.00</td>\n",
              "      <td>C393125134</td>\n",
              "      <td>271237.28</td>\n",
              "      <td>282909.64</td>\n",
              "      <td>0.0</td>\n",
              "      <td>0.0</td>\n",
              "    </tr>\n",
              "    <tr>\n",
              "      <th>3749588</th>\n",
              "      <td>279</td>\n",
              "      <td>CASH_OUT</td>\n",
              "      <td>232921.92</td>\n",
              "      <td>C139798161</td>\n",
              "      <td>0.0</td>\n",
              "      <td>0.00</td>\n",
              "      <td>C632504280</td>\n",
              "      <td>379446.17</td>\n",
              "      <td>612368.10</td>\n",
              "      <td>0.0</td>\n",
              "      <td>0.0</td>\n",
              "    </tr>\n",
              "    <tr>\n",
              "      <th>3749589</th>\n",
              "      <td>279</td>\n",
              "      <td>CASH_OUT</td>\n",
              "      <td>60093.54</td>\n",
              "      <td>C1397600788</td>\n",
              "      <td>0.0</td>\n",
              "      <td>0.00</td>\n",
              "      <td>C68587257</td>\n",
              "      <td>259402.33</td>\n",
              "      <td>319495.87</td>\n",
              "      <td>0.0</td>\n",
              "      <td>0.0</td>\n",
              "    </tr>\n",
              "    <tr>\n",
              "      <th>3749590</th>\n",
              "      <td>279</td>\n",
              "      <td>CASH_OUT</td>\n",
              "      <td>248917.54</td>\n",
              "      <td>NaN</td>\n",
              "      <td>NaN</td>\n",
              "      <td>NaN</td>\n",
              "      <td>NaN</td>\n",
              "      <td>NaN</td>\n",
              "      <td>NaN</td>\n",
              "      <td>NaN</td>\n",
              "      <td>NaN</td>\n",
              "    </tr>\n",
              "  </tbody>\n",
              "</table>\n",
              "<p>3749591 rows × 11 columns</p>\n",
              "</div>\n",
              "    <div class=\"colab-df-buttons\">\n",
              "\n",
              "  <div class=\"colab-df-container\">\n",
              "    <button class=\"colab-df-convert\" onclick=\"convertToInteractive('df-b1187f6f-7cfb-47c3-bfd5-ba292527ac7b')\"\n",
              "            title=\"Convert this dataframe to an interactive table.\"\n",
              "            style=\"display:none;\">\n",
              "\n",
              "  <svg xmlns=\"http://www.w3.org/2000/svg\" height=\"24px\" viewBox=\"0 -960 960 960\">\n",
              "    <path d=\"M120-120v-720h720v720H120Zm60-500h600v-160H180v160Zm220 220h160v-160H400v160Zm0 220h160v-160H400v160ZM180-400h160v-160H180v160Zm440 0h160v-160H620v160ZM180-180h160v-160H180v160Zm440 0h160v-160H620v160Z\"/>\n",
              "  </svg>\n",
              "    </button>\n",
              "\n",
              "  <style>\n",
              "    .colab-df-container {\n",
              "      display:flex;\n",
              "      gap: 12px;\n",
              "    }\n",
              "\n",
              "    .colab-df-convert {\n",
              "      background-color: #E8F0FE;\n",
              "      border: none;\n",
              "      border-radius: 50%;\n",
              "      cursor: pointer;\n",
              "      display: none;\n",
              "      fill: #1967D2;\n",
              "      height: 32px;\n",
              "      padding: 0 0 0 0;\n",
              "      width: 32px;\n",
              "    }\n",
              "\n",
              "    .colab-df-convert:hover {\n",
              "      background-color: #E2EBFA;\n",
              "      box-shadow: 0px 1px 2px rgba(60, 64, 67, 0.3), 0px 1px 3px 1px rgba(60, 64, 67, 0.15);\n",
              "      fill: #174EA6;\n",
              "    }\n",
              "\n",
              "    .colab-df-buttons div {\n",
              "      margin-bottom: 4px;\n",
              "    }\n",
              "\n",
              "    [theme=dark] .colab-df-convert {\n",
              "      background-color: #3B4455;\n",
              "      fill: #D2E3FC;\n",
              "    }\n",
              "\n",
              "    [theme=dark] .colab-df-convert:hover {\n",
              "      background-color: #434B5C;\n",
              "      box-shadow: 0px 1px 3px 1px rgba(0, 0, 0, 0.15);\n",
              "      filter: drop-shadow(0px 1px 2px rgba(0, 0, 0, 0.3));\n",
              "      fill: #FFFFFF;\n",
              "    }\n",
              "  </style>\n",
              "\n",
              "    <script>\n",
              "      const buttonEl =\n",
              "        document.querySelector('#df-b1187f6f-7cfb-47c3-bfd5-ba292527ac7b button.colab-df-convert');\n",
              "      buttonEl.style.display =\n",
              "        google.colab.kernel.accessAllowed ? 'block' : 'none';\n",
              "\n",
              "      async function convertToInteractive(key) {\n",
              "        const element = document.querySelector('#df-b1187f6f-7cfb-47c3-bfd5-ba292527ac7b');\n",
              "        const dataTable =\n",
              "          await google.colab.kernel.invokeFunction('convertToInteractive',\n",
              "                                                    [key], {});\n",
              "        if (!dataTable) return;\n",
              "\n",
              "        const docLinkHtml = 'Like what you see? Visit the ' +\n",
              "          '<a target=\"_blank\" href=https://colab.research.google.com/notebooks/data_table.ipynb>data table notebook</a>'\n",
              "          + ' to learn more about interactive tables.';\n",
              "        element.innerHTML = '';\n",
              "        dataTable['output_type'] = 'display_data';\n",
              "        await google.colab.output.renderOutput(dataTable, element);\n",
              "        const docLink = document.createElement('div');\n",
              "        docLink.innerHTML = docLinkHtml;\n",
              "        element.appendChild(docLink);\n",
              "      }\n",
              "    </script>\n",
              "  </div>\n",
              "\n",
              "\n",
              "<div id=\"df-aeb1f3f2-d06d-48cc-9605-599aaaa53188\">\n",
              "  <button class=\"colab-df-quickchart\" onclick=\"quickchart('df-aeb1f3f2-d06d-48cc-9605-599aaaa53188')\"\n",
              "            title=\"Suggest charts.\"\n",
              "            style=\"display:none;\">\n",
              "\n",
              "<svg xmlns=\"http://www.w3.org/2000/svg\" height=\"24px\"viewBox=\"0 0 24 24\"\n",
              "     width=\"24px\">\n",
              "    <g>\n",
              "        <path d=\"M19 3H5c-1.1 0-2 .9-2 2v14c0 1.1.9 2 2 2h14c1.1 0 2-.9 2-2V5c0-1.1-.9-2-2-2zM9 17H7v-7h2v7zm4 0h-2V7h2v10zm4 0h-2v-4h2v4z\"/>\n",
              "    </g>\n",
              "</svg>\n",
              "  </button>\n",
              "\n",
              "<style>\n",
              "  .colab-df-quickchart {\n",
              "      --bg-color: #E8F0FE;\n",
              "      --fill-color: #1967D2;\n",
              "      --hover-bg-color: #E2EBFA;\n",
              "      --hover-fill-color: #174EA6;\n",
              "      --disabled-fill-color: #AAA;\n",
              "      --disabled-bg-color: #DDD;\n",
              "  }\n",
              "\n",
              "  [theme=dark] .colab-df-quickchart {\n",
              "      --bg-color: #3B4455;\n",
              "      --fill-color: #D2E3FC;\n",
              "      --hover-bg-color: #434B5C;\n",
              "      --hover-fill-color: #FFFFFF;\n",
              "      --disabled-bg-color: #3B4455;\n",
              "      --disabled-fill-color: #666;\n",
              "  }\n",
              "\n",
              "  .colab-df-quickchart {\n",
              "    background-color: var(--bg-color);\n",
              "    border: none;\n",
              "    border-radius: 50%;\n",
              "    cursor: pointer;\n",
              "    display: none;\n",
              "    fill: var(--fill-color);\n",
              "    height: 32px;\n",
              "    padding: 0;\n",
              "    width: 32px;\n",
              "  }\n",
              "\n",
              "  .colab-df-quickchart:hover {\n",
              "    background-color: var(--hover-bg-color);\n",
              "    box-shadow: 0 1px 2px rgba(60, 64, 67, 0.3), 0 1px 3px 1px rgba(60, 64, 67, 0.15);\n",
              "    fill: var(--button-hover-fill-color);\n",
              "  }\n",
              "\n",
              "  .colab-df-quickchart-complete:disabled,\n",
              "  .colab-df-quickchart-complete:disabled:hover {\n",
              "    background-color: var(--disabled-bg-color);\n",
              "    fill: var(--disabled-fill-color);\n",
              "    box-shadow: none;\n",
              "  }\n",
              "\n",
              "  .colab-df-spinner {\n",
              "    border: 2px solid var(--fill-color);\n",
              "    border-color: transparent;\n",
              "    border-bottom-color: var(--fill-color);\n",
              "    animation:\n",
              "      spin 1s steps(1) infinite;\n",
              "  }\n",
              "\n",
              "  @keyframes spin {\n",
              "    0% {\n",
              "      border-color: transparent;\n",
              "      border-bottom-color: var(--fill-color);\n",
              "      border-left-color: var(--fill-color);\n",
              "    }\n",
              "    20% {\n",
              "      border-color: transparent;\n",
              "      border-left-color: var(--fill-color);\n",
              "      border-top-color: var(--fill-color);\n",
              "    }\n",
              "    30% {\n",
              "      border-color: transparent;\n",
              "      border-left-color: var(--fill-color);\n",
              "      border-top-color: var(--fill-color);\n",
              "      border-right-color: var(--fill-color);\n",
              "    }\n",
              "    40% {\n",
              "      border-color: transparent;\n",
              "      border-right-color: var(--fill-color);\n",
              "      border-top-color: var(--fill-color);\n",
              "    }\n",
              "    60% {\n",
              "      border-color: transparent;\n",
              "      border-right-color: var(--fill-color);\n",
              "    }\n",
              "    80% {\n",
              "      border-color: transparent;\n",
              "      border-right-color: var(--fill-color);\n",
              "      border-bottom-color: var(--fill-color);\n",
              "    }\n",
              "    90% {\n",
              "      border-color: transparent;\n",
              "      border-bottom-color: var(--fill-color);\n",
              "    }\n",
              "  }\n",
              "</style>\n",
              "\n",
              "  <script>\n",
              "    async function quickchart(key) {\n",
              "      const quickchartButtonEl =\n",
              "        document.querySelector('#' + key + ' button');\n",
              "      quickchartButtonEl.disabled = true;  // To prevent multiple clicks.\n",
              "      quickchartButtonEl.classList.add('colab-df-spinner');\n",
              "      try {\n",
              "        const charts = await google.colab.kernel.invokeFunction(\n",
              "            'suggestCharts', [key], {});\n",
              "      } catch (error) {\n",
              "        console.error('Error during call to suggestCharts:', error);\n",
              "      }\n",
              "      quickchartButtonEl.classList.remove('colab-df-spinner');\n",
              "      quickchartButtonEl.classList.add('colab-df-quickchart-complete');\n",
              "    }\n",
              "    (() => {\n",
              "      let quickchartButtonEl =\n",
              "        document.querySelector('#df-aeb1f3f2-d06d-48cc-9605-599aaaa53188 button');\n",
              "      quickchartButtonEl.style.display =\n",
              "        google.colab.kernel.accessAllowed ? 'block' : 'none';\n",
              "    })();\n",
              "  </script>\n",
              "</div>\n",
              "    </div>\n",
              "  </div>\n"
            ]
          },
          "metadata": {},
          "execution_count": 535
        }
      ]
    },
    {
      "cell_type": "code",
      "execution_count": 536,
      "metadata": {
        "id": "aebeec5f-0fc0-4cb4-840e-4a41aae6c4e0",
        "colab": {
          "base_uri": "https://localhost:8080/"
        },
        "outputId": "535e3b95-b8f0-4e76-a4fd-b50169d4bee5"
      },
      "outputs": [
        {
          "output_type": "stream",
          "name": "stdout",
          "text": [
            "<class 'pandas.core.frame.DataFrame'>\n",
            "RangeIndex: 3749591 entries, 0 to 3749590\n",
            "Data columns (total 11 columns):\n",
            " #   Column          Dtype  \n",
            "---  ------          -----  \n",
            " 0   step            int64  \n",
            " 1   type            object \n",
            " 2   amount          float64\n",
            " 3   nameOrig        object \n",
            " 4   oldbalanceOrg   float64\n",
            " 5   newbalanceOrig  float64\n",
            " 6   nameDest        object \n",
            " 7   oldbalanceDest  float64\n",
            " 8   newbalanceDest  float64\n",
            " 9   isFraud         float64\n",
            " 10  isFlaggedFraud  float64\n",
            "dtypes: float64(7), int64(1), object(3)\n",
            "memory usage: 314.7+ MB\n",
            "-----------------SHAPE-----------------\n"
          ]
        },
        {
          "output_type": "execute_result",
          "data": {
            "text/plain": [
              "(3749591, 11)"
            ]
          },
          "metadata": {},
          "execution_count": 536
        }
      ],
      "source": [
        "data.info()\n",
        "print(\"-----------------SHAPE-----------------\")\n",
        "data.shape"
      ],
      "id": "aebeec5f-0fc0-4cb4-840e-4a41aae6c4e0"
    },
    {
      "cell_type": "markdown",
      "metadata": {
        "id": "6b72e500-b24b-44e1-8f5a-52e760895d81"
      },
      "source": [
        "## Data Cleaning"
      ],
      "id": "6b72e500-b24b-44e1-8f5a-52e760895d81"
    },
    {
      "cell_type": "markdown",
      "metadata": {
        "id": "5b82ca53-3544-4cfb-84e7-165d216c07dc"
      },
      "source": [
        "### Checking for missing values"
      ],
      "id": "5b82ca53-3544-4cfb-84e7-165d216c07dc"
    },
    {
      "cell_type": "code",
      "execution_count": 537,
      "metadata": {
        "id": "8ed401dd-dbde-4017-ab5a-3ca98827e4e5",
        "colab": {
          "base_uri": "https://localhost:8080/",
          "height": 770
        },
        "outputId": "c483f25f-7736-432b-ec97-de4397f5df68"
      },
      "outputs": [
        {
          "output_type": "execute_result",
          "data": {
            "text/plain": [
              "<Axes: >"
            ]
          },
          "metadata": {},
          "execution_count": 537
        },
        {
          "output_type": "display_data",
          "data": {
            "text/plain": [
              "<Figure size 2500x1000 with 3 Axes>"
            ],
            "image/png": "[encoded data removed]"
          },
          "metadata": {}
        }
      ],
      "source": [
        "msno.bar(data)"
      ],
      "id": "8ed401dd-dbde-4017-ab5a-3ca98827e4e5"
    },
    {
      "cell_type": "markdown",
      "metadata": {
        "id": "5f4b5ed0-5559-4422-a665-263dcc831b42"
      },
      "source": [
        "#### All columns show 100% completed data records!"
      ],
      "id": "5f4b5ed0-5559-4422-a665-263dcc831b42"
    },
    {
      "cell_type": "markdown",
      "metadata": {
        "id": "c396e277-ecd5-44ed-a242-418fa245882a"
      },
      "source": [
        "### Number of duplicates in data"
      ],
      "id": "c396e277-ecd5-44ed-a242-418fa245882a"
    },
    {
      "cell_type": "code",
      "execution_count": 538,
      "metadata": {
        "id": "c323bf01-4405-4c89-a45e-1b4a123605d4",
        "colab": {
          "base_uri": "https://localhost:8080/"
        },
        "outputId": "3dfbe32e-3bd9-48b7-ca0f-685ea13339e9"
      },
      "outputs": [
        {
          "output_type": "execute_result",
          "data": {
            "text/plain": [
              "0"
            ]
          },
          "metadata": {},
          "execution_count": 538
        }
      ],
      "source": [
        "duplicate_count = len(data[data.duplicated()])\n",
        "duplicate_count"
      ],
      "id": "c323bf01-4405-4c89-a45e-1b4a123605d4"
    },
    {
      "cell_type": "markdown",
      "metadata": {
        "id": "0b212d7c-e6ab-4369-a01c-18b99032db38"
      },
      "source": [
        "### Renaming columns"
      ],
      "id": "0b212d7c-e6ab-4369-a01c-18b99032db38"
    },
    {
      "cell_type": "code",
      "execution_count": 539,
      "metadata": {
        "id": "2a4dae3f-acb3-4f27-8cec-74ad7c28bac3"
      },
      "outputs": [],
      "source": [
        "new_column_names = {\n",
        "    'nameOrig': 'origin',\n",
        "    'oldbalanceOrg': 'sender_old_bal',\n",
        "    'newbalanceOrig': 'sender_new_bal',\n",
        "    'nameDest': 'dest',\n",
        "    'oldbalanceDest': 'dest_old_bal',\n",
        "    'newbalanceDest': 'dest_new_bal'\n",
        "}\n",
        "\n",
        "data.rename(columns=new_column_names, inplace=True)\n"
      ],
      "id": "2a4dae3f-acb3-4f27-8cec-74ad7c28bac3"
    },
    {
      "cell_type": "code",
      "source": [
        "data"
      ],
      "metadata": {
        "colab": {
          "base_uri": "https://localhost:8080/",
          "height": 424
        },
        "id": "rV9THDZ_Gx_Y",
        "outputId": "42dbd4e6-986a-4419-e534-2d1f2f3faa43"
      },
      "id": "rV9THDZ_Gx_Y",
      "execution_count": 540,
      "outputs": [
        {
          "output_type": "execute_result",
          "data": {
            "text/plain": [
              "         step      type     amount       origin  sender_old_bal  \\\n",
              "0           1   PAYMENT    9839.64  C1231006815        170136.0   \n",
              "1           1   PAYMENT    1864.28  C1666544295         21249.0   \n",
              "2           1  TRANSFER     181.00  C1305486145           181.0   \n",
              "3           1  CASH_OUT     181.00   C840083671           181.0   \n",
              "4           1   PAYMENT   11668.14  C2048537720         41554.0   \n",
              "...       ...       ...        ...          ...             ...   \n",
              "3749586   279  CASH_OUT  226716.59   C482321322             0.0   \n",
              "3749587   279  CASH_OUT   11672.36   C891215384             0.0   \n",
              "3749588   279  CASH_OUT  232921.92   C139798161             0.0   \n",
              "3749589   279  CASH_OUT   60093.54  C1397600788             0.0   \n",
              "3749590   279  CASH_OUT  248917.54          NaN             NaN   \n",
              "\n",
              "         sender_new_bal         dest  dest_old_bal  dest_new_bal  isFraud  \\\n",
              "0             160296.36  M1979787155          0.00          0.00      0.0   \n",
              "1              19384.72  M2044282225          0.00          0.00      0.0   \n",
              "2                  0.00   C553264065          0.00          0.00      1.0   \n",
              "3                  0.00    C38997010      21182.00          0.00      1.0   \n",
              "4              29885.86  M1230701703          0.00          0.00      0.0   \n",
              "...                 ...          ...           ...           ...      ...   \n",
              "3749586            0.00    C30694688     867785.58    1094502.17      0.0   \n",
              "3749587            0.00   C393125134     271237.28     282909.64      0.0   \n",
              "3749588            0.00   C632504280     379446.17     612368.10      0.0   \n",
              "3749589            0.00    C68587257     259402.33     319495.87      0.0   \n",
              "3749590             NaN          NaN           NaN           NaN      NaN   \n",
              "\n",
              "         isFlaggedFraud  \n",
              "0                   0.0  \n",
              "1                   0.0  \n",
              "2                   0.0  \n",
              "3                   0.0  \n",
              "4                   0.0  \n",
              "...                 ...  \n",
              "3749586             0.0  \n",
              "3749587             0.0  \n",
              "3749588             0.0  \n",
              "3749589             0.0  \n",
              "3749590             NaN  \n",
              "\n",
              "[3749591 rows x 11 columns]"
            ],
            "text/html": [
              "\n",
              "  <div id=\"df-e8d5a781-0d91-4baf-b2da-bdb4f488bd23\" class=\"colab-df-container\">\n",
              "    <div>\n",
              "<style scoped>\n",
              "    .dataframe tbody tr th:only-of-type {\n",
              "        vertical-align: middle;\n",
              "    }\n",
              "\n",
              "    .dataframe tbody tr th {\n",
              "        vertical-align: top;\n",
              "    }\n",
              "\n",
              "    .dataframe thead th {\n",
              "        text-align: right;\n",
              "    }\n",
              "</style>\n",
              "<table border=\"1\" class=\"dataframe\">\n",
              "  <thead>\n",
              "    <tr style=\"text-align: right;\">\n",
              "      <th></th>\n",
              "      <th>step</th>\n",
              "      <th>type</th>\n",
              "      <th>amount</th>\n",
              "      <th>origin</th>\n",
              "      <th>sender_old_bal</th>\n",
              "      <th>sender_new_bal</th>\n",
              "      <th>dest</th>\n",
              "      <th>dest_old_bal</th>\n",
              "      <th>dest_new_bal</th>\n",
              "      <th>isFraud</th>\n",
              "      <th>isFlaggedFraud</th>\n",
              "    </tr>\n",
              "  </thead>\n",
              "  <tbody>\n",
              "    <tr>\n",
              "      <th>0</th>\n",
              "      <td>1</td>\n",
              "      <td>PAYMENT</td>\n",
              "      <td>9839.64</td>\n",
              "      <td>C1231006815</td>\n",
              "      <td>170136.0</td>\n",
              "      <td>160296.36</td>\n",
              "      <td>M1979787155</td>\n",
              "      <td>0.00</td>\n",
              "      <td>0.00</td>\n",
              "      <td>0.0</td>\n",
              "      <td>0.0</td>\n",
              "    </tr>\n",
              "    <tr>\n",
              "      <th>1</th>\n",
              "      <td>1</td>\n",
              "      <td>PAYMENT</td>\n",
              "      <td>1864.28</td>\n",
              "      <td>C1666544295</td>\n",
              "      <td>21249.0</td>\n",
              "      <td>19384.72</td>\n",
              "      <td>M2044282225</td>\n",
              "      <td>0.00</td>\n",
              "      <td>0.00</td>\n",
              "      <td>0.0</td>\n",
              "      <td>0.0</td>\n",
              "    </tr>\n",
              "    <tr>\n",
              "      <th>2</th>\n",
              "      <td>1</td>\n",
              "      <td>TRANSFER</td>\n",
              "      <td>181.00</td>\n",
              "      <td>C1305486145</td>\n",
              "      <td>181.0</td>\n",
              "      <td>0.00</td>\n",
              "      <td>C553264065</td>\n",
              "      <td>0.00</td>\n",
              "      <td>0.00</td>\n",
              "      <td>1.0</td>\n",
              "      <td>0.0</td>\n",
              "    </tr>\n",
              "    <tr>\n",
              "      <th>3</th>\n",
              "      <td>1</td>\n",
              "      <td>CASH_OUT</td>\n",
              "      <td>181.00</td>\n",
              "      <td>C840083671</td>\n",
              "      <td>181.0</td>\n",
              "      <td>0.00</td>\n",
              "      <td>C38997010</td>\n",
              "      <td>21182.00</td>\n",
              "      <td>0.00</td>\n",
              "      <td>1.0</td>\n",
              "      <td>0.0</td>\n",
              "    </tr>\n",
              "    <tr>\n",
              "      <th>4</th>\n",
              "      <td>1</td>\n",
              "      <td>PAYMENT</td>\n",
              "      <td>11668.14</td>\n",
              "      <td>C2048537720</td>\n",
              "      <td>41554.0</td>\n",
              "      <td>29885.86</td>\n",
              "      <td>M1230701703</td>\n",
              "      <td>0.00</td>\n",
              "      <td>0.00</td>\n",
              "      <td>0.0</td>\n",
              "      <td>0.0</td>\n",
              "    </tr>\n",
              "    <tr>\n",
              "      <th>...</th>\n",
              "      <td>...</td>\n",
              "      <td>...</td>\n",
              "      <td>...</td>\n",
              "      <td>...</td>\n",
              "      <td>...</td>\n",
              "      <td>...</td>\n",
              "      <td>...</td>\n",
              "      <td>...</td>\n",
              "      <td>...</td>\n",
              "      <td>...</td>\n",
              "      <td>...</td>\n",
              "    </tr>\n",
              "    <tr>\n",
              "      <th>3749586</th>\n",
              "      <td>279</td>\n",
              "      <td>CASH_OUT</td>\n",
              "      <td>226716.59</td>\n",
              "      <td>C482321322</td>\n",
              "      <td>0.0</td>\n",
              "      <td>0.00</td>\n",
              "      <td>C30694688</td>\n",
              "      <td>867785.58</td>\n",
              "      <td>1094502.17</td>\n",
              "      <td>0.0</td>\n",
              "      <td>0.0</td>\n",
              "    </tr>\n",
              "    <tr>\n",
              "      <th>3749587</th>\n",
              "      <td>279</td>\n",
              "      <td>CASH_OUT</td>\n",
              "      <td>11672.36</td>\n",
              "      <td>C891215384</td>\n",
              "      <td>0.0</td>\n",
              "      <td>0.00</td>\n",
              "      <td>C393125134</td>\n",
              "      <td>271237.28</td>\n",
              "      <td>282909.64</td>\n",
              "      <td>0.0</td>\n",
              "      <td>0.0</td>\n",
              "    </tr>\n",
              "    <tr>\n",
              "      <th>3749588</th>\n",
              "      <td>279</td>\n",
              "      <td>CASH_OUT</td>\n",
              "      <td>232921.92</td>\n",
              "      <td>C139798161</td>\n",
              "      <td>0.0</td>\n",
              "      <td>0.00</td>\n",
              "      <td>C632504280</td>\n",
              "      <td>379446.17</td>\n",
              "      <td>612368.10</td>\n",
              "      <td>0.0</td>\n",
              "      <td>0.0</td>\n",
              "    </tr>\n",
              "    <tr>\n",
              "      <th>3749589</th>\n",
              "      <td>279</td>\n",
              "      <td>CASH_OUT</td>\n",
              "      <td>60093.54</td>\n",
              "      <td>C1397600788</td>\n",
              "      <td>0.0</td>\n",
              "      <td>0.00</td>\n",
              "      <td>C68587257</td>\n",
              "      <td>259402.33</td>\n",
              "      <td>319495.87</td>\n",
              "      <td>0.0</td>\n",
              "      <td>0.0</td>\n",
              "    </tr>\n",
              "    <tr>\n",
              "      <th>3749590</th>\n",
              "      <td>279</td>\n",
              "      <td>CASH_OUT</td>\n",
              "      <td>248917.54</td>\n",
              "      <td>NaN</td>\n",
              "      <td>NaN</td>\n",
              "      <td>NaN</td>\n",
              "      <td>NaN</td>\n",
              "      <td>NaN</td>\n",
              "      <td>NaN</td>\n",
              "      <td>NaN</td>\n",
              "      <td>NaN</td>\n",
              "    </tr>\n",
              "  </tbody>\n",
              "</table>\n",
              "<p>3749591 rows × 11 columns</p>\n",
              "</div>\n",
              "    <div class=\"colab-df-buttons\">\n",
              "\n",
              "  <div class=\"colab-df-container\">\n",
              "    <button class=\"colab-df-convert\" onclick=\"convertToInteractive('df-e8d5a781-0d91-4baf-b2da-bdb4f488bd23')\"\n",
              "            title=\"Convert this dataframe to an interactive table.\"\n",
              "            style=\"display:none;\">\n",
              "\n",
              "  <svg xmlns=\"http://www.w3.org/2000/svg\" height=\"24px\" viewBox=\"0 -960 960 960\">\n",
              "    <path d=\"M120-120v-720h720v720H120Zm60-500h600v-160H180v160Zm220 220h160v-160H400v160Zm0 220h160v-160H400v160ZM180-400h160v-160H180v160Zm440 0h160v-160H620v160ZM180-180h160v-160H180v160Zm440 0h160v-160H620v160Z\"/>\n",
              "  </svg>\n",
              "    </button>\n",
              "\n",
              "  <style>\n",
              "    .colab-df-container {\n",
              "      display:flex;\n",
              "      gap: 12px;\n",
              "    }\n",
              "\n",
              "    .colab-df-convert {\n",
              "      background-color: #E8F0FE;\n",
              "      border: none;\n",
              "      border-radius: 50%;\n",
              "      cursor: pointer;\n",
              "      display: none;\n",
              "      fill: #1967D2;\n",
              "      height: 32px;\n",
              "      padding: 0 0 0 0;\n",
              "      width: 32px;\n",
              "    }\n",
              "\n",
              "    .colab-df-convert:hover {\n",
              "      background-color: #E2EBFA;\n",
              "      box-shadow: 0px 1px 2px rgba(60, 64, 67, 0.3), 0px 1px 3px 1px rgba(60, 64, 67, 0.15);\n",
              "      fill: #174EA6;\n",
              "    }\n",
              "\n",
              "    .colab-df-buttons div {\n",
              "      margin-bottom: 4px;\n",
              "    }\n",
              "\n",
              "    [theme=dark] .colab-df-convert {\n",
              "      background-color: #3B4455;\n",
              "      fill: #D2E3FC;\n",
              "    }\n",
              "\n",
              "    [theme=dark] .colab-df-convert:hover {\n",
              "      background-color: #434B5C;\n",
              "      box-shadow: 0px 1px 3px 1px rgba(0, 0, 0, 0.15);\n",
              "      filter: drop-shadow(0px 1px 2px rgba(0, 0, 0, 0.3));\n",
              "      fill: #FFFFFF;\n",
              "    }\n",
              "  </style>\n",
              "\n",
              "    <script>\n",
              "      const buttonEl =\n",
              "        document.querySelector('#df-e8d5a781-0d91-4baf-b2da-bdb4f488bd23 button.colab-df-convert');\n",
              "      buttonEl.style.display =\n",
              "        google.colab.kernel.accessAllowed ? 'block' : 'none';\n",
              "\n",
              "      async function convertToInteractive(key) {\n",
              "        const element = document.querySelector('#df-e8d5a781-0d91-4baf-b2da-bdb4f488bd23');\n",
              "        const dataTable =\n",
              "          await google.colab.kernel.invokeFunction('convertToInteractive',\n",
              "                                                    [key], {});\n",
              "        if (!dataTable) return;\n",
              "\n",
              "        const docLinkHtml = 'Like what you see? Visit the ' +\n",
              "          '<a target=\"_blank\" href=https://colab.research.google.com/notebooks/data_table.ipynb>data table notebook</a>'\n",
              "          + ' to learn more about interactive tables.';\n",
              "        element.innerHTML = '';\n",
              "        dataTable['output_type'] = 'display_data';\n",
              "        await google.colab.output.renderOutput(dataTable, element);\n",
              "        const docLink = document.createElement('div');\n",
              "        docLink.innerHTML = docLinkHtml;\n",
              "        element.appendChild(docLink);\n",
              "      }\n",
              "    </script>\n",
              "  </div>\n",
              "\n",
              "\n",
              "<div id=\"df-e66bc888-1608-48ec-b2f7-3373e299ef6a\">\n",
              "  <button class=\"colab-df-quickchart\" onclick=\"quickchart('df-e66bc888-1608-48ec-b2f7-3373e299ef6a')\"\n",
              "            title=\"Suggest charts.\"\n",
              "            style=\"display:none;\">\n",
              "\n",
              "<svg xmlns=\"http://www.w3.org/2000/svg\" height=\"24px\"viewBox=\"0 0 24 24\"\n",
              "     width=\"24px\">\n",
              "    <g>\n",
              "        <path d=\"M19 3H5c-1.1 0-2 .9-2 2v14c0 1.1.9 2 2 2h14c1.1 0 2-.9 2-2V5c0-1.1-.9-2-2-2zM9 17H7v-7h2v7zm4 0h-2V7h2v10zm4 0h-2v-4h2v4z\"/>\n",
              "    </g>\n",
              "</svg>\n",
              "  </button>\n",
              "\n",
              "<style>\n",
              "  .colab-df-quickchart {\n",
              "      --bg-color: #E8F0FE;\n",
              "      --fill-color: #1967D2;\n",
              "      --hover-bg-color: #E2EBFA;\n",
              "      --hover-fill-color: #174EA6;\n",
              "      --disabled-fill-color: #AAA;\n",
              "      --disabled-bg-color: #DDD;\n",
              "  }\n",
              "\n",
              "  [theme=dark] .colab-df-quickchart {\n",
              "      --bg-color: #3B4455;\n",
              "      --fill-color: #D2E3FC;\n",
              "      --hover-bg-color: #434B5C;\n",
              "      --hover-fill-color: #FFFFFF;\n",
              "      --disabled-bg-color: #3B4455;\n",
              "      --disabled-fill-color: #666;\n",
              "  }\n",
              "\n",
              "  .colab-df-quickchart {\n",
              "    background-color: var(--bg-color);\n",
              "    border: none;\n",
              "    border-radius: 50%;\n",
              "    cursor: pointer;\n",
              "    display: none;\n",
              "    fill: var(--fill-color);\n",
              "    height: 32px;\n",
              "    padding: 0;\n",
              "    width: 32px;\n",
              "  }\n",
              "\n",
              "  .colab-df-quickchart:hover {\n",
              "    background-color: var(--hover-bg-color);\n",
              "    box-shadow: 0 1px 2px rgba(60, 64, 67, 0.3), 0 1px 3px 1px rgba(60, 64, 67, 0.15);\n",
              "    fill: var(--button-hover-fill-color);\n",
              "  }\n",
              "\n",
              "  .colab-df-quickchart-complete:disabled,\n",
              "  .colab-df-quickchart-complete:disabled:hover {\n",
              "    background-color: var(--disabled-bg-color);\n",
              "    fill: var(--disabled-fill-color);\n",
              "    box-shadow: none;\n",
              "  }\n",
              "\n",
              "  .colab-df-spinner {\n",
              "    border: 2px solid var(--fill-color);\n",
              "    border-color: transparent;\n",
              "    border-bottom-color: var(--fill-color);\n",
              "    animation:\n",
              "      spin 1s steps(1) infinite;\n",
              "  }\n",
              "\n",
              "  @keyframes spin {\n",
              "    0% {\n",
              "      border-color: transparent;\n",
              "      border-bottom-color: var(--fill-color);\n",
              "      border-left-color: var(--fill-color);\n",
              "    }\n",
              "    20% {\n",
              "      border-color: transparent;\n",
              "      border-left-color: var(--fill-color);\n",
              "      border-top-color: var(--fill-color);\n",
              "    }\n",
              "    30% {\n",
              "      border-color: transparent;\n",
              "      border-left-color: var(--fill-color);\n",
              "      border-top-color: var(--fill-color);\n",
              "      border-right-color: var(--fill-color);\n",
              "    }\n",
              "    40% {\n",
              "      border-color: transparent;\n",
              "      border-right-color: var(--fill-color);\n",
              "      border-top-color: var(--fill-color);\n",
              "    }\n",
              "    60% {\n",
              "      border-color: transparent;\n",
              "      border-right-color: var(--fill-color);\n",
              "    }\n",
              "    80% {\n",
              "      border-color: transparent;\n",
              "      border-right-color: var(--fill-color);\n",
              "      border-bottom-color: var(--fill-color);\n",
              "    }\n",
              "    90% {\n",
              "      border-color: transparent;\n",
              "      border-bottom-color: var(--fill-color);\n",
              "    }\n",
              "  }\n",
              "</style>\n",
              "\n",
              "  <script>\n",
              "    async function quickchart(key) {\n",
              "      const quickchartButtonEl =\n",
              "        document.querySelector('#' + key + ' button');\n",
              "      quickchartButtonEl.disabled = true;  // To prevent multiple clicks.\n",
              "      quickchartButtonEl.classList.add('colab-df-spinner');\n",
              "      try {\n",
              "        const charts = await google.colab.kernel.invokeFunction(\n",
              "            'suggestCharts', [key], {});\n",
              "      } catch (error) {\n",
              "        console.error('Error during call to suggestCharts:', error);\n",
              "      }\n",
              "      quickchartButtonEl.classList.remove('colab-df-spinner');\n",
              "      quickchartButtonEl.classList.add('colab-df-quickchart-complete');\n",
              "    }\n",
              "    (() => {\n",
              "      let quickchartButtonEl =\n",
              "        document.querySelector('#df-e66bc888-1608-48ec-b2f7-3373e299ef6a button');\n",
              "      quickchartButtonEl.style.display =\n",
              "        google.colab.kernel.accessAllowed ? 'block' : 'none';\n",
              "    })();\n",
              "  </script>\n",
              "</div>\n",
              "    </div>\n",
              "  </div>\n"
            ]
          },
          "metadata": {},
          "execution_count": 540
        }
      ]
    },
    {
      "cell_type": "markdown",
      "metadata": {
        "id": "0c23ae86-cd40-4bd3-9e77-fa2b0e6236d7"
      },
      "source": [
        "### Removing non-essential columns"
      ],
      "id": "0c23ae86-cd40-4bd3-9e77-fa2b0e6236d7"
    },
    {
      "cell_type": "code",
      "execution_count": 541,
      "metadata": {
        "id": "658c32a3-9250-4d80-a1a8-20e16e07f9a6"
      },
      "outputs": [],
      "source": [
        "columns_to_drop = ['step', 'isFlaggedFraud']\n",
        "data.drop(columns=columns_to_drop, inplace=True)\n"
      ],
      "id": "658c32a3-9250-4d80-a1a8-20e16e07f9a6"
    },
    {
      "cell_type": "code",
      "source": [
        "data"
      ],
      "metadata": {
        "colab": {
          "base_uri": "https://localhost:8080/",
          "height": 424
        },
        "id": "F5ndJcPbHfDY",
        "outputId": "24916b00-5e09-48ef-83e5-1f9f54ca66c2"
      },
      "id": "F5ndJcPbHfDY",
      "execution_count": 542,
      "outputs": [
        {
          "output_type": "execute_result",
          "data": {
            "text/plain": [
              "             type     amount       origin  sender_old_bal  sender_new_bal  \\\n",
              "0         PAYMENT    9839.64  C1231006815        170136.0       160296.36   \n",
              "1         PAYMENT    1864.28  C1666544295         21249.0        19384.72   \n",
              "2        TRANSFER     181.00  C1305486145           181.0            0.00   \n",
              "3        CASH_OUT     181.00   C840083671           181.0            0.00   \n",
              "4         PAYMENT   11668.14  C2048537720         41554.0        29885.86   \n",
              "...           ...        ...          ...             ...             ...   \n",
              "3749586  CASH_OUT  226716.59   C482321322             0.0            0.00   \n",
              "3749587  CASH_OUT   11672.36   C891215384             0.0            0.00   \n",
              "3749588  CASH_OUT  232921.92   C139798161             0.0            0.00   \n",
              "3749589  CASH_OUT   60093.54  C1397600788             0.0            0.00   \n",
              "3749590  CASH_OUT  248917.54          NaN             NaN             NaN   \n",
              "\n",
              "                dest  dest_old_bal  dest_new_bal  isFraud  \n",
              "0        M1979787155          0.00          0.00      0.0  \n",
              "1        M2044282225          0.00          0.00      0.0  \n",
              "2         C553264065          0.00          0.00      1.0  \n",
              "3          C38997010      21182.00          0.00      1.0  \n",
              "4        M1230701703          0.00          0.00      0.0  \n",
              "...              ...           ...           ...      ...  \n",
              "3749586    C30694688     867785.58    1094502.17      0.0  \n",
              "3749587   C393125134     271237.28     282909.64      0.0  \n",
              "3749588   C632504280     379446.17     612368.10      0.0  \n",
              "3749589    C68587257     259402.33     319495.87      0.0  \n",
              "3749590          NaN           NaN           NaN      NaN  \n",
              "\n",
              "[3749591 rows x 9 columns]"
            ],
            "text/html": [
              "\n",
              "  <div id=\"df-560ce972-8964-4d5a-9e38-2a5cf5911935\" class=\"colab-df-container\">\n",
              "    <div>\n",
              "<style scoped>\n",
              "    .dataframe tbody tr th:only-of-type {\n",
              "        vertical-align: middle;\n",
              "    }\n",
              "\n",
              "    .dataframe tbody tr th {\n",
              "        vertical-align: top;\n",
              "    }\n",
              "\n",
              "    .dataframe thead th {\n",
              "        text-align: right;\n",
              "    }\n",
              "</style>\n",
              "<table border=\"1\" class=\"dataframe\">\n",
              "  <thead>\n",
              "    <tr style=\"text-align: right;\">\n",
              "      <th></th>\n",
              "      <th>type</th>\n",
              "      <th>amount</th>\n",
              "      <th>origin</th>\n",
              "      <th>sender_old_bal</th>\n",
              "      <th>sender_new_bal</th>\n",
              "      <th>dest</th>\n",
              "      <th>dest_old_bal</th>\n",
              "      <th>dest_new_bal</th>\n",
              "      <th>isFraud</th>\n",
              "    </tr>\n",
              "  </thead>\n",
              "  <tbody>\n",
              "    <tr>\n",
              "      <th>0</th>\n",
              "      <td>PAYMENT</td>\n",
              "      <td>9839.64</td>\n",
              "      <td>C1231006815</td>\n",
              "      <td>170136.0</td>\n",
              "      <td>160296.36</td>\n",
              "      <td>M1979787155</td>\n",
              "      <td>0.00</td>\n",
              "      <td>0.00</td>\n",
              "      <td>0.0</td>\n",
              "    </tr>\n",
              "    <tr>\n",
              "      <th>1</th>\n",
              "      <td>PAYMENT</td>\n",
              "      <td>1864.28</td>\n",
              "      <td>C1666544295</td>\n",
              "      <td>21249.0</td>\n",
              "      <td>19384.72</td>\n",
              "      <td>M2044282225</td>\n",
              "      <td>0.00</td>\n",
              "      <td>0.00</td>\n",
              "      <td>0.0</td>\n",
              "    </tr>\n",
              "    <tr>\n",
              "      <th>2</th>\n",
              "      <td>TRANSFER</td>\n",
              "      <td>181.00</td>\n",
              "      <td>C1305486145</td>\n",
              "      <td>181.0</td>\n",
              "      <td>0.00</td>\n",
              "      <td>C553264065</td>\n",
              "      <td>0.00</td>\n",
              "      <td>0.00</td>\n",
              "      <td>1.0</td>\n",
              "    </tr>\n",
              "    <tr>\n",
              "      <th>3</th>\n",
              "      <td>CASH_OUT</td>\n",
              "      <td>181.00</td>\n",
              "      <td>C840083671</td>\n",
              "      <td>181.0</td>\n",
              "      <td>0.00</td>\n",
              "      <td>C38997010</td>\n",
              "      <td>21182.00</td>\n",
              "      <td>0.00</td>\n",
              "      <td>1.0</td>\n",
              "    </tr>\n",
              "    <tr>\n",
              "      <th>4</th>\n",
              "      <td>PAYMENT</td>\n",
              "      <td>11668.14</td>\n",
              "      <td>C2048537720</td>\n",
              "      <td>41554.0</td>\n",
              "      <td>29885.86</td>\n",
              "      <td>M1230701703</td>\n",
              "      <td>0.00</td>\n",
              "      <td>0.00</td>\n",
              "      <td>0.0</td>\n",
              "    </tr>\n",
              "    <tr>\n",
              "      <th>...</th>\n",
              "      <td>...</td>\n",
              "      <td>...</td>\n",
              "      <td>...</td>\n",
              "      <td>...</td>\n",
              "      <td>...</td>\n",
              "      <td>...</td>\n",
              "      <td>...</td>\n",
              "      <td>...</td>\n",
              "      <td>...</td>\n",
              "    </tr>\n",
              "    <tr>\n",
              "      <th>3749586</th>\n",
              "      <td>CASH_OUT</td>\n",
              "      <td>226716.59</td>\n",
              "      <td>C482321322</td>\n",
              "      <td>0.0</td>\n",
              "      <td>0.00</td>\n",
              "      <td>C30694688</td>\n",
              "      <td>867785.58</td>\n",
              "      <td>1094502.17</td>\n",
              "      <td>0.0</td>\n",
              "    </tr>\n",
              "    <tr>\n",
              "      <th>3749587</th>\n",
              "      <td>CASH_OUT</td>\n",
              "      <td>11672.36</td>\n",
              "      <td>C891215384</td>\n",
              "      <td>0.0</td>\n",
              "      <td>0.00</td>\n",
              "      <td>C393125134</td>\n",
              "      <td>271237.28</td>\n",
              "      <td>282909.64</td>\n",
              "      <td>0.0</td>\n",
              "    </tr>\n",
              "    <tr>\n",
              "      <th>3749588</th>\n",
              "      <td>CASH_OUT</td>\n",
              "      <td>232921.92</td>\n",
              "      <td>C139798161</td>\n",
              "      <td>0.0</td>\n",
              "      <td>0.00</td>\n",
              "      <td>C632504280</td>\n",
              "      <td>379446.17</td>\n",
              "      <td>612368.10</td>\n",
              "      <td>0.0</td>\n",
              "    </tr>\n",
              "    <tr>\n",
              "      <th>3749589</th>\n",
              "      <td>CASH_OUT</td>\n",
              "      <td>60093.54</td>\n",
              "      <td>C1397600788</td>\n",
              "      <td>0.0</td>\n",
              "      <td>0.00</td>\n",
              "      <td>C68587257</td>\n",
              "      <td>259402.33</td>\n",
              "      <td>319495.87</td>\n",
              "      <td>0.0</td>\n",
              "    </tr>\n",
              "    <tr>\n",
              "      <th>3749590</th>\n",
              "      <td>CASH_OUT</td>\n",
              "      <td>248917.54</td>\n",
              "      <td>NaN</td>\n",
              "      <td>NaN</td>\n",
              "      <td>NaN</td>\n",
              "      <td>NaN</td>\n",
              "      <td>NaN</td>\n",
              "      <td>NaN</td>\n",
              "      <td>NaN</td>\n",
              "    </tr>\n",
              "  </tbody>\n",
              "</table>\n",
              "<p>3749591 rows × 9 columns</p>\n",
              "</div>\n",
              "    <div class=\"colab-df-buttons\">\n",
              "\n",
              "  <div class=\"colab-df-container\">\n",
              "    <button class=\"colab-df-convert\" onclick=\"convertToInteractive('df-560ce972-8964-4d5a-9e38-2a5cf5911935')\"\n",
              "            title=\"Convert this dataframe to an interactive table.\"\n",
              "            style=\"display:none;\">\n",
              "\n",
              "  <svg xmlns=\"http://www.w3.org/2000/svg\" height=\"24px\" viewBox=\"0 -960 960 960\">\n",
              "    <path d=\"M120-120v-720h720v720H120Zm60-500h600v-160H180v160Zm220 220h160v-160H400v160Zm0 220h160v-160H400v160ZM180-400h160v-160H180v160Zm440 0h160v-160H620v160ZM180-180h160v-160H180v160Zm440 0h160v-160H620v160Z\"/>\n",
              "  </svg>\n",
              "    </button>\n",
              "\n",
              "  <style>\n",
              "    .colab-df-container {\n",
              "      display:flex;\n",
              "      gap: 12px;\n",
              "    }\n",
              "\n",
              "    .colab-df-convert {\n",
              "      background-color: #E8F0FE;\n",
              "      border: none;\n",
              "      border-radius: 50%;\n",
              "      cursor: pointer;\n",
              "      display: none;\n",
              "      fill: #1967D2;\n",
              "      height: 32px;\n",
              "      padding: 0 0 0 0;\n",
              "      width: 32px;\n",
              "    }\n",
              "\n",
              "    .colab-df-convert:hover {\n",
              "      background-color: #E2EBFA;\n",
              "      box-shadow: 0px 1px 2px rgba(60, 64, 67, 0.3), 0px 1px 3px 1px rgba(60, 64, 67, 0.15);\n",
              "      fill: #174EA6;\n",
              "    }\n",
              "\n",
              "    .colab-df-buttons div {\n",
              "      margin-bottom: 4px;\n",
              "    }\n",
              "\n",
              "    [theme=dark] .colab-df-convert {\n",
              "      background-color: #3B4455;\n",
              "      fill: #D2E3FC;\n",
              "    }\n",
              "\n",
              "    [theme=dark] .colab-df-convert:hover {\n",
              "      background-color: #434B5C;\n",
              "      box-shadow: 0px 1px 3px 1px rgba(0, 0, 0, 0.15);\n",
              "      filter: drop-shadow(0px 1px 2px rgba(0, 0, 0, 0.3));\n",
              "      fill: #FFFFFF;\n",
              "    }\n",
              "  </style>\n",
              "\n",
              "    <script>\n",
              "      const buttonEl =\n",
              "        document.querySelector('#df-560ce972-8964-4d5a-9e38-2a5cf5911935 button.colab-df-convert');\n",
              "      buttonEl.style.display =\n",
              "        google.colab.kernel.accessAllowed ? 'block' : 'none';\n",
              "\n",
              "      async function convertToInteractive(key) {\n",
              "        const element = document.querySelector('#df-560ce972-8964-4d5a-9e38-2a5cf5911935');\n",
              "        const dataTable =\n",
              "          await google.colab.kernel.invokeFunction('convertToInteractive',\n",
              "                                                    [key], {});\n",
              "        if (!dataTable) return;\n",
              "\n",
              "        const docLinkHtml = 'Like what you see? Visit the ' +\n",
              "          '<a target=\"_blank\" href=https://colab.research.google.com/notebooks/data_table.ipynb>data table notebook</a>'\n",
              "          + ' to learn more about interactive tables.';\n",
              "        element.innerHTML = '';\n",
              "        dataTable['output_type'] = 'display_data';\n",
              "        await google.colab.output.renderOutput(dataTable, element);\n",
              "        const docLink = document.createElement('div');\n",
              "        docLink.innerHTML = docLinkHtml;\n",
              "        element.appendChild(docLink);\n",
              "      }\n",
              "    </script>\n",
              "  </div>\n",
              "\n",
              "\n",
              "<div id=\"df-d4562542-3d1a-41e9-9d5f-ff438c6db969\">\n",
              "  <button class=\"colab-df-quickchart\" onclick=\"quickchart('df-d4562542-3d1a-41e9-9d5f-ff438c6db969')\"\n",
              "            title=\"Suggest charts.\"\n",
              "            style=\"display:none;\">\n",
              "\n",
              "<svg xmlns=\"http://www.w3.org/2000/svg\" height=\"24px\"viewBox=\"0 0 24 24\"\n",
              "     width=\"24px\">\n",
              "    <g>\n",
              "        <path d=\"M19 3H5c-1.1 0-2 .9-2 2v14c0 1.1.9 2 2 2h14c1.1 0 2-.9 2-2V5c0-1.1-.9-2-2-2zM9 17H7v-7h2v7zm4 0h-2V7h2v10zm4 0h-2v-4h2v4z\"/>\n",
              "    </g>\n",
              "</svg>\n",
              "  </button>\n",
              "\n",
              "<style>\n",
              "  .colab-df-quickchart {\n",
              "      --bg-color: #E8F0FE;\n",
              "      --fill-color: #1967D2;\n",
              "      --hover-bg-color: #E2EBFA;\n",
              "      --hover-fill-color: #174EA6;\n",
              "      --disabled-fill-color: #AAA;\n",
              "      --disabled-bg-color: #DDD;\n",
              "  }\n",
              "\n",
              "  [theme=dark] .colab-df-quickchart {\n",
              "      --bg-color: #3B4455;\n",
              "      --fill-color: #D2E3FC;\n",
              "      --hover-bg-color: #434B5C;\n",
              "      --hover-fill-color: #FFFFFF;\n",
              "      --disabled-bg-color: #3B4455;\n",
              "      --disabled-fill-color: #666;\n",
              "  }\n",
              "\n",
              "  .colab-df-quickchart {\n",
              "    background-color: var(--bg-color);\n",
              "    border: none;\n",
              "    border-radius: 50%;\n",
              "    cursor: pointer;\n",
              "    display: none;\n",
              "    fill: var(--fill-color);\n",
              "    height: 32px;\n",
              "    padding: 0;\n",
              "    width: 32px;\n",
              "  }\n",
              "\n",
              "  .colab-df-quickchart:hover {\n",
              "    background-color: var(--hover-bg-color);\n",
              "    box-shadow: 0 1px 2px rgba(60, 64, 67, 0.3), 0 1px 3px 1px rgba(60, 64, 67, 0.15);\n",
              "    fill: var(--button-hover-fill-color);\n",
              "  }\n",
              "\n",
              "  .colab-df-quickchart-complete:disabled,\n",
              "  .colab-df-quickchart-complete:disabled:hover {\n",
              "    background-color: var(--disabled-bg-color);\n",
              "    fill: var(--disabled-fill-color);\n",
              "    box-shadow: none;\n",
              "  }\n",
              "\n",
              "  .colab-df-spinner {\n",
              "    border: 2px solid var(--fill-color);\n",
              "    border-color: transparent;\n",
              "    border-bottom-color: var(--fill-color);\n",
              "    animation:\n",
              "      spin 1s steps(1) infinite;\n",
              "  }\n",
              "\n",
              "  @keyframes spin {\n",
              "    0% {\n",
              "      border-color: transparent;\n",
              "      border-bottom-color: var(--fill-color);\n",
              "      border-left-color: var(--fill-color);\n",
              "    }\n",
              "    20% {\n",
              "      border-color: transparent;\n",
              "      border-left-color: var(--fill-color);\n",
              "      border-top-color: var(--fill-color);\n",
              "    }\n",
              "    30% {\n",
              "      border-color: transparent;\n",
              "      border-left-color: var(--fill-color);\n",
              "      border-top-color: var(--fill-color);\n",
              "      border-right-color: var(--fill-color);\n",
              "    }\n",
              "    40% {\n",
              "      border-color: transparent;\n",
              "      border-right-color: var(--fill-color);\n",
              "      border-top-color: var(--fill-color);\n",
              "    }\n",
              "    60% {\n",
              "      border-color: transparent;\n",
              "      border-right-color: var(--fill-color);\n",
              "    }\n",
              "    80% {\n",
              "      border-color: transparent;\n",
              "      border-right-color: var(--fill-color);\n",
              "      border-bottom-color: var(--fill-color);\n",
              "    }\n",
              "    90% {\n",
              "      border-color: transparent;\n",
              "      border-bottom-color: var(--fill-color);\n",
              "    }\n",
              "  }\n",
              "</style>\n",
              "\n",
              "  <script>\n",
              "    async function quickchart(key) {\n",
              "      const quickchartButtonEl =\n",
              "        document.querySelector('#' + key + ' button');\n",
              "      quickchartButtonEl.disabled = true;  // To prevent multiple clicks.\n",
              "      quickchartButtonEl.classList.add('colab-df-spinner');\n",
              "      try {\n",
              "        const charts = await google.colab.kernel.invokeFunction(\n",
              "            'suggestCharts', [key], {});\n",
              "      } catch (error) {\n",
              "        console.error('Error during call to suggestCharts:', error);\n",
              "      }\n",
              "      quickchartButtonEl.classList.remove('colab-df-spinner');\n",
              "      quickchartButtonEl.classList.add('colab-df-quickchart-complete');\n",
              "    }\n",
              "    (() => {\n",
              "      let quickchartButtonEl =\n",
              "        document.querySelector('#df-d4562542-3d1a-41e9-9d5f-ff438c6db969 button');\n",
              "      quickchartButtonEl.style.display =\n",
              "        google.colab.kernel.accessAllowed ? 'block' : 'none';\n",
              "    })();\n",
              "  </script>\n",
              "</div>\n",
              "    </div>\n",
              "  </div>\n"
            ]
          },
          "metadata": {},
          "execution_count": 542
        }
      ]
    },
    {
      "cell_type": "markdown",
      "metadata": {
        "id": "072241c8-4b0f-4638-bf83-71999dc4d82d"
      },
      "source": [
        "## Data Analysis"
      ],
      "id": "072241c8-4b0f-4638-bf83-71999dc4d82d"
    },
    {
      "cell_type": "markdown",
      "metadata": {
        "id": "8cf61e65-7ff3-42ce-a9dd-18cbbe3927c6"
      },
      "source": [
        "### Visualizing fraud occurances"
      ],
      "id": "8cf61e65-7ff3-42ce-a9dd-18cbbe3927c6"
    },
    {
      "cell_type": "code",
      "execution_count": 543,
      "metadata": {
        "id": "94fe6955-b24f-4188-a04d-39de3975b3a5"
      },
      "outputs": [],
      "source": [
        "def plot_fraud_by_transaction_type(data):\n",
        "    plt.figure(figsize=(15, 8))\n",
        "    g = sns.countplot(data=data, x='type', hue='isFraud', palette='dark', alpha=0.6)\n",
        "    plt.title(\"Checking for fraud occurrences for each Transaction types\")\n",
        "\n",
        "    # Finding counts and annotating\n",
        "    annotate_counts(g)"
      ],
      "id": "94fe6955-b24f-4188-a04d-39de3975b3a5"
    },
    {
      "cell_type": "code",
      "source": [
        "def annotate_counts(ax):\n",
        "    for p in ax.patches:\n",
        "        ax.annotate(p.get_height(), (p.get_x() + 0.04, p.get_height() + 10000))\n"
      ],
      "metadata": {
        "id": "JcZVx0vDH_sT"
      },
      "id": "JcZVx0vDH_sT",
      "execution_count": 544,
      "outputs": []
    },
    {
      "cell_type": "code",
      "source": [
        "plot_fraud_by_transaction_type(data)\n",
        "plt.show()"
      ],
      "metadata": {
        "colab": {
          "base_uri": "https://localhost:8080/",
          "height": 718
        },
        "id": "mt8KeCdOH9OB",
        "outputId": "55959965-66d1-40d5-b59a-83a2f2925379"
      },
      "id": "mt8KeCdOH9OB",
      "execution_count": 545,
      "outputs": [
        {
          "output_type": "display_data",
          "data": {
            "text/plain": [
              "<Figure size 1500x800 with 1 Axes>"
            ],
            "image/png": "[encoded data removed]"
          },
          "metadata": {}
        }
      ]
    },
    {
      "cell_type": "markdown",
      "metadata": {
        "id": "5e5105d0-3cba-48de-9afb-22ff10940a27"
      },
      "source": [
        "### Accounts involved in fraud transactions"
      ],
      "id": "5e5105d0-3cba-48de-9afb-22ff10940a27"
    },
    {
      "cell_type": "markdown",
      "metadata": {
        "id": "cc72c940-fe2d-423f-b35a-0d91ad792cea"
      },
      "source": [
        "#### Checking origin accounts (and if same account has been used for multiple fraudulent transactions)"
      ],
      "id": "cc72c940-fe2d-423f-b35a-0d91ad792cea"
    },
    {
      "cell_type": "markdown",
      "metadata": {
        "id": "a14d7dc8-1abb-48d4-9f76-b8af7370ff8e"
      },
      "source": [
        "##### For type 'Transfer'"
      ],
      "id": "a14d7dc8-1abb-48d4-9f76-b8af7370ff8e"
    },
    {
      "cell_type": "code",
      "execution_count": 546,
      "metadata": {
        "id": "5c25a500-e783-41e2-963b-dca821a6a3dd"
      },
      "outputs": [],
      "source": [
        "transfer_fraud = data[(data['type'] == 'TRANSFER') & (data['isFraud'] == 1)]\n",
        "transfer_fraud_counts = data[(data['type'] == 'TRANSFER') & (data['isFraud'] == 1)]['origin'].value_counts()"
      ],
      "id": "5c25a500-e783-41e2-963b-dca821a6a3dd"
    },
    {
      "cell_type": "code",
      "execution_count": 547,
      "metadata": {
        "id": "4dc208cc-87a8-4341-8094-3f77629b6bbe",
        "colab": {
          "base_uri": "https://localhost:8080/"
        },
        "outputId": "b7f9f6b5-1279-474a-eb62-f692aeb197e0"
      },
      "outputs": [
        {
          "output_type": "execute_result",
          "data": {
            "text/plain": [
              "C1305486145    1\n",
              "C1644806560    1\n",
              "C1089670756    1\n",
              "C1132083905    1\n",
              "C71755087      1\n",
              "              ..\n",
              "C1864352304    1\n",
              "C1872678613    1\n",
              "C702109004     1\n",
              "C759761137     1\n",
              "C1819955276    1\n",
              "Name: origin, Length: 1569, dtype: int64"
            ]
          },
          "metadata": {},
          "execution_count": 547
        }
      ],
      "source": [
        "transfer_fraud_counts"
      ],
      "id": "4dc208cc-87a8-4341-8094-3f77629b6bbe"
    },
    {
      "cell_type": "markdown",
      "metadata": {
        "id": "826dbf07-e1fe-4b06-8209-73a25634599f"
      },
      "source": [
        "##### For type 'CashOut'"
      ],
      "id": "826dbf07-e1fe-4b06-8209-73a25634599f"
    },
    {
      "cell_type": "code",
      "execution_count": 548,
      "metadata": {
        "id": "7573ebeb-1d14-454c-9645-76575b6885f2",
        "colab": {
          "base_uri": "https://localhost:8080/"
        },
        "outputId": "e83c39d3-2be7-4b47-d4ea-388b8c67131d"
      },
      "outputs": [
        {
          "output_type": "execute_result",
          "data": {
            "text/plain": [
              "C840083671     1\n",
              "C1705629934    1\n",
              "C1581439980    1\n",
              "C721676184     1\n",
              "C1217101602    1\n",
              "              ..\n",
              "C849209216     1\n",
              "C538142346     1\n",
              "C337026029     1\n",
              "C1227042704    1\n",
              "C1955555137    1\n",
              "Name: origin, Length: 1588, dtype: int64"
            ]
          },
          "metadata": {},
          "execution_count": 548
        }
      ],
      "source": [
        "cashOut_fraud = data[(data['type']=='CASH_OUT') & (data['isFraud']==1)]\n",
        "cashOut_fraud_count = data[(data['type']=='CASH_OUT') & (data['isFraud']==1)]['origin'].value_counts()\n",
        "\n",
        "cashOut_fraud_count"
      ],
      "id": "7573ebeb-1d14-454c-9645-76575b6885f2"
    },
    {
      "cell_type": "code",
      "execution_count": 548,
      "metadata": {
        "id": "1b9cb189-3ffe-4fe3-990b-4e1324ec10cc"
      },
      "outputs": [],
      "source": [],
      "id": "1b9cb189-3ffe-4fe3-990b-4e1324ec10cc"
    },
    {
      "cell_type": "markdown",
      "metadata": {
        "id": "e0a8ce5a-c2a6-4f44-806e-1c037d6969b9"
      },
      "source": [
        "#### Checking destination accounts (and if same account has been used for multiple fraudulent transactions)"
      ],
      "id": "e0a8ce5a-c2a6-4f44-806e-1c037d6969b9"
    },
    {
      "cell_type": "markdown",
      "metadata": {
        "id": "62699c00-79bb-4887-91e4-41f315ad0eb2"
      },
      "source": [
        "##### For type 'Transfer'"
      ],
      "id": "62699c00-79bb-4887-91e4-41f315ad0eb2"
    },
    {
      "cell_type": "code",
      "execution_count": 549,
      "metadata": {
        "id": "8b147fda-1e4b-4764-990f-0ebbf22b93c8",
        "colab": {
          "base_uri": "https://localhost:8080/"
        },
        "outputId": "6e05d492-989b-46e8-c55e-630b046793a6"
      },
      "outputs": [
        {
          "output_type": "execute_result",
          "data": {
            "text/plain": [
              "C553264065     1\n",
              "C1111727092    1\n",
              "C747932688     1\n",
              "C955198432     1\n",
              "C1714094966    1\n",
              "              ..\n",
              "C238575749     1\n",
              "C1669827303    1\n",
              "C1385287774    1\n",
              "C1046167270    1\n",
              "C1376329806    1\n",
              "Name: dest, Length: 1569, dtype: int64"
            ]
          },
          "metadata": {},
          "execution_count": 549
        }
      ],
      "source": [
        "transfer_fraud['dest'].value_counts()"
      ],
      "id": "8b147fda-1e4b-4764-990f-0ebbf22b93c8"
    },
    {
      "cell_type": "markdown",
      "metadata": {
        "id": "b5a8b846-fedd-43e8-93a7-777ddede21d9"
      },
      "source": [
        "##### For type 'CashOut'"
      ],
      "id": "b5a8b846-fedd-43e8-93a7-777ddede21d9"
    },
    {
      "cell_type": "code",
      "execution_count": 550,
      "metadata": {
        "id": "3c65c8a2-5a46-4407-b5da-37fe209cca60",
        "colab": {
          "base_uri": "https://localhost:8080/"
        },
        "outputId": "0f185f4b-abaf-44ec-ff94-c98dfa68252d"
      },
      "outputs": [
        {
          "output_type": "execute_result",
          "data": {
            "text/plain": [
              "C644163395     2\n",
              "C1013511446    2\n",
              "C2129197098    2\n",
              "C1981613973    2\n",
              "C185805228     2\n",
              "              ..\n",
              "C121215038     1\n",
              "C950019767     1\n",
              "C1743229382    1\n",
              "C976082192     1\n",
              "C1535626226    1\n",
              "Name: dest, Length: 1580, dtype: int64"
            ]
          },
          "metadata": {},
          "execution_count": 550
        }
      ],
      "source": [
        "cashOut_fraud['dest'].value_counts()"
      ],
      "id": "3c65c8a2-5a46-4407-b5da-37fe209cca60"
    },
    {
      "cell_type": "markdown",
      "metadata": {
        "id": "c6f2b058-4063-4134-a15b-a782cfb8a129"
      },
      "source": [
        "### Checking if transfer destination account used for cashing out (for fraud cases)"
      ],
      "id": "c6f2b058-4063-4134-a15b-a782cfb8a129"
    },
    {
      "cell_type": "code",
      "source": [
        "is_dest_in_cashout_origin = transfer_fraud['dest'].isin(cashOut_fraud['origin']).any()\n",
        "trans_cashout = data[data['type'] == 'TRANSFER']\n",
        "is_dest_in_trans_cashout_origin = transfer_fraud['dest'].isin(trans_cashout['origin']).any()\n",
        "count_dest_in_trans_cashout_origin = transfer_fraud['dest'].isin(trans_cashout['origin']).sum()\n",
        "print(f\"Is destination in cashOut origin? {is_dest_in_cashout_origin}\")\n",
        "print(f\"Is destination in trans_cashout origin? {is_dest_in_trans_cashout_origin}\")\n",
        "print(f\"Count of destinations in trans_cashout origin: {transfer_fraud.dest.isin(trans_cashout.origin).count()}\")"
      ],
      "metadata": {
        "colab": {
          "base_uri": "https://localhost:8080/"
        },
        "id": "SXJE3eP9prVH",
        "outputId": "290178b9-e846-40cb-9f33-7acd7885363f"
      },
      "id": "SXJE3eP9prVH",
      "execution_count": 551,
      "outputs": [
        {
          "output_type": "stream",
          "name": "stdout",
          "text": [
            "Is destination in cashOut origin? False\n",
            "Is destination in trans_cashout origin? False\n",
            "Count of destinations in trans_cashout origin: 1569\n"
          ]
        }
      ]
    },
    {
      "cell_type": "markdown",
      "metadata": {
        "id": "8e4c6723-48e4-4680-a057-672f9924464d"
      },
      "source": [
        "### Insights"
      ],
      "id": "8e4c6723-48e4-4680-a057-672f9924464d"
    },
    {
      "cell_type": "markdown",
      "metadata": {
        "id": "99ba426c-9898-4653-9838-cd60d5a39b6e"
      },
      "source": [
        "<ul>\n",
        "    <li>Fraud Transactions are seen only for 'TRANSFER' (4097 occurances) and 'CASH_OUT' (4116 occurances) types</li>\n",
        "    <li>Fraud tranasactions are usually to and from customers</li>\n",
        "    <li>Recipient accounts fraud 'TRANSFER' cases were -</li>\n",
        "    <ul>\n",
        "        <li>not involved in any fraudulent cash withdrawals</li>\n",
        "        <li>4097 times used to make valid cash withdrawals</li>\n",
        "    </ul>\n",
        "</ul>"
      ],
      "id": "99ba426c-9898-4653-9838-cd60d5a39b6e"
    },
    {
      "cell_type": "markdown",
      "metadata": {
        "id": "40906521-b4be-4e55-8609-7e8e8e53096e"
      },
      "source": [
        "## Feature Engineering"
      ],
      "id": "40906521-b4be-4e55-8609-7e8e8e53096e"
    },
    {
      "cell_type": "markdown",
      "metadata": {
        "id": "702c52bf-ecbc-4575-8f5c-aa972111802d"
      },
      "source": [
        "### Creating new column client_type having 4 categories and dropping 'origin' and 'dest'"
      ],
      "id": "702c52bf-ecbc-4575-8f5c-aa972111802d"
    },
    {
      "cell_type": "markdown",
      "metadata": {
        "id": "e0f58e5e-f8cd-484a-8df6-c9009b257f32"
      },
      "source": [
        "<ul>\n",
        "    <li>CC - Customer to Customer</li>\n",
        "    <li>CM - Customer to Merchant</li>\n",
        "    <li>MC - Merchant to Customer</li>\n",
        "    <li>MM - Merchant to Merchant</li>\n",
        "</ul>"
      ],
      "id": "e0f58e5e-f8cd-484a-8df6-c9009b257f32"
    },
    {
      "cell_type": "markdown",
      "metadata": {
        "id": "4f9bc0c9-256b-4df1-98fa-c8e317f18b9c"
      },
      "source": [
        "#### Adding 'client_type' column"
      ],
      "id": "4f9bc0c9-256b-4df1-98fa-c8e317f18b9c"
    },
    {
      "cell_type": "code",
      "execution_count": 552,
      "metadata": {
        "id": "70e875d7-853b-4f0a-8ff4-fd28ce829dc6"
      },
      "outputs": [],
      "source": [
        "conditions = [\n",
        "    (data['origin'].str.contains('C')) & (data['dest'].str.contains('C')),\n",
        "    (data['origin'].str.contains('C')) & (data['dest'].str.contains('M')),\n",
        "    (data['origin'].str.contains('M')) & (data['dest'].str.contains('C')),\n",
        "    (data['origin'].str.contains('M')) & (data['dest'].str.contains('M'))\n",
        "]\n",
        "\n",
        "choices = ['CC', 'CM', 'MC', 'MM']\n",
        "\n",
        "data['client_type'] = np.select(conditions, choices, default=np.nan)"
      ],
      "id": "70e875d7-853b-4f0a-8ff4-fd28ce829dc6"
    },
    {
      "cell_type": "markdown",
      "metadata": {
        "id": "d2a955b1-da41-480d-8bc6-80ad7d8faafa"
      },
      "source": [
        "#### Dropping 'origin' and 'dest'"
      ],
      "id": "d2a955b1-da41-480d-8bc6-80ad7d8faafa"
    },
    {
      "cell_type": "code",
      "execution_count": 553,
      "metadata": {
        "id": "b709dbeb-5cf5-4e15-9f77-08d9fc41a443"
      },
      "outputs": [],
      "source": [
        "data.drop(columns = ['origin', 'dest'], axis = 'columns', inplace = True)"
      ],
      "id": "b709dbeb-5cf5-4e15-9f77-08d9fc41a443"
    },
    {
      "cell_type": "code",
      "execution_count": 554,
      "metadata": {
        "id": "66ee385f-ec13-4fd0-ad8f-9117cd5cf86a",
        "colab": {
          "base_uri": "https://localhost:8080/",
          "height": 424
        },
        "outputId": "56b78ce4-e285-449e-8c95-940047de2f45"
      },
      "outputs": [
        {
          "output_type": "execute_result",
          "data": {
            "text/plain": [
              "             type     amount  sender_old_bal  sender_new_bal  dest_old_bal  \\\n",
              "0         PAYMENT    9839.64        170136.0       160296.36          0.00   \n",
              "1         PAYMENT    1864.28         21249.0        19384.72          0.00   \n",
              "2        TRANSFER     181.00           181.0            0.00          0.00   \n",
              "3        CASH_OUT     181.00           181.0            0.00      21182.00   \n",
              "4         PAYMENT   11668.14         41554.0        29885.86          0.00   \n",
              "...           ...        ...             ...             ...           ...   \n",
              "3749586  CASH_OUT  226716.59             0.0            0.00     867785.58   \n",
              "3749587  CASH_OUT   11672.36             0.0            0.00     271237.28   \n",
              "3749588  CASH_OUT  232921.92             0.0            0.00     379446.17   \n",
              "3749589  CASH_OUT   60093.54             0.0            0.00     259402.33   \n",
              "3749590  CASH_OUT  248917.54             NaN             NaN           NaN   \n",
              "\n",
              "         dest_new_bal  isFraud client_type  \n",
              "0                0.00      0.0          CM  \n",
              "1                0.00      0.0          CM  \n",
              "2                0.00      1.0          CC  \n",
              "3                0.00      1.0          CC  \n",
              "4                0.00      0.0          CM  \n",
              "...               ...      ...         ...  \n",
              "3749586    1094502.17      0.0          CC  \n",
              "3749587     282909.64      0.0          CC  \n",
              "3749588     612368.10      0.0          CC  \n",
              "3749589     319495.87      0.0          CC  \n",
              "3749590           NaN      NaN         nan  \n",
              "\n",
              "[3749591 rows x 8 columns]"
            ],
            "text/html": [
              "\n",
              "  <div id=\"df-84a593bf-19b0-4928-936a-14dacd0fd838\" class=\"colab-df-container\">\n",
              "    <div>\n",
              "<style scoped>\n",
              "    .dataframe tbody tr th:only-of-type {\n",
              "        vertical-align: middle;\n",
              "    }\n",
              "\n",
              "    .dataframe tbody tr th {\n",
              "        vertical-align: top;\n",
              "    }\n",
              "\n",
              "    .dataframe thead th {\n",
              "        text-align: right;\n",
              "    }\n",
              "</style>\n",
              "<table border=\"1\" class=\"dataframe\">\n",
              "  <thead>\n",
              "    <tr style=\"text-align: right;\">\n",
              "      <th></th>\n",
              "      <th>type</th>\n",
              "      <th>amount</th>\n",
              "      <th>sender_old_bal</th>\n",
              "      <th>sender_new_bal</th>\n",
              "      <th>dest_old_bal</th>\n",
              "      <th>dest_new_bal</th>\n",
              "      <th>isFraud</th>\n",
              "      <th>client_type</th>\n",
              "    </tr>\n",
              "  </thead>\n",
              "  <tbody>\n",
              "    <tr>\n",
              "      <th>0</th>\n",
              "      <td>PAYMENT</td>\n",
              "      <td>9839.64</td>\n",
              "      <td>170136.0</td>\n",
              "      <td>160296.36</td>\n",
              "      <td>0.00</td>\n",
              "      <td>0.00</td>\n",
              "      <td>0.0</td>\n",
              "      <td>CM</td>\n",
              "    </tr>\n",
              "    <tr>\n",
              "      <th>1</th>\n",
              "      <td>PAYMENT</td>\n",
              "      <td>1864.28</td>\n",
              "      <td>21249.0</td>\n",
              "      <td>19384.72</td>\n",
              "      <td>0.00</td>\n",
              "      <td>0.00</td>\n",
              "      <td>0.0</td>\n",
              "      <td>CM</td>\n",
              "    </tr>\n",
              "    <tr>\n",
              "      <th>2</th>\n",
              "      <td>TRANSFER</td>\n",
              "      <td>181.00</td>\n",
              "      <td>181.0</td>\n",
              "      <td>0.00</td>\n",
              "      <td>0.00</td>\n",
              "      <td>0.00</td>\n",
              "      <td>1.0</td>\n",
              "      <td>CC</td>\n",
              "    </tr>\n",
              "    <tr>\n",
              "      <th>3</th>\n",
              "      <td>CASH_OUT</td>\n",
              "      <td>181.00</td>\n",
              "      <td>181.0</td>\n",
              "      <td>0.00</td>\n",
              "      <td>21182.00</td>\n",
              "      <td>0.00</td>\n",
              "      <td>1.0</td>\n",
              "      <td>CC</td>\n",
              "    </tr>\n",
              "    <tr>\n",
              "      <th>4</th>\n",
              "      <td>PAYMENT</td>\n",
              "      <td>11668.14</td>\n",
              "      <td>41554.0</td>\n",
              "      <td>29885.86</td>\n",
              "      <td>0.00</td>\n",
              "      <td>0.00</td>\n",
              "      <td>0.0</td>\n",
              "      <td>CM</td>\n",
              "    </tr>\n",
              "    <tr>\n",
              "      <th>...</th>\n",
              "      <td>...</td>\n",
              "      <td>...</td>\n",
              "      <td>...</td>\n",
              "      <td>...</td>\n",
              "      <td>...</td>\n",
              "      <td>...</td>\n",
              "      <td>...</td>\n",
              "      <td>...</td>\n",
              "    </tr>\n",
              "    <tr>\n",
              "      <th>3749586</th>\n",
              "      <td>CASH_OUT</td>\n",
              "      <td>226716.59</td>\n",
              "      <td>0.0</td>\n",
              "      <td>0.00</td>\n",
              "      <td>867785.58</td>\n",
              "      <td>1094502.17</td>\n",
              "      <td>0.0</td>\n",
              "      <td>CC</td>\n",
              "    </tr>\n",
              "    <tr>\n",
              "      <th>3749587</th>\n",
              "      <td>CASH_OUT</td>\n",
              "      <td>11672.36</td>\n",
              "      <td>0.0</td>\n",
              "      <td>0.00</td>\n",
              "      <td>271237.28</td>\n",
              "      <td>282909.64</td>\n",
              "      <td>0.0</td>\n",
              "      <td>CC</td>\n",
              "    </tr>\n",
              "    <tr>\n",
              "      <th>3749588</th>\n",
              "      <td>CASH_OUT</td>\n",
              "      <td>232921.92</td>\n",
              "      <td>0.0</td>\n",
              "      <td>0.00</td>\n",
              "      <td>379446.17</td>\n",
              "      <td>612368.10</td>\n",
              "      <td>0.0</td>\n",
              "      <td>CC</td>\n",
              "    </tr>\n",
              "    <tr>\n",
              "      <th>3749589</th>\n",
              "      <td>CASH_OUT</td>\n",
              "      <td>60093.54</td>\n",
              "      <td>0.0</td>\n",
              "      <td>0.00</td>\n",
              "      <td>259402.33</td>\n",
              "      <td>319495.87</td>\n",
              "      <td>0.0</td>\n",
              "      <td>CC</td>\n",
              "    </tr>\n",
              "    <tr>\n",
              "      <th>3749590</th>\n",
              "      <td>CASH_OUT</td>\n",
              "      <td>248917.54</td>\n",
              "      <td>NaN</td>\n",
              "      <td>NaN</td>\n",
              "      <td>NaN</td>\n",
              "      <td>NaN</td>\n",
              "      <td>NaN</td>\n",
              "      <td>nan</td>\n",
              "    </tr>\n",
              "  </tbody>\n",
              "</table>\n",
              "<p>3749591 rows × 8 columns</p>\n",
              "</div>\n",
              "    <div class=\"colab-df-buttons\">\n",
              "\n",
              "  <div class=\"colab-df-container\">\n",
              "    <button class=\"colab-df-convert\" onclick=\"convertToInteractive('df-84a593bf-19b0-4928-936a-14dacd0fd838')\"\n",
              "            title=\"Convert this dataframe to an interactive table.\"\n",
              "            style=\"display:none;\">\n",
              "\n",
              "  <svg xmlns=\"http://www.w3.org/2000/svg\" height=\"24px\" viewBox=\"0 -960 960 960\">\n",
              "    <path d=\"M120-120v-720h720v720H120Zm60-500h600v-160H180v160Zm220 220h160v-160H400v160Zm0 220h160v-160H400v160ZM180-400h160v-160H180v160Zm440 0h160v-160H620v160ZM180-180h160v-160H180v160Zm440 0h160v-160H620v160Z\"/>\n",
              "  </svg>\n",
              "    </button>\n",
              "\n",
              "  <style>\n",
              "    .colab-df-container {\n",
              "      display:flex;\n",
              "      gap: 12px;\n",
              "    }\n",
              "\n",
              "    .colab-df-convert {\n",
              "      background-color: #E8F0FE;\n",
              "      border: none;\n",
              "      border-radius: 50%;\n",
              "      cursor: pointer;\n",
              "      display: none;\n",
              "      fill: #1967D2;\n",
              "      height: 32px;\n",
              "      padding: 0 0 0 0;\n",
              "      width: 32px;\n",
              "    }\n",
              "\n",
              "    .colab-df-convert:hover {\n",
              "      background-color: #E2EBFA;\n",
              "      box-shadow: 0px 1px 2px rgba(60, 64, 67, 0.3), 0px 1px 3px 1px rgba(60, 64, 67, 0.15);\n",
              "      fill: #174EA6;\n",
              "    }\n",
              "\n",
              "    .colab-df-buttons div {\n",
              "      margin-bottom: 4px;\n",
              "    }\n",
              "\n",
              "    [theme=dark] .colab-df-convert {\n",
              "      background-color: #3B4455;\n",
              "      fill: #D2E3FC;\n",
              "    }\n",
              "\n",
              "    [theme=dark] .colab-df-convert:hover {\n",
              "      background-color: #434B5C;\n",
              "      box-shadow: 0px 1px 3px 1px rgba(0, 0, 0, 0.15);\n",
              "      filter: drop-shadow(0px 1px 2px rgba(0, 0, 0, 0.3));\n",
              "      fill: #FFFFFF;\n",
              "    }\n",
              "  </style>\n",
              "\n",
              "    <script>\n",
              "      const buttonEl =\n",
              "        document.querySelector('#df-84a593bf-19b0-4928-936a-14dacd0fd838 button.colab-df-convert');\n",
              "      buttonEl.style.display =\n",
              "        google.colab.kernel.accessAllowed ? 'block' : 'none';\n",
              "\n",
              "      async function convertToInteractive(key) {\n",
              "        const element = document.querySelector('#df-84a593bf-19b0-4928-936a-14dacd0fd838');\n",
              "        const dataTable =\n",
              "          await google.colab.kernel.invokeFunction('convertToInteractive',\n",
              "                                                    [key], {});\n",
              "        if (!dataTable) return;\n",
              "\n",
              "        const docLinkHtml = 'Like what you see? Visit the ' +\n",
              "          '<a target=\"_blank\" href=https://colab.research.google.com/notebooks/data_table.ipynb>data table notebook</a>'\n",
              "          + ' to learn more about interactive tables.';\n",
              "        element.innerHTML = '';\n",
              "        dataTable['output_type'] = 'display_data';\n",
              "        await google.colab.output.renderOutput(dataTable, element);\n",
              "        const docLink = document.createElement('div');\n",
              "        docLink.innerHTML = docLinkHtml;\n",
              "        element.appendChild(docLink);\n",
              "      }\n",
              "    </script>\n",
              "  </div>\n",
              "\n",
              "\n",
              "<div id=\"df-a4351f6d-4255-45e1-ba26-5faa7cd878aa\">\n",
              "  <button class=\"colab-df-quickchart\" onclick=\"quickchart('df-a4351f6d-4255-45e1-ba26-5faa7cd878aa')\"\n",
              "            title=\"Suggest charts.\"\n",
              "            style=\"display:none;\">\n",
              "\n",
              "<svg xmlns=\"http://www.w3.org/2000/svg\" height=\"24px\"viewBox=\"0 0 24 24\"\n",
              "     width=\"24px\">\n",
              "    <g>\n",
              "        <path d=\"M19 3H5c-1.1 0-2 .9-2 2v14c0 1.1.9 2 2 2h14c1.1 0 2-.9 2-2V5c0-1.1-.9-2-2-2zM9 17H7v-7h2v7zm4 0h-2V7h2v10zm4 0h-2v-4h2v4z\"/>\n",
              "    </g>\n",
              "</svg>\n",
              "  </button>\n",
              "\n",
              "<style>\n",
              "  .colab-df-quickchart {\n",
              "      --bg-color: #E8F0FE;\n",
              "      --fill-color: #1967D2;\n",
              "      --hover-bg-color: #E2EBFA;\n",
              "      --hover-fill-color: #174EA6;\n",
              "      --disabled-fill-color: #AAA;\n",
              "      --disabled-bg-color: #DDD;\n",
              "  }\n",
              "\n",
              "  [theme=dark] .colab-df-quickchart {\n",
              "      --bg-color: #3B4455;\n",
              "      --fill-color: #D2E3FC;\n",
              "      --hover-bg-color: #434B5C;\n",
              "      --hover-fill-color: #FFFFFF;\n",
              "      --disabled-bg-color: #3B4455;\n",
              "      --disabled-fill-color: #666;\n",
              "  }\n",
              "\n",
              "  .colab-df-quickchart {\n",
              "    background-color: var(--bg-color);\n",
              "    border: none;\n",
              "    border-radius: 50%;\n",
              "    cursor: pointer;\n",
              "    display: none;\n",
              "    fill: var(--fill-color);\n",
              "    height: 32px;\n",
              "    padding: 0;\n",
              "    width: 32px;\n",
              "  }\n",
              "\n",
              "  .colab-df-quickchart:hover {\n",
              "    background-color: var(--hover-bg-color);\n",
              "    box-shadow: 0 1px 2px rgba(60, 64, 67, 0.3), 0 1px 3px 1px rgba(60, 64, 67, 0.15);\n",
              "    fill: var(--button-hover-fill-color);\n",
              "  }\n",
              "\n",
              "  .colab-df-quickchart-complete:disabled,\n",
              "  .colab-df-quickchart-complete:disabled:hover {\n",
              "    background-color: var(--disabled-bg-color);\n",
              "    fill: var(--disabled-fill-color);\n",
              "    box-shadow: none;\n",
              "  }\n",
              "\n",
              "  .colab-df-spinner {\n",
              "    border: 2px solid var(--fill-color);\n",
              "    border-color: transparent;\n",
              "    border-bottom-color: var(--fill-color);\n",
              "    animation:\n",
              "      spin 1s steps(1) infinite;\n",
              "  }\n",
              "\n",
              "  @keyframes spin {\n",
              "    0% {\n",
              "      border-color: transparent;\n",
              "      border-bottom-color: var(--fill-color);\n",
              "      border-left-color: var(--fill-color);\n",
              "    }\n",
              "    20% {\n",
              "      border-color: transparent;\n",
              "      border-left-color: var(--fill-color);\n",
              "      border-top-color: var(--fill-color);\n",
              "    }\n",
              "    30% {\n",
              "      border-color: transparent;\n",
              "      border-left-color: var(--fill-color);\n",
              "      border-top-color: var(--fill-color);\n",
              "      border-right-color: var(--fill-color);\n",
              "    }\n",
              "    40% {\n",
              "      border-color: transparent;\n",
              "      border-right-color: var(--fill-color);\n",
              "      border-top-color: var(--fill-color);\n",
              "    }\n",
              "    60% {\n",
              "      border-color: transparent;\n",
              "      border-right-color: var(--fill-color);\n",
              "    }\n",
              "    80% {\n",
              "      border-color: transparent;\n",
              "      border-right-color: var(--fill-color);\n",
              "      border-bottom-color: var(--fill-color);\n",
              "    }\n",
              "    90% {\n",
              "      border-color: transparent;\n",
              "      border-bottom-color: var(--fill-color);\n",
              "    }\n",
              "  }\n",
              "</style>\n",
              "\n",
              "  <script>\n",
              "    async function quickchart(key) {\n",
              "      const quickchartButtonEl =\n",
              "        document.querySelector('#' + key + ' button');\n",
              "      quickchartButtonEl.disabled = true;  // To prevent multiple clicks.\n",
              "      quickchartButtonEl.classList.add('colab-df-spinner');\n",
              "      try {\n",
              "        const charts = await google.colab.kernel.invokeFunction(\n",
              "            'suggestCharts', [key], {});\n",
              "      } catch (error) {\n",
              "        console.error('Error during call to suggestCharts:', error);\n",
              "      }\n",
              "      quickchartButtonEl.classList.remove('colab-df-spinner');\n",
              "      quickchartButtonEl.classList.add('colab-df-quickchart-complete');\n",
              "    }\n",
              "    (() => {\n",
              "      let quickchartButtonEl =\n",
              "        document.querySelector('#df-a4351f6d-4255-45e1-ba26-5faa7cd878aa button');\n",
              "      quickchartButtonEl.style.display =\n",
              "        google.colab.kernel.accessAllowed ? 'block' : 'none';\n",
              "    })();\n",
              "  </script>\n",
              "</div>\n",
              "    </div>\n",
              "  </div>\n"
            ]
          },
          "metadata": {},
          "execution_count": 554
        }
      ],
      "source": [
        "data"
      ],
      "id": "66ee385f-ec13-4fd0-ad8f-9117cd5cf86a"
    },
    {
      "cell_type": "markdown",
      "metadata": {
        "id": "fbf870b2-9ffd-4bcd-b7b3-ed0c46a3524b"
      },
      "source": [
        "## Data Visualization"
      ],
      "id": "fbf870b2-9ffd-4bcd-b7b3-ed0c46a3524b"
    },
    {
      "cell_type": "markdown",
      "metadata": {
        "id": "3a105e65-f977-48c0-a71a-852dcdbd5a34"
      },
      "source": [
        "### Obtaining number of fraud transactions and valid transactions of each 'client_type'"
      ],
      "id": "3a105e65-f977-48c0-a71a-852dcdbd5a34"
    },
    {
      "cell_type": "code",
      "execution_count": 555,
      "metadata": {
        "id": "d000dbd9-e6a5-475d-981d-4b0736dc4ac2"
      },
      "outputs": [],
      "source": [
        "def filter_fraud_valid_transactions(data):\n",
        "    fraudTrans = data[data['isFraud'] == 1]\n",
        "    validTrans = data[data['isFraud'] == 0]\n",
        "    return fraudTrans, validTrans\n",
        "\n"
      ],
      "id": "d000dbd9-e6a5-475d-981d-4b0736dc4ac2"
    },
    {
      "cell_type": "code",
      "execution_count": 556,
      "metadata": {
        "id": "2fcc5d87-baa3-4cc9-97e6-c200f01d5feb"
      },
      "outputs": [],
      "source": [
        "def count_client_types(data):\n",
        "    fr = data['client_type'].value_counts()\n",
        "    return fr\n"
      ],
      "id": "2fcc5d87-baa3-4cc9-97e6-c200f01d5feb"
    },
    {
      "cell_type": "code",
      "execution_count": 557,
      "metadata": {
        "id": "ebd127b4-70e1-41d1-aed1-20576012a172",
        "colab": {
          "base_uri": "https://localhost:8080/"
        },
        "outputId": "019172ca-c7bd-461c-82df-9fe7fbbc2074"
      },
      "outputs": [
        {
          "output_type": "stream",
          "name": "stdout",
          "text": [
            "Fraudulent Transactions by Client Type:\n",
            "CC    3157\n",
            "Name: client_type, dtype: int64\n",
            "\n",
            "Valid Transactions by Client Type:\n",
            "CC    2483316\n",
            "CM    1263117\n",
            "Name: client_type, dtype: int64\n"
          ]
        }
      ],
      "source": [
        "fraudTrans, validTrans = filter_fraud_valid_transactions(data)\n",
        "print(\"Fraudulent Transactions by Client Type:\")\n",
        "fr = count_client_types(fraudTrans)\n",
        "print(fr)\n",
        "\n",
        "print(\"\\nValid Transactions by Client Type:\")\n",
        "va = count_client_types(validTrans)\n",
        "print(va)\n"
      ],
      "id": "ebd127b4-70e1-41d1-aed1-20576012a172"
    },
    {
      "cell_type": "markdown",
      "metadata": {
        "id": "59bcd975-c18c-4ffa-ae9a-bbed8ba4f3ad"
      },
      "source": [
        "### Visualizing the fraud and valid transaction counts for each 'client_type'"
      ],
      "id": "59bcd975-c18c-4ffa-ae9a-bbed8ba4f3ad"
    },
    {
      "cell_type": "code",
      "execution_count": 558,
      "metadata": {
        "id": "537ce1f4-7581-4d7a-9420-ba23cc56ee2f"
      },
      "outputs": [],
      "source": [
        "def create_subplots():\n",
        "    plt.figure(figsize=(15, 8))\n",
        "\n",
        "    # Create the first subplot for Fraud Transactions\n",
        "    plt.subplot(1, 2, 1)\n",
        "    plt.title('Fraud Transactions')\n",
        "    return plt.gca()\n",
        "\n",
        "def plot_countplot(data, ax, title):\n",
        "    sns.countplot(x=data, ax=ax)\n",
        "    ax.set_title(title)\n"
      ],
      "id": "537ce1f4-7581-4d7a-9420-ba23cc56ee2f"
    },
    {
      "cell_type": "code",
      "source": [
        "ax1 = create_subplots()\n",
        "plot_countplot(fr, ax1, 'Fraud Transactions')\n",
        "\n",
        "ax2 = plt.subplot(1, 2, 2)\n",
        "plot_countplot(va, ax2, 'Valid Transactions')\n",
        "\n",
        "plt.tight_layout()\n",
        "plt.show()\n"
      ],
      "metadata": {
        "colab": {
          "base_uri": "https://localhost:8080/",
          "height": 807
        },
        "id": "Z3KSEnEkM4Ze",
        "outputId": "803bfed6-8c21-458d-c007-0ad6e5afe1b6"
      },
      "id": "Z3KSEnEkM4Ze",
      "execution_count": 559,
      "outputs": [
        {
          "output_type": "display_data",
          "data": {
            "text/plain": [
              "<Figure size 1500x800 with 2 Axes>"
            ],
            "image/png": "[encoded data removed]"
          },
          "metadata": {}
        }
      ]
    },
    {
      "cell_type": "markdown",
      "metadata": {
        "id": "07fc4d77-18a7-404b-8734-8a0f2b681d51"
      },
      "source": [
        "### Visualization of transaction counts categorized by their 'type'"
      ],
      "id": "07fc4d77-18a7-404b-8734-8a0f2b681d51"
    },
    {
      "cell_type": "code",
      "execution_count": 560,
      "metadata": {
        "id": "df3e1ae4-5b18-45a1-b2ad-17fe0abba8b8"
      },
      "outputs": [],
      "source": [
        "def create_count_plot(data):\n",
        "    plt.figure(figsize=(15, 8))\n",
        "    g = sns.countplot(data=data, x='type', palette='dark', alpha=0.6)\n",
        "    plt.title(\"Counts for each Transaction types\")\n",
        "    return g\n",
        "\n",
        "def annotate_counts(ax):\n",
        "    for p in ax.patches:\n",
        "        ax.annotate(p.get_height(), (p.get_x() + 0.24, p.get_height() + 10000))\n",
        "\n"
      ],
      "id": "df3e1ae4-5b18-45a1-b2ad-17fe0abba8b8"
    },
    {
      "cell_type": "code",
      "source": [
        "count_plot = create_count_plot(data)\n",
        "annotate_counts(count_plot)\n",
        "plt.show()\n"
      ],
      "metadata": {
        "colab": {
          "base_uri": "https://localhost:8080/",
          "height": 718
        },
        "id": "cxvdetVXNLKl",
        "outputId": "42ffd3b9-5edd-4ed6-be3b-f78ffbce0901"
      },
      "id": "cxvdetVXNLKl",
      "execution_count": 561,
      "outputs": [
        {
          "output_type": "display_data",
          "data": {
            "text/plain": [
              "<Figure size 1500x800 with 1 Axes>"
            ],
            "image/png": "[encoded data removed]"
          },
          "metadata": {}
        }
      ]
    },
    {
      "cell_type": "markdown",
      "metadata": {
        "id": "a8f02373-fa71-42d1-9b3e-9acf65d386cb"
      },
      "source": [
        "### Visualization of transaction counts categorized by their 'client_type'"
      ],
      "id": "a8f02373-fa71-42d1-9b3e-9acf65d386cb"
    },
    {
      "cell_type": "code",
      "execution_count": 562,
      "metadata": {
        "id": "f811020b-f78e-4a45-a6ea-ac5043003b4c",
        "colab": {
          "base_uri": "https://localhost:8080/",
          "height": 718
        },
        "outputId": "4ee076ee-2fbc-4a69-ad27-dfde34000012"
      },
      "outputs": [
        {
          "output_type": "display_data",
          "data": {
            "text/plain": [
              "<Figure size 1500x800 with 1 Axes>"
            ],
            "image/png": "[encoded data removed]"
          },
          "metadata": {}
        }
      ],
      "source": [
        "def plot_countplot_with_annotations(data, x_column, title):\n",
        "    plt.figure(figsize=(15, 8))\n",
        "    g = sns.countplot(data=data, x=x_column, palette='dark', alpha=0.6)\n",
        "    plt.title(title)\n",
        "\n",
        "    # Finding counts and annotating\n",
        "    for p in g.patches:\n",
        "        height = p.get_height()\n",
        "        width = p.get_width()\n",
        "        x, y = p.get_x(), height + 10000\n",
        "        plt.annotate(f'{height}', (x + width/2, y), ha='center')\n",
        "\n",
        "    plt.show()\n",
        "\n",
        "# Usage example\n",
        "plot_countplot_with_annotations(data, 'client_type', \"Checking for fraud occurrences for each Transaction Client types\")\n"
      ],
      "id": "f811020b-f78e-4a45-a6ea-ac5043003b4c"
    },
    {
      "cell_type": "markdown",
      "metadata": {
        "id": "6ac01c1e-e9f5-49d5-83be-95c70b4ba7e2"
      },
      "source": [
        "### Visualization of Fraud vs Valid transaction counts categorized by their 'client_type'"
      ],
      "id": "6ac01c1e-e9f5-49d5-83be-95c70b4ba7e2"
    },
    {
      "cell_type": "code",
      "execution_count": 563,
      "metadata": {
        "id": "84aa19af-f02b-4c7b-aef2-a9d848a0ba62"
      },
      "outputs": [],
      "source": [
        "def create_count_plot(data):\n",
        "    plt.figure(figsize=(15, 8))\n",
        "    g = sns.countplot(data=data, x='client_type', hue='isFraud', palette='dark', alpha=0.6)\n",
        "    return g\n",
        "\n",
        "def annotate_counts(ax):\n",
        "    for p in ax.patches:\n",
        "        ax.annotate(p.get_height(), (p.get_x() + 0.13, p.get_height() + 10000))\n",
        "\n",
        "def set_plot_title(ax, title):\n",
        "    ax.set_title(title)\n"
      ],
      "id": "84aa19af-f02b-4c7b-aef2-a9d848a0ba62"
    },
    {
      "cell_type": "code",
      "source": [
        "count_plot = create_count_plot(data)\n",
        "annotate_counts(count_plot)\n",
        "set_plot_title(count_plot, \"Checking for fraud occurrences for each Transaction Client types\")\n",
        "plt.show()\n"
      ],
      "metadata": {
        "colab": {
          "base_uri": "https://localhost:8080/",
          "height": 718
        },
        "id": "n-ei1ORJNgno",
        "outputId": "fca1645f-2d15-4eac-f0e1-6f29b4b9c0b3"
      },
      "id": "n-ei1ORJNgno",
      "execution_count": 564,
      "outputs": [
        {
          "output_type": "display_data",
          "data": {
            "text/plain": [
              "<Figure size 1500x800 with 1 Axes>"
            ],
            "image/png": "[encoded data removed]"
          },
          "metadata": {}
        }
      ]
    },
    {
      "cell_type": "markdown",
      "metadata": {
        "id": "665b1b23-bf6c-4159-9307-c19f1eb176bc"
      },
      "source": [
        "## Data Preprocessing"
      ],
      "id": "665b1b23-bf6c-4159-9307-c19f1eb176bc"
    },
    {
      "cell_type": "markdown",
      "metadata": {
        "id": "7b7990c1-fd72-497b-8978-9b5f74b39852"
      },
      "source": [
        "### Importing necessary libraries"
      ],
      "id": "7b7990c1-fd72-497b-8978-9b5f74b39852"
    },
    {
      "cell_type": "markdown",
      "metadata": {
        "id": "e98a4786-9595-42cd-b832-da28efd42124"
      },
      "source": [
        "### Obtaining one-hot encodings for 'type' column"
      ],
      "id": "e98a4786-9595-42cd-b832-da28efd42124"
    },
    {
      "cell_type": "code",
      "source": [
        "def one_hot_encode_and_join(data, column_name, prefix):\n",
        "    one_hot = pd.get_dummies(data[column_name], prefix=prefix)\n",
        "    data = data.drop(column_name, axis=1)\n",
        "    return data.join(one_hot)"
      ],
      "metadata": {
        "id": "uXIxVpC4O4IF"
      },
      "id": "uXIxVpC4O4IF",
      "execution_count": 565,
      "outputs": []
    },
    {
      "cell_type": "code",
      "source": [
        "data = one_hot_encode_and_join(data, 'type', 'type')\n",
        "data = one_hot_encode_and_join(data, 'client_type', 'client_type')\n",
        "print(data.head())\n"
      ],
      "metadata": {
        "colab": {
          "base_uri": "https://localhost:8080/"
        },
        "id": "zq5m7piGO64X",
        "outputId": "ef4ef910-9077-4460-f85d-cb008f7dbac4"
      },
      "id": "zq5m7piGO64X",
      "execution_count": 566,
      "outputs": [
        {
          "output_type": "stream",
          "name": "stdout",
          "text": [
            "     amount  sender_old_bal  sender_new_bal  dest_old_bal  dest_new_bal  \\\n",
            "0   9839.64        170136.0       160296.36           0.0           0.0   \n",
            "1   1864.28         21249.0        19384.72           0.0           0.0   \n",
            "2    181.00           181.0            0.00           0.0           0.0   \n",
            "3    181.00           181.0            0.00       21182.0           0.0   \n",
            "4  11668.14         41554.0        29885.86           0.0           0.0   \n",
            "\n",
            "   isFraud  type_CASH_IN  type_CASH_OUT  type_DEBIT  type_PAYMENT  \\\n",
            "0      0.0             0              0           0             1   \n",
            "1      0.0             0              0           0             1   \n",
            "2      1.0             0              0           0             0   \n",
            "3      1.0             0              1           0             0   \n",
            "4      0.0             0              0           0             1   \n",
            "\n",
            "   type_TRANSFER  client_type_CC  client_type_CM  client_type_nan  \n",
            "0              0               0               1                0  \n",
            "1              0               0               1                0  \n",
            "2              1               1               0                0  \n",
            "3              0               1               0                0  \n",
            "4              0               0               1                0  \n"
          ]
        }
      ]
    },
    {
      "cell_type": "code",
      "source": [
        "y = data['isFraud'].fillna(0)\n",
        "X = data.drop('isFraud', axis=1).fillna(0)\n",
        "\n",
        "print(\"X:\")\n",
        "print(X)\n",
        "print(\"Y:\")\n",
        "print(y)"
      ],
      "metadata": {
        "colab": {
          "base_uri": "https://localhost:8080/"
        },
        "id": "UkCt-cKePpQr",
        "outputId": "0702b67a-6476-4ae1-b06c-674b60a753a9"
      },
      "id": "UkCt-cKePpQr",
      "execution_count": 567,
      "outputs": [
        {
          "output_type": "stream",
          "name": "stdout",
          "text": [
            "X:\n",
            "            amount  sender_old_bal  sender_new_bal  dest_old_bal  \\\n",
            "0          9839.64        170136.0       160296.36          0.00   \n",
            "1          1864.28         21249.0        19384.72          0.00   \n",
            "2           181.00           181.0            0.00          0.00   \n",
            "3           181.00           181.0            0.00      21182.00   \n",
            "4         11668.14         41554.0        29885.86          0.00   \n",
            "...            ...             ...             ...           ...   \n",
            "3749586  226716.59             0.0            0.00     867785.58   \n",
            "3749587   11672.36             0.0            0.00     271237.28   \n",
            "3749588  232921.92             0.0            0.00     379446.17   \n",
            "3749589   60093.54             0.0            0.00     259402.33   \n",
            "3749590  248917.54             0.0            0.00          0.00   \n",
            "\n",
            "         dest_new_bal  type_CASH_IN  type_CASH_OUT  type_DEBIT  type_PAYMENT  \\\n",
            "0                0.00             0              0           0             1   \n",
            "1                0.00             0              0           0             1   \n",
            "2                0.00             0              0           0             0   \n",
            "3                0.00             0              1           0             0   \n",
            "4                0.00             0              0           0             1   \n",
            "...               ...           ...            ...         ...           ...   \n",
            "3749586    1094502.17             0              1           0             0   \n",
            "3749587     282909.64             0              1           0             0   \n",
            "3749588     612368.10             0              1           0             0   \n",
            "3749589     319495.87             0              1           0             0   \n",
            "3749590          0.00             0              1           0             0   \n",
            "\n",
            "         type_TRANSFER  client_type_CC  client_type_CM  client_type_nan  \n",
            "0                    0               0               1                0  \n",
            "1                    0               0               1                0  \n",
            "2                    1               1               0                0  \n",
            "3                    0               1               0                0  \n",
            "4                    0               0               1                0  \n",
            "...                ...             ...             ...              ...  \n",
            "3749586              0               1               0                0  \n",
            "3749587              0               1               0                0  \n",
            "3749588              0               1               0                0  \n",
            "3749589              0               1               0                0  \n",
            "3749590              0               0               0                1  \n",
            "\n",
            "[3749591 rows x 13 columns]\n",
            "Y:\n",
            "0          0.0\n",
            "1          0.0\n",
            "2          1.0\n",
            "3          1.0\n",
            "4          0.0\n",
            "          ... \n",
            "3749586    0.0\n",
            "3749587    0.0\n",
            "3749588    0.0\n",
            "3749589    0.0\n",
            "3749590    0.0\n",
            "Name: isFraud, Length: 3749591, dtype: float64\n"
          ]
        }
      ]
    },
    {
      "cell_type": "code",
      "execution_count": 568,
      "metadata": {
        "id": "317e7176-0267-45ae-b919-818fa349b03d"
      },
      "outputs": [],
      "source": [
        "X_train, X_test, y_train, y_test = train_test_split(X,y, test_size=0.25, stratify=y)"
      ],
      "id": "317e7176-0267-45ae-b919-818fa349b03d"
    },
    {
      "cell_type": "markdown",
      "metadata": {
        "id": "60655e77-6ed2-4b85-b294-e737be50f5e1"
      },
      "source": [
        "### Normalizing X_train and X-test"
      ],
      "id": "60655e77-6ed2-4b85-b294-e737be50f5e1"
    },
    {
      "cell_type": "code",
      "execution_count": 569,
      "metadata": {
        "id": "41ab8a13-2ef3-4a5e-964f-478997e8cd25"
      },
      "outputs": [],
      "source": [
        "sc = StandardScaler()"
      ],
      "id": "41ab8a13-2ef3-4a5e-964f-478997e8cd25"
    },
    {
      "cell_type": "code",
      "execution_count": 570,
      "metadata": {
        "id": "69891a72-5e64-4c4e-ac66-e76a1af65085"
      },
      "outputs": [],
      "source": [
        "X_train = sc.fit_transform(X_train)\n",
        "X_test = sc.fit_transform(X_test)"
      ],
      "id": "69891a72-5e64-4c4e-ac66-e76a1af65085"
    },
    {
      "cell_type": "markdown",
      "metadata": {
        "id": "e1325ee5-9385-47c3-b36b-e38874a34a74"
      },
      "source": [
        "## Machine Learning"
      ],
      "id": "e1325ee5-9385-47c3-b36b-e38874a34a74"
    },
    {
      "cell_type": "markdown",
      "metadata": {
        "id": "1a1a2ede-67df-4e28-867f-3c33eedb0f42"
      },
      "source": [
        "### Creating list of ML models"
      ],
      "id": "1a1a2ede-67df-4e28-867f-3c33eedb0f42"
    },
    {
      "cell_type": "code",
      "execution_count": 571,
      "metadata": {
        "id": "84efb807-cd5f-41c4-a7d6-66c17ed9187e"
      },
      "outputs": [],
      "source": [
        "def create_classifiers():\n",
        "    md = 3\n",
        "    nj =1\n",
        "    r = 42\n",
        "    lr = 0.1\n",
        "    ne =15\n",
        "\n",
        "    xgbc = xgb.XGBClassifier(max_depth=md, n_jobs=nj, random_state=r, learning_rate=lr)\n",
        "    rfc = RandomForestClassifier(n_estimators=ne, n_jobs=nj, random_state=r)\n",
        "    lgbmc = LGBMClassifier(boosting_type='gbdt', objective='binary', random_state=8888)\n",
        "    logreg = LogisticRegression(solver='liblinear', random_state=r)\n",
        "\n",
        "    return [xgbc, rfc, lgbmc, logreg]\n",
        "\n",
        "def train_classifiers(classifiers, X_train, y_train):\n",
        "    for clsr in classifiers:\n",
        "        clsr.fit(X_train, y_train)\n"
      ],
      "id": "84efb807-cd5f-41c4-a7d6-66c17ed9187e"
    },
    {
      "cell_type": "code",
      "source": [
        "clsrs = create_classifiers()\n",
        "train_classifiers(clsrs, X_train, y_train)\n"
      ],
      "metadata": {
        "colab": {
          "base_uri": "https://localhost:8080/"
        },
        "id": "NxWhPAh3Uexb",
        "outputId": "8ff68243-6166-4f88-ac54-e902742c90ff"
      },
      "id": "NxWhPAh3Uexb",
      "execution_count": 572,
      "outputs": [
        {
          "output_type": "stream",
          "name": "stdout",
          "text": [
            "[LightGBM] [Info] Number of positive: 2368, number of negative: 2809825\n",
            "[LightGBM] [Warning] Auto-choosing row-wise multi-threading, the overhead of testing was 0.206958 seconds.\n",
            "You can set `force_row_wise=true` to remove the overhead.\n",
            "And if memory is not enough, you can set `force_col_wise=true`.\n",
            "[LightGBM] [Info] Total Bins 1296\n",
            "[LightGBM] [Info] Number of data points in the train set: 2812193, number of used features: 12\n",
            "[LightGBM] [Info] [binary:BoostFromScore]: pavg=0.000842 -> initscore=-7.078832\n",
            "[LightGBM] [Info] Start training from score -7.078832\n"
          ]
        }
      ]
    },
    {
      "cell_type": "code",
      "execution_count": 572,
      "metadata": {
        "id": "e9ac6e3f-5239-4d6b-8b86-1a7a38c1c62a"
      },
      "outputs": [],
      "source": [],
      "id": "e9ac6e3f-5239-4d6b-8b86-1a7a38c1c62a"
    },
    {
      "cell_type": "markdown",
      "metadata": {
        "id": "98eaf7bd-1320-4a74-8a61-0438cdbb3f23"
      },
      "source": [
        "### Training ML models"
      ],
      "id": "98eaf7bd-1320-4a74-8a61-0438cdbb3f23"
    },
    {
      "cell_type": "code",
      "execution_count": 572,
      "metadata": {
        "id": "469532b7-fc32-473f-aa6a-11cfef5a425a"
      },
      "outputs": [],
      "source": [],
      "id": "469532b7-fc32-473f-aa6a-11cfef5a425a"
    },
    {
      "cell_type": "markdown",
      "metadata": {
        "id": "6b576a9d-7c79-4e33-a215-e3568aa283a1"
      },
      "source": [
        "### Obtaining prediction and accuracy (hml and auc) calculations"
      ],
      "id": "6b576a9d-7c79-4e33-a215-e3568aa283a1"
    },
    {
      "cell_type": "markdown",
      "metadata": {
        "id": "5563a017-3aaf-4101-ad7a-3f1877a5be6b"
      },
      "source": [
        "### Creating accuracy dictionaries"
      ],
      "id": "5563a017-3aaf-4101-ad7a-3f1877a5be6b"
    },
    {
      "cell_type": "code",
      "execution_count": 573,
      "metadata": {
        "id": "a0ee5a5f-f853-4caf-9ea0-a439030e7887"
      },
      "outputs": [],
      "source": [
        "def calculate_predictions_and_scores(clf, X_test, y_test):\n",
        "    y_pred = clf.predict(X_test)\n",
        "    y_prob = clf.predict_proba(X_test)[:, -1]\n",
        "    hml_score = hamming_loss(y_test, y_pred)\n",
        "    auc_score = roc_auc_score(y_test, y_prob)\n",
        "    return hml_score, auc_score\n",
        "\n",
        "def calculate_hamming_loss_and_auc(classifiers, X_test, y_test):\n",
        "    hml_scores = []\n",
        "    auc_scores = []\n",
        "\n",
        "    for clf in classifiers:\n",
        "        hml_score, auc_score = calculate_predictions_and_scores(clf, X_test, y_test)\n",
        "        hml_scores.append(hml_score)\n",
        "        auc_scores.append(auc_score)\n",
        "\n",
        "    return hml_scores, auc_scores\n",
        "\n",
        "def create_sorted_dicts(keys, values):\n",
        "    data_dict = {}\n",
        "    i = 0\n",
        "    while i < len(keys):\n",
        "        key = keys[i]\n",
        "        data_dict[key] = values[i]\n",
        "        i += 1\n",
        "\n",
        "    sorted_items = sorted(data_dict.items(), key=lambda item: item[1])\n",
        "    sorted_dict = dict(sorted_items)\n",
        "    return sorted_dict\n"
      ],
      "id": "a0ee5a5f-f853-4caf-9ea0-a439030e7887"
    },
    {
      "cell_type": "code",
      "execution_count": 574,
      "metadata": {
        "id": "6daaeef8-6219-4735-b27d-50f45921f87e",
        "colab": {
          "base_uri": "https://localhost:8080/"
        },
        "outputId": "a7f88268-3781-42e2-fd61-238f1de9cf93"
      },
      "outputs": [
        {
          "output_type": "stream",
          "name": "stdout",
          "text": [
            "Hamming Loss:\n",
            "{'LR': 0.0005856637202127592, 'XGBoost': 0.0007136776481281163, 'Random Forest': 0.0007531486092353514, 'Light GBM': 0.00091209923639692}\n",
            "\n",
            "AUC Scores:\n",
            "{'Light GBM': 0.5975372283213826, 'Random Forest': 0.6937292383078004, 'XGBoost': 0.8959990217710939, 'LR': 0.9792146141370832}\n"
          ]
        }
      ],
      "source": [
        "hml_list, auc_list = calculate_hamming_loss_and_auc(clsrs, X_test, y_test)\n",
        "\n",
        "keys = ['XGBoost', 'Random Forest', 'Light GBM', 'LR']\n",
        "\n",
        "hml_dict_s = create_sorted_dicts(keys, hml_list)\n",
        "auc_dict_s = create_sorted_dicts(keys, auc_list)\n",
        "\n",
        "print(\"Hamming Loss:\")\n",
        "print(hml_dict_s)\n",
        "\n",
        "print(\"\\nAUC Scores:\")\n",
        "print(auc_dict_s)\n"
      ],
      "id": "6daaeef8-6219-4735-b27d-50f45921f87e"
    },
    {
      "cell_type": "markdown",
      "metadata": {
        "id": "93866104-88cd-4ad4-8bcc-abba4dffa066"
      },
      "source": [
        "### Plotting AUC accuracy scores (Higher AUC score indicates better result)"
      ],
      "id": "93866104-88cd-4ad4-8bcc-abba4dffa066"
    },
    {
      "cell_type": "code",
      "execution_count": 575,
      "metadata": {
        "id": "0e5b98b5-2e73-4237-8cfc-f32b91418433",
        "colab": {
          "base_uri": "https://localhost:8080/",
          "height": 1000
        },
        "outputId": "036e9fb9-5fe9-46d1-88ef-5f0772ad7b15"
      },
      "outputs": [
        {
          "output_type": "display_data",
          "data": {
            "text/html": [
              "<html>\n",
              "<head><meta charset=\"utf-8\" /></head>\n",
              "<body>\n",
              "    <div>            <script src=\"https://cdnjs.cloudflare.com/ajax/libs/mathjax/2.7.5/MathJax.js?config=TeX-AMS-MML_SVG\"></script><script type=\"text/javascript\">if (window.MathJax && window.MathJax.Hub && window.MathJax.Hub.Config) {window.MathJax.Hub.Config({SVG: {font: \"STIX-Web\"}});}</script>                <script type=\"text/javascript\">window.PlotlyConfig = {MathJaxConfig: 'local'};</script>\n",
              "        <script charset=\"utf-8\" src=\"https://cdn.plot.ly/plotly-2.24.1.min.js\"></script>                <div id=\"8bfd03e1-4e79-4166-8076-4a8a77d10280\" class=\"plotly-graph-div\" style=\"height:525px; width:100%;\"></div>            <script type=\"text/javascript\">                                    window.PLOTLYENV=window.PLOTLYENV || {};                                    if (document.getElementById(\"8bfd03e1-4e79-4166-8076-4a8a77d10280\")) {                    Plotly.newPlot(                        \"8bfd03e1-4e79-4166-8076-4a8a77d10280\",                        [{\"alignmentgroup\":\"True\",\"hovertemplate\":\"color=Light GBM\\u003cbr\\u003ex=%{x}\\u003cbr\\u003ey=%{y}\\u003cbr\\u003etext=%{text}\\u003cextra\\u003e\\u003c\\u002fextra\\u003e\",\"legendgroup\":\"Light GBM\",\"marker\":{\"color\":\"rgb(253, 237, 176)\",\"pattern\":{\"shape\":\"\"}},\"name\":\"Light GBM\",\"offsetgroup\":\"Light GBM\",\"orientation\":\"v\",\"showlegend\":true,\"text\":[0.597537],\"textposition\":\"auto\",\"x\":[\"Light GBM\"],\"xaxis\":\"x\",\"y\":[0.5975372283213826],\"yaxis\":\"y\",\"type\":\"bar\"},{\"alignmentgroup\":\"True\",\"hovertemplate\":\"color=Random Forest\\u003cbr\\u003ex=%{x}\\u003cbr\\u003ey=%{y}\\u003cbr\\u003etext=%{text}\\u003cextra\\u003e\\u003c\\u002fextra\\u003e\",\"legendgroup\":\"Random Forest\",\"marker\":{\"color\":\"rgb(250, 205, 145)\",\"pattern\":{\"shape\":\"\"}},\"name\":\"Random Forest\",\"offsetgroup\":\"Random Forest\",\"orientation\":\"v\",\"showlegend\":true,\"text\":[0.693729],\"textposition\":\"auto\",\"x\":[\"Random Forest\"],\"xaxis\":\"x\",\"y\":[0.6937292383078004],\"yaxis\":\"y\",\"type\":\"bar\"},{\"alignmentgroup\":\"True\",\"hovertemplate\":\"color=XGBoost\\u003cbr\\u003ex=%{x}\\u003cbr\\u003ey=%{y}\\u003cbr\\u003etext=%{text}\\u003cextra\\u003e\\u003c\\u002fextra\\u003e\",\"legendgroup\":\"XGBoost\",\"marker\":{\"color\":\"rgb(246, 173, 119)\",\"pattern\":{\"shape\":\"\"}},\"name\":\"XGBoost\",\"offsetgroup\":\"XGBoost\",\"orientation\":\"v\",\"showlegend\":true,\"text\":[0.895999],\"textposition\":\"auto\",\"x\":[\"XGBoost\"],\"xaxis\":\"x\",\"y\":[0.8959990217710939],\"yaxis\":\"y\",\"type\":\"bar\"},{\"alignmentgroup\":\"True\",\"hovertemplate\":\"color=LR\\u003cbr\\u003ex=%{x}\\u003cbr\\u003ey=%{y}\\u003cbr\\u003etext=%{text}\\u003cextra\\u003e\\u003c\\u002fextra\\u003e\",\"legendgroup\":\"LR\",\"marker\":{\"color\":\"rgb(240, 142, 98)\",\"pattern\":{\"shape\":\"\"}},\"name\":\"LR\",\"offsetgroup\":\"LR\",\"orientation\":\"v\",\"showlegend\":true,\"text\":[0.979215],\"textposition\":\"auto\",\"x\":[\"LR\"],\"xaxis\":\"x\",\"y\":[0.9792146141370832],\"yaxis\":\"y\",\"type\":\"bar\"}],                        {\"template\":{\"data\":{\"histogram2dcontour\":[{\"type\":\"histogram2dcontour\",\"colorbar\":{\"outlinewidth\":0,\"ticks\":\"\"},\"colorscale\":[[0.0,\"#0d0887\"],[0.1111111111111111,\"#46039f\"],[0.2222222222222222,\"#7201a8\"],[0.3333333333333333,\"#9c179e\"],[0.4444444444444444,\"#bd3786\"],[0.5555555555555556,\"#d8576b\"],[0.6666666666666666,\"#ed7953\"],[0.7777777777777778,\"#fb9f3a\"],[0.8888888888888888,\"#fdca26\"],[1.0,\"#f0f921\"]]}],\"choropleth\":[{\"type\":\"choropleth\",\"colorbar\":{\"outlinewidth\":0,\"ticks\":\"\"}}],\"histogram2d\":[{\"type\":\"histogram2d\",\"colorbar\":{\"outlinewidth\":0,\"ticks\":\"\"},\"colorscale\":[[0.0,\"#0d0887\"],[0.1111111111111111,\"#46039f\"],[0.2222222222222222,\"#7201a8\"],[0.3333333333333333,\"#9c179e\"],[0.4444444444444444,\"#bd3786\"],[0.5555555555555556,\"#d8576b\"],[0.6666666666666666,\"#ed7953\"],[0.7777777777777778,\"#fb9f3a\"],[0.8888888888888888,\"#fdca26\"],[1.0,\"#f0f921\"]]}],\"heatmap\":[{\"type\":\"heatmap\",\"colorbar\":{\"outlinewidth\":0,\"ticks\":\"\"},\"colorscale\":[[0.0,\"#0d0887\"],[0.1111111111111111,\"#46039f\"],[0.2222222222222222,\"#7201a8\"],[0.3333333333333333,\"#9c179e\"],[0.4444444444444444,\"#bd3786\"],[0.5555555555555556,\"#d8576b\"],[0.6666666666666666,\"#ed7953\"],[0.7777777777777778,\"#fb9f3a\"],[0.8888888888888888,\"#fdca26\"],[1.0,\"#f0f921\"]]}],\"heatmapgl\":[{\"type\":\"heatmapgl\",\"colorbar\":{\"outlinewidth\":0,\"ticks\":\"\"},\"colorscale\":[[0.0,\"#0d0887\"],[0.1111111111111111,\"#46039f\"],[0.2222222222222222,\"#7201a8\"],[0.3333333333333333,\"#9c179e\"],[0.4444444444444444,\"#bd3786\"],[0.5555555555555556,\"#d8576b\"],[0.6666666666666666,\"#ed7953\"],[0.7777777777777778,\"#fb9f3a\"],[0.8888888888888888,\"#fdca26\"],[1.0,\"#f0f921\"]]}],\"contourcarpet\":[{\"type\":\"contourcarpet\",\"colorbar\":{\"outlinewidth\":0,\"ticks\":\"\"}}],\"contour\":[{\"type\":\"contour\",\"colorbar\":{\"outlinewidth\":0,\"ticks\":\"\"},\"colorscale\":[[0.0,\"#0d0887\"],[0.1111111111111111,\"#46039f\"],[0.2222222222222222,\"#7201a8\"],[0.3333333333333333,\"#9c179e\"],[0.4444444444444444,\"#bd3786\"],[0.5555555555555556,\"#d8576b\"],[0.6666666666666666,\"#ed7953\"],[0.7777777777777778,\"#fb9f3a\"],[0.8888888888888888,\"#fdca26\"],[1.0,\"#f0f921\"]]}],\"surface\":[{\"type\":\"surface\",\"colorbar\":{\"outlinewidth\":0,\"ticks\":\"\"},\"colorscale\":[[0.0,\"#0d0887\"],[0.1111111111111111,\"#46039f\"],[0.2222222222222222,\"#7201a8\"],[0.3333333333333333,\"#9c179e\"],[0.4444444444444444,\"#bd3786\"],[0.5555555555555556,\"#d8576b\"],[0.6666666666666666,\"#ed7953\"],[0.7777777777777778,\"#fb9f3a\"],[0.8888888888888888,\"#fdca26\"],[1.0,\"#f0f921\"]]}],\"mesh3d\":[{\"type\":\"mesh3d\",\"colorbar\":{\"outlinewidth\":0,\"ticks\":\"\"}}],\"scatter\":[{\"fillpattern\":{\"fillmode\":\"overlay\",\"size\":10,\"solidity\":0.2},\"type\":\"scatter\"}],\"parcoords\":[{\"type\":\"parcoords\",\"line\":{\"colorbar\":{\"outlinewidth\":0,\"ticks\":\"\"}}}],\"scatterpolargl\":[{\"type\":\"scatterpolargl\",\"marker\":{\"colorbar\":{\"outlinewidth\":0,\"ticks\":\"\"}}}],\"bar\":[{\"error_x\":{\"color\":\"#2a3f5f\"},\"error_y\":{\"color\":\"#2a3f5f\"},\"marker\":{\"line\":{\"color\":\"#E5ECF6\",\"width\":0.5},\"pattern\":{\"fillmode\":\"overlay\",\"size\":10,\"solidity\":0.2}},\"type\":\"bar\"}],\"scattergeo\":[{\"type\":\"scattergeo\",\"marker\":{\"colorbar\":{\"outlinewidth\":0,\"ticks\":\"\"}}}],\"scatterpolar\":[{\"type\":\"scatterpolar\",\"marker\":{\"colorbar\":{\"outlinewidth\":0,\"ticks\":\"\"}}}],\"histogram\":[{\"marker\":{\"pattern\":{\"fillmode\":\"overlay\",\"size\":10,\"solidity\":0.2}},\"type\":\"histogram\"}],\"scattergl\":[{\"type\":\"scattergl\",\"marker\":{\"colorbar\":{\"outlinewidth\":0,\"ticks\":\"\"}}}],\"scatter3d\":[{\"type\":\"scatter3d\",\"line\":{\"colorbar\":{\"outlinewidth\":0,\"ticks\":\"\"}},\"marker\":{\"colorbar\":{\"outlinewidth\":0,\"ticks\":\"\"}}}],\"scattermapbox\":[{\"type\":\"scattermapbox\",\"marker\":{\"colorbar\":{\"outlinewidth\":0,\"ticks\":\"\"}}}],\"scatterternary\":[{\"type\":\"scatterternary\",\"marker\":{\"colorbar\":{\"outlinewidth\":0,\"ticks\":\"\"}}}],\"scattercarpet\":[{\"type\":\"scattercarpet\",\"marker\":{\"colorbar\":{\"outlinewidth\":0,\"ticks\":\"\"}}}],\"carpet\":[{\"aaxis\":{\"endlinecolor\":\"#2a3f5f\",\"gridcolor\":\"white\",\"linecolor\":\"white\",\"minorgridcolor\":\"white\",\"startlinecolor\":\"#2a3f5f\"},\"baxis\":{\"endlinecolor\":\"#2a3f5f\",\"gridcolor\":\"white\",\"linecolor\":\"white\",\"minorgridcolor\":\"white\",\"startlinecolor\":\"#2a3f5f\"},\"type\":\"carpet\"}],\"table\":[{\"cells\":{\"fill\":{\"color\":\"#EBF0F8\"},\"line\":{\"color\":\"white\"}},\"header\":{\"fill\":{\"color\":\"#C8D4E3\"},\"line\":{\"color\":\"white\"}},\"type\":\"table\"}],\"barpolar\":[{\"marker\":{\"line\":{\"color\":\"#E5ECF6\",\"width\":0.5},\"pattern\":{\"fillmode\":\"overlay\",\"size\":10,\"solidity\":0.2}},\"type\":\"barpolar\"}],\"pie\":[{\"automargin\":true,\"type\":\"pie\"}]},\"layout\":{\"autotypenumbers\":\"strict\",\"colorway\":[\"#636efa\",\"#EF553B\",\"#00cc96\",\"#ab63fa\",\"#FFA15A\",\"#19d3f3\",\"#FF6692\",\"#B6E880\",\"#FF97FF\",\"#FECB52\"],\"font\":{\"color\":\"#2a3f5f\"},\"hovermode\":\"closest\",\"hoverlabel\":{\"align\":\"left\"},\"paper_bgcolor\":\"white\",\"plot_bgcolor\":\"#E5ECF6\",\"polar\":{\"bgcolor\":\"#E5ECF6\",\"angularaxis\":{\"gridcolor\":\"white\",\"linecolor\":\"white\",\"ticks\":\"\"},\"radialaxis\":{\"gridcolor\":\"white\",\"linecolor\":\"white\",\"ticks\":\"\"}},\"ternary\":{\"bgcolor\":\"#E5ECF6\",\"aaxis\":{\"gridcolor\":\"white\",\"linecolor\":\"white\",\"ticks\":\"\"},\"baxis\":{\"gridcolor\":\"white\",\"linecolor\":\"white\",\"ticks\":\"\"},\"caxis\":{\"gridcolor\":\"white\",\"linecolor\":\"white\",\"ticks\":\"\"}},\"coloraxis\":{\"colorbar\":{\"outlinewidth\":0,\"ticks\":\"\"}},\"colorscale\":{\"sequential\":[[0.0,\"#0d0887\"],[0.1111111111111111,\"#46039f\"],[0.2222222222222222,\"#7201a8\"],[0.3333333333333333,\"#9c179e\"],[0.4444444444444444,\"#bd3786\"],[0.5555555555555556,\"#d8576b\"],[0.6666666666666666,\"#ed7953\"],[0.7777777777777778,\"#fb9f3a\"],[0.8888888888888888,\"#fdca26\"],[1.0,\"#f0f921\"]],\"sequentialminus\":[[0.0,\"#0d0887\"],[0.1111111111111111,\"#46039f\"],[0.2222222222222222,\"#7201a8\"],[0.3333333333333333,\"#9c179e\"],[0.4444444444444444,\"#bd3786\"],[0.5555555555555556,\"#d8576b\"],[0.6666666666666666,\"#ed7953\"],[0.7777777777777778,\"#fb9f3a\"],[0.8888888888888888,\"#fdca26\"],[1.0,\"#f0f921\"]],\"diverging\":[[0,\"#8e0152\"],[0.1,\"#c51b7d\"],[0.2,\"#de77ae\"],[0.3,\"#f1b6da\"],[0.4,\"#fde0ef\"],[0.5,\"#f7f7f7\"],[0.6,\"#e6f5d0\"],[0.7,\"#b8e186\"],[0.8,\"#7fbc41\"],[0.9,\"#4d9221\"],[1,\"#276419\"]]},\"xaxis\":{\"gridcolor\":\"white\",\"linecolor\":\"white\",\"ticks\":\"\",\"title\":{\"standoff\":15},\"zerolinecolor\":\"white\",\"automargin\":true,\"zerolinewidth\":2},\"yaxis\":{\"gridcolor\":\"white\",\"linecolor\":\"white\",\"ticks\":\"\",\"title\":{\"standoff\":15},\"zerolinecolor\":\"white\",\"automargin\":true,\"zerolinewidth\":2},\"scene\":{\"xaxis\":{\"backgroundcolor\":\"#E5ECF6\",\"gridcolor\":\"white\",\"linecolor\":\"white\",\"showbackground\":true,\"ticks\":\"\",\"zerolinecolor\":\"white\",\"gridwidth\":2},\"yaxis\":{\"backgroundcolor\":\"#E5ECF6\",\"gridcolor\":\"white\",\"linecolor\":\"white\",\"showbackground\":true,\"ticks\":\"\",\"zerolinecolor\":\"white\",\"gridwidth\":2},\"zaxis\":{\"backgroundcolor\":\"#E5ECF6\",\"gridcolor\":\"white\",\"linecolor\":\"white\",\"showbackground\":true,\"ticks\":\"\",\"zerolinecolor\":\"white\",\"gridwidth\":2}},\"shapedefaults\":{\"line\":{\"color\":\"#2a3f5f\"}},\"annotationdefaults\":{\"arrowcolor\":\"#2a3f5f\",\"arrowhead\":0,\"arrowwidth\":1},\"geo\":{\"bgcolor\":\"white\",\"landcolor\":\"#E5ECF6\",\"subunitcolor\":\"white\",\"showland\":true,\"showlakes\":true,\"lakecolor\":\"white\"},\"title\":{\"x\":0.05},\"mapbox\":{\"style\":\"light\"}}},\"xaxis\":{\"anchor\":\"y\",\"domain\":[0.0,1.0],\"title\":{\"text\":\"x\"}},\"yaxis\":{\"anchor\":\"x\",\"domain\":[0.0,1.0],\"title\":{\"text\":\"y\"}},\"legend\":{\"title\":{\"text\":\"color\"},\"tracegroupgap\":0},\"title\":{\"text\":\"Accuracy (AUC) score of each Classifier\"},\"barmode\":\"relative\"},                        {\"responsive\": true}                    ).then(function(){\n",
              "                            \n",
              "var gd = document.getElementById('8bfd03e1-4e79-4166-8076-4a8a77d10280');\n",
              "var x = new MutationObserver(function (mutations, observer) {{\n",
              "        var display = window.getComputedStyle(gd).display;\n",
              "        if (!display || display === 'none') {{\n",
              "            console.log([gd, 'removed!']);\n",
              "            Plotly.purge(gd);\n",
              "            observer.disconnect();\n",
              "        }}\n",
              "}});\n",
              "\n",
              "// Listen for the removal of the full notebook cells\n",
              "var notebookContainer = gd.closest('#notebook-container');\n",
              "if (notebookContainer) {{\n",
              "    x.observe(notebookContainer, {childList: true});\n",
              "}}\n",
              "\n",
              "// Listen for the clearing of the current output cell\n",
              "var outputEl = gd.closest('.output');\n",
              "if (outputEl) {{\n",
              "    x.observe(outputEl, {childList: true});\n",
              "}}\n",
              "\n",
              "                        })                };                            </script>        </div>\n",
              "</body>\n",
              "</html>"
            ]
          },
          "metadata": {}
        },
        {
          "output_type": "display_data",
          "data": {
            "text/html": [
              "<html>\n",
              "<head><meta charset=\"utf-8\" /></head>\n",
              "<body>\n",
              "    <div>            <script src=\"https://cdnjs.cloudflare.com/ajax/libs/mathjax/2.7.5/MathJax.js?config=TeX-AMS-MML_SVG\"></script><script type=\"text/javascript\">if (window.MathJax && window.MathJax.Hub && window.MathJax.Hub.Config) {window.MathJax.Hub.Config({SVG: {font: \"STIX-Web\"}});}</script>                <script type=\"text/javascript\">window.PlotlyConfig = {MathJaxConfig: 'local'};</script>\n",
              "        <script charset=\"utf-8\" src=\"https://cdn.plot.ly/plotly-2.24.1.min.js\"></script>                <div id=\"29e5c5e2-d535-4f3d-8b76-3ee04e1015ca\" class=\"plotly-graph-div\" style=\"height:525px; width:100%;\"></div>            <script type=\"text/javascript\">                                    window.PLOTLYENV=window.PLOTLYENV || {};                                    if (document.getElementById(\"29e5c5e2-d535-4f3d-8b76-3ee04e1015ca\")) {                    Plotly.newPlot(                        \"29e5c5e2-d535-4f3d-8b76-3ee04e1015ca\",                        [{\"alignmentgroup\":\"True\",\"hovertemplate\":\"color=LR\\u003cbr\\u003ex=%{x}\\u003cbr\\u003ey=%{y}\\u003cbr\\u003etext=%{text}\\u003cextra\\u003e\\u003c\\u002fextra\\u003e\",\"legendgroup\":\"LR\",\"marker\":{\"color\":\"rgb(253, 237, 176)\",\"pattern\":{\"shape\":\"\"}},\"name\":\"LR\",\"offsetgroup\":\"LR\",\"orientation\":\"v\",\"showlegend\":true,\"text\":[0.000586],\"textposition\":\"auto\",\"x\":[\"LR\"],\"xaxis\":\"x\",\"y\":[0.0005856637202127592],\"yaxis\":\"y\",\"type\":\"bar\"},{\"alignmentgroup\":\"True\",\"hovertemplate\":\"color=XGBoost\\u003cbr\\u003ex=%{x}\\u003cbr\\u003ey=%{y}\\u003cbr\\u003etext=%{text}\\u003cextra\\u003e\\u003c\\u002fextra\\u003e\",\"legendgroup\":\"XGBoost\",\"marker\":{\"color\":\"rgb(250, 205, 145)\",\"pattern\":{\"shape\":\"\"}},\"name\":\"XGBoost\",\"offsetgroup\":\"XGBoost\",\"orientation\":\"v\",\"showlegend\":true,\"text\":[0.000714],\"textposition\":\"auto\",\"x\":[\"XGBoost\"],\"xaxis\":\"x\",\"y\":[0.0007136776481281163],\"yaxis\":\"y\",\"type\":\"bar\"},{\"alignmentgroup\":\"True\",\"hovertemplate\":\"color=Random Forest\\u003cbr\\u003ex=%{x}\\u003cbr\\u003ey=%{y}\\u003cbr\\u003etext=%{text}\\u003cextra\\u003e\\u003c\\u002fextra\\u003e\",\"legendgroup\":\"Random Forest\",\"marker\":{\"color\":\"rgb(246, 173, 119)\",\"pattern\":{\"shape\":\"\"}},\"name\":\"Random Forest\",\"offsetgroup\":\"Random Forest\",\"orientation\":\"v\",\"showlegend\":true,\"text\":[0.000753],\"textposition\":\"auto\",\"x\":[\"Random Forest\"],\"xaxis\":\"x\",\"y\":[0.0007531486092353514],\"yaxis\":\"y\",\"type\":\"bar\"},{\"alignmentgroup\":\"True\",\"hovertemplate\":\"color=Light GBM\\u003cbr\\u003ex=%{x}\\u003cbr\\u003ey=%{y}\\u003cbr\\u003etext=%{text}\\u003cextra\\u003e\\u003c\\u002fextra\\u003e\",\"legendgroup\":\"Light GBM\",\"marker\":{\"color\":\"rgb(240, 142, 98)\",\"pattern\":{\"shape\":\"\"}},\"name\":\"Light GBM\",\"offsetgroup\":\"Light GBM\",\"orientation\":\"v\",\"showlegend\":true,\"text\":[0.000912],\"textposition\":\"auto\",\"x\":[\"Light GBM\"],\"xaxis\":\"x\",\"y\":[0.00091209923639692],\"yaxis\":\"y\",\"type\":\"bar\"}],                        {\"template\":{\"data\":{\"histogram2dcontour\":[{\"type\":\"histogram2dcontour\",\"colorbar\":{\"outlinewidth\":0,\"ticks\":\"\"},\"colorscale\":[[0.0,\"#0d0887\"],[0.1111111111111111,\"#46039f\"],[0.2222222222222222,\"#7201a8\"],[0.3333333333333333,\"#9c179e\"],[0.4444444444444444,\"#bd3786\"],[0.5555555555555556,\"#d8576b\"],[0.6666666666666666,\"#ed7953\"],[0.7777777777777778,\"#fb9f3a\"],[0.8888888888888888,\"#fdca26\"],[1.0,\"#f0f921\"]]}],\"choropleth\":[{\"type\":\"choropleth\",\"colorbar\":{\"outlinewidth\":0,\"ticks\":\"\"}}],\"histogram2d\":[{\"type\":\"histogram2d\",\"colorbar\":{\"outlinewidth\":0,\"ticks\":\"\"},\"colorscale\":[[0.0,\"#0d0887\"],[0.1111111111111111,\"#46039f\"],[0.2222222222222222,\"#7201a8\"],[0.3333333333333333,\"#9c179e\"],[0.4444444444444444,\"#bd3786\"],[0.5555555555555556,\"#d8576b\"],[0.6666666666666666,\"#ed7953\"],[0.7777777777777778,\"#fb9f3a\"],[0.8888888888888888,\"#fdca26\"],[1.0,\"#f0f921\"]]}],\"heatmap\":[{\"type\":\"heatmap\",\"colorbar\":{\"outlinewidth\":0,\"ticks\":\"\"},\"colorscale\":[[0.0,\"#0d0887\"],[0.1111111111111111,\"#46039f\"],[0.2222222222222222,\"#7201a8\"],[0.3333333333333333,\"#9c179e\"],[0.4444444444444444,\"#bd3786\"],[0.5555555555555556,\"#d8576b\"],[0.6666666666666666,\"#ed7953\"],[0.7777777777777778,\"#fb9f3a\"],[0.8888888888888888,\"#fdca26\"],[1.0,\"#f0f921\"]]}],\"heatmapgl\":[{\"type\":\"heatmapgl\",\"colorbar\":{\"outlinewidth\":0,\"ticks\":\"\"},\"colorscale\":[[0.0,\"#0d0887\"],[0.1111111111111111,\"#46039f\"],[0.2222222222222222,\"#7201a8\"],[0.3333333333333333,\"#9c179e\"],[0.4444444444444444,\"#bd3786\"],[0.5555555555555556,\"#d8576b\"],[0.6666666666666666,\"#ed7953\"],[0.7777777777777778,\"#fb9f3a\"],[0.8888888888888888,\"#fdca26\"],[1.0,\"#f0f921\"]]}],\"contourcarpet\":[{\"type\":\"contourcarpet\",\"colorbar\":{\"outlinewidth\":0,\"ticks\":\"\"}}],\"contour\":[{\"type\":\"contour\",\"colorbar\":{\"outlinewidth\":0,\"ticks\":\"\"},\"colorscale\":[[0.0,\"#0d0887\"],[0.1111111111111111,\"#46039f\"],[0.2222222222222222,\"#7201a8\"],[0.3333333333333333,\"#9c179e\"],[0.4444444444444444,\"#bd3786\"],[0.5555555555555556,\"#d8576b\"],[0.6666666666666666,\"#ed7953\"],[0.7777777777777778,\"#fb9f3a\"],[0.8888888888888888,\"#fdca26\"],[1.0,\"#f0f921\"]]}],\"surface\":[{\"type\":\"surface\",\"colorbar\":{\"outlinewidth\":0,\"ticks\":\"\"},\"colorscale\":[[0.0,\"#0d0887\"],[0.1111111111111111,\"#46039f\"],[0.2222222222222222,\"#7201a8\"],[0.3333333333333333,\"#9c179e\"],[0.4444444444444444,\"#bd3786\"],[0.5555555555555556,\"#d8576b\"],[0.6666666666666666,\"#ed7953\"],[0.7777777777777778,\"#fb9f3a\"],[0.8888888888888888,\"#fdca26\"],[1.0,\"#f0f921\"]]}],\"mesh3d\":[{\"type\":\"mesh3d\",\"colorbar\":{\"outlinewidth\":0,\"ticks\":\"\"}}],\"scatter\":[{\"fillpattern\":{\"fillmode\":\"overlay\",\"size\":10,\"solidity\":0.2},\"type\":\"scatter\"}],\"parcoords\":[{\"type\":\"parcoords\",\"line\":{\"colorbar\":{\"outlinewidth\":0,\"ticks\":\"\"}}}],\"scatterpolargl\":[{\"type\":\"scatterpolargl\",\"marker\":{\"colorbar\":{\"outlinewidth\":0,\"ticks\":\"\"}}}],\"bar\":[{\"error_x\":{\"color\":\"#2a3f5f\"},\"error_y\":{\"color\":\"#2a3f5f\"},\"marker\":{\"line\":{\"color\":\"#E5ECF6\",\"width\":0.5},\"pattern\":{\"fillmode\":\"overlay\",\"size\":10,\"solidity\":0.2}},\"type\":\"bar\"}],\"scattergeo\":[{\"type\":\"scattergeo\",\"marker\":{\"colorbar\":{\"outlinewidth\":0,\"ticks\":\"\"}}}],\"scatterpolar\":[{\"type\":\"scatterpolar\",\"marker\":{\"colorbar\":{\"outlinewidth\":0,\"ticks\":\"\"}}}],\"histogram\":[{\"marker\":{\"pattern\":{\"fillmode\":\"overlay\",\"size\":10,\"solidity\":0.2}},\"type\":\"histogram\"}],\"scattergl\":[{\"type\":\"scattergl\",\"marker\":{\"colorbar\":{\"outlinewidth\":0,\"ticks\":\"\"}}}],\"scatter3d\":[{\"type\":\"scatter3d\",\"line\":{\"colorbar\":{\"outlinewidth\":0,\"ticks\":\"\"}},\"marker\":{\"colorbar\":{\"outlinewidth\":0,\"ticks\":\"\"}}}],\"scattermapbox\":[{\"type\":\"scattermapbox\",\"marker\":{\"colorbar\":{\"outlinewidth\":0,\"ticks\":\"\"}}}],\"scatterternary\":[{\"type\":\"scatterternary\",\"marker\":{\"colorbar\":{\"outlinewidth\":0,\"ticks\":\"\"}}}],\"scattercarpet\":[{\"type\":\"scattercarpet\",\"marker\":{\"colorbar\":{\"outlinewidth\":0,\"ticks\":\"\"}}}],\"carpet\":[{\"aaxis\":{\"endlinecolor\":\"#2a3f5f\",\"gridcolor\":\"white\",\"linecolor\":\"white\",\"minorgridcolor\":\"white\",\"startlinecolor\":\"#2a3f5f\"},\"baxis\":{\"endlinecolor\":\"#2a3f5f\",\"gridcolor\":\"white\",\"linecolor\":\"white\",\"minorgridcolor\":\"white\",\"startlinecolor\":\"#2a3f5f\"},\"type\":\"carpet\"}],\"table\":[{\"cells\":{\"fill\":{\"color\":\"#EBF0F8\"},\"line\":{\"color\":\"white\"}},\"header\":{\"fill\":{\"color\":\"#C8D4E3\"},\"line\":{\"color\":\"white\"}},\"type\":\"table\"}],\"barpolar\":[{\"marker\":{\"line\":{\"color\":\"#E5ECF6\",\"width\":0.5},\"pattern\":{\"fillmode\":\"overlay\",\"size\":10,\"solidity\":0.2}},\"type\":\"barpolar\"}],\"pie\":[{\"automargin\":true,\"type\":\"pie\"}]},\"layout\":{\"autotypenumbers\":\"strict\",\"colorway\":[\"#636efa\",\"#EF553B\",\"#00cc96\",\"#ab63fa\",\"#FFA15A\",\"#19d3f3\",\"#FF6692\",\"#B6E880\",\"#FF97FF\",\"#FECB52\"],\"font\":{\"color\":\"#2a3f5f\"},\"hovermode\":\"closest\",\"hoverlabel\":{\"align\":\"left\"},\"paper_bgcolor\":\"white\",\"plot_bgcolor\":\"#E5ECF6\",\"polar\":{\"bgcolor\":\"#E5ECF6\",\"angularaxis\":{\"gridcolor\":\"white\",\"linecolor\":\"white\",\"ticks\":\"\"},\"radialaxis\":{\"gridcolor\":\"white\",\"linecolor\":\"white\",\"ticks\":\"\"}},\"ternary\":{\"bgcolor\":\"#E5ECF6\",\"aaxis\":{\"gridcolor\":\"white\",\"linecolor\":\"white\",\"ticks\":\"\"},\"baxis\":{\"gridcolor\":\"white\",\"linecolor\":\"white\",\"ticks\":\"\"},\"caxis\":{\"gridcolor\":\"white\",\"linecolor\":\"white\",\"ticks\":\"\"}},\"coloraxis\":{\"colorbar\":{\"outlinewidth\":0,\"ticks\":\"\"}},\"colorscale\":{\"sequential\":[[0.0,\"#0d0887\"],[0.1111111111111111,\"#46039f\"],[0.2222222222222222,\"#7201a8\"],[0.3333333333333333,\"#9c179e\"],[0.4444444444444444,\"#bd3786\"],[0.5555555555555556,\"#d8576b\"],[0.6666666666666666,\"#ed7953\"],[0.7777777777777778,\"#fb9f3a\"],[0.8888888888888888,\"#fdca26\"],[1.0,\"#f0f921\"]],\"sequentialminus\":[[0.0,\"#0d0887\"],[0.1111111111111111,\"#46039f\"],[0.2222222222222222,\"#7201a8\"],[0.3333333333333333,\"#9c179e\"],[0.4444444444444444,\"#bd3786\"],[0.5555555555555556,\"#d8576b\"],[0.6666666666666666,\"#ed7953\"],[0.7777777777777778,\"#fb9f3a\"],[0.8888888888888888,\"#fdca26\"],[1.0,\"#f0f921\"]],\"diverging\":[[0,\"#8e0152\"],[0.1,\"#c51b7d\"],[0.2,\"#de77ae\"],[0.3,\"#f1b6da\"],[0.4,\"#fde0ef\"],[0.5,\"#f7f7f7\"],[0.6,\"#e6f5d0\"],[0.7,\"#b8e186\"],[0.8,\"#7fbc41\"],[0.9,\"#4d9221\"],[1,\"#276419\"]]},\"xaxis\":{\"gridcolor\":\"white\",\"linecolor\":\"white\",\"ticks\":\"\",\"title\":{\"standoff\":15},\"zerolinecolor\":\"white\",\"automargin\":true,\"zerolinewidth\":2},\"yaxis\":{\"gridcolor\":\"white\",\"linecolor\":\"white\",\"ticks\":\"\",\"title\":{\"standoff\":15},\"zerolinecolor\":\"white\",\"automargin\":true,\"zerolinewidth\":2},\"scene\":{\"xaxis\":{\"backgroundcolor\":\"#E5ECF6\",\"gridcolor\":\"white\",\"linecolor\":\"white\",\"showbackground\":true,\"ticks\":\"\",\"zerolinecolor\":\"white\",\"gridwidth\":2},\"yaxis\":{\"backgroundcolor\":\"#E5ECF6\",\"gridcolor\":\"white\",\"linecolor\":\"white\",\"showbackground\":true,\"ticks\":\"\",\"zerolinecolor\":\"white\",\"gridwidth\":2},\"zaxis\":{\"backgroundcolor\":\"#E5ECF6\",\"gridcolor\":\"white\",\"linecolor\":\"white\",\"showbackground\":true,\"ticks\":\"\",\"zerolinecolor\":\"white\",\"gridwidth\":2}},\"shapedefaults\":{\"line\":{\"color\":\"#2a3f5f\"}},\"annotationdefaults\":{\"arrowcolor\":\"#2a3f5f\",\"arrowhead\":0,\"arrowwidth\":1},\"geo\":{\"bgcolor\":\"white\",\"landcolor\":\"#E5ECF6\",\"subunitcolor\":\"white\",\"showland\":true,\"showlakes\":true,\"lakecolor\":\"white\"},\"title\":{\"x\":0.05},\"mapbox\":{\"style\":\"light\"}}},\"xaxis\":{\"anchor\":\"y\",\"domain\":[0.0,1.0],\"title\":{\"text\":\"x\"}},\"yaxis\":{\"anchor\":\"x\",\"domain\":[0.0,1.0],\"title\":{\"text\":\"y\"}},\"legend\":{\"title\":{\"text\":\"color\"},\"tracegroupgap\":0},\"title\":{\"text\":\"Accuracy (Hamming Loss) score of each Classifier\"},\"barmode\":\"relative\"},                        {\"responsive\": true}                    ).then(function(){\n",
              "                            \n",
              "var gd = document.getElementById('29e5c5e2-d535-4f3d-8b76-3ee04e1015ca');\n",
              "var x = new MutationObserver(function (mutations, observer) {{\n",
              "        var display = window.getComputedStyle(gd).display;\n",
              "        if (!display || display === 'none') {{\n",
              "            console.log([gd, 'removed!']);\n",
              "            Plotly.purge(gd);\n",
              "            observer.disconnect();\n",
              "        }}\n",
              "}});\n",
              "\n",
              "// Listen for the removal of the full notebook cells\n",
              "var notebookContainer = gd.closest('#notebook-container');\n",
              "if (notebookContainer) {{\n",
              "    x.observe(notebookContainer, {childList: true});\n",
              "}}\n",
              "\n",
              "// Listen for the clearing of the current output cell\n",
              "var outputEl = gd.closest('.output');\n",
              "if (outputEl) {{\n",
              "    x.observe(outputEl, {childList: true});\n",
              "}}\n",
              "\n",
              "                        })                };                            </script>        </div>\n",
              "</body>\n",
              "</html>"
            ]
          },
          "metadata": {}
        }
      ],
      "source": [
        "import plotly.io as pio\n",
        "import plotly.express as px\n",
        "pio.renderers.default = 'colab'\n",
        "\n",
        "# Assuming you already have 'auc_dict_s' and 'hml_dict_s' available\n",
        "\n",
        "def plot_bar_chart(data_dict, title):\n",
        "    fig = px.bar(\n",
        "        x=list(data_dict.keys()),\n",
        "        y=list(data_dict.values()),\n",
        "        text=np.round(list(data_dict.values()), 6),\n",
        "        title=title,\n",
        "        color=list(data_dict.keys()),\n",
        "        color_discrete_sequence=px.colors.sequential.matter\n",
        "    )\n",
        "    fig.show()\n",
        "\n",
        "# Plot AUC scores\n",
        "plot_bar_chart(auc_dict_s, 'Accuracy (AUC) score of each Classifier')\n",
        "\n",
        "# Plot Hamming Loss scores\n",
        "plot_bar_chart(hml_dict_s, 'Accuracy (Hamming Loss) score of each Classifier')"
      ],
      "id": "0e5b98b5-2e73-4237-8cfc-f32b91418433"
    },
    {
      "cell_type": "code",
      "execution_count": 576,
      "metadata": {
        "id": "b79a3cff-ffbb-4258-9b50-58f7e5f81ffb",
        "colab": {
          "base_uri": "https://localhost:8080/",
          "height": 542
        },
        "outputId": "99c61378-8ce5-4269-dc21-d692652aff14"
      },
      "outputs": [
        {
          "output_type": "display_data",
          "data": {
            "text/html": [
              "<html>\n",
              "<head><meta charset=\"utf-8\" /></head>\n",
              "<body>\n",
              "    <div>            <script src=\"https://cdnjs.cloudflare.com/ajax/libs/mathjax/2.7.5/MathJax.js?config=TeX-AMS-MML_SVG\"></script><script type=\"text/javascript\">if (window.MathJax && window.MathJax.Hub && window.MathJax.Hub.Config) {window.MathJax.Hub.Config({SVG: {font: \"STIX-Web\"}});}</script>                <script type=\"text/javascript\">window.PlotlyConfig = {MathJaxConfig: 'local'};</script>\n",
              "        <script charset=\"utf-8\" src=\"https://cdn.plot.ly/plotly-2.24.1.min.js\"></script>                <div id=\"375c4bb9-dca2-4ac6-8df8-b2f0e9cc85f7\" class=\"plotly-graph-div\" style=\"height:525px; width:100%;\"></div>            <script type=\"text/javascript\">                                    window.PLOTLYENV=window.PLOTLYENV || {};                                    if (document.getElementById(\"375c4bb9-dca2-4ac6-8df8-b2f0e9cc85f7\")) {                    Plotly.newPlot(                        \"375c4bb9-dca2-4ac6-8df8-b2f0e9cc85f7\",                        [{\"alignmentgroup\":\"True\",\"hovertemplate\":\"color=Light GBM\\u003cbr\\u003ex=%{x}\\u003cbr\\u003ey=%{y}\\u003cbr\\u003etext=%{text}\\u003cextra\\u003e\\u003c\\u002fextra\\u003e\",\"legendgroup\":\"Light GBM\",\"marker\":{\"color\":\"rgb(253, 237, 176)\",\"pattern\":{\"shape\":\"\"}},\"name\":\"Light GBM\",\"offsetgroup\":\"Light GBM\",\"orientation\":\"v\",\"showlegend\":true,\"text\":[0.597537],\"textposition\":\"auto\",\"x\":[\"Light GBM\"],\"xaxis\":\"x\",\"y\":[0.5975372283213826],\"yaxis\":\"y\",\"type\":\"bar\"},{\"alignmentgroup\":\"True\",\"hovertemplate\":\"color=Random Forest\\u003cbr\\u003ex=%{x}\\u003cbr\\u003ey=%{y}\\u003cbr\\u003etext=%{text}\\u003cextra\\u003e\\u003c\\u002fextra\\u003e\",\"legendgroup\":\"Random Forest\",\"marker\":{\"color\":\"rgb(250, 205, 145)\",\"pattern\":{\"shape\":\"\"}},\"name\":\"Random Forest\",\"offsetgroup\":\"Random Forest\",\"orientation\":\"v\",\"showlegend\":true,\"text\":[0.693729],\"textposition\":\"auto\",\"x\":[\"Random Forest\"],\"xaxis\":\"x\",\"y\":[0.6937292383078004],\"yaxis\":\"y\",\"type\":\"bar\"},{\"alignmentgroup\":\"True\",\"hovertemplate\":\"color=XGBoost\\u003cbr\\u003ex=%{x}\\u003cbr\\u003ey=%{y}\\u003cbr\\u003etext=%{text}\\u003cextra\\u003e\\u003c\\u002fextra\\u003e\",\"legendgroup\":\"XGBoost\",\"marker\":{\"color\":\"rgb(246, 173, 119)\",\"pattern\":{\"shape\":\"\"}},\"name\":\"XGBoost\",\"offsetgroup\":\"XGBoost\",\"orientation\":\"v\",\"showlegend\":true,\"text\":[0.895999],\"textposition\":\"auto\",\"x\":[\"XGBoost\"],\"xaxis\":\"x\",\"y\":[0.8959990217710939],\"yaxis\":\"y\",\"type\":\"bar\"},{\"alignmentgroup\":\"True\",\"hovertemplate\":\"color=LR\\u003cbr\\u003ex=%{x}\\u003cbr\\u003ey=%{y}\\u003cbr\\u003etext=%{text}\\u003cextra\\u003e\\u003c\\u002fextra\\u003e\",\"legendgroup\":\"LR\",\"marker\":{\"color\":\"rgb(240, 142, 98)\",\"pattern\":{\"shape\":\"\"}},\"name\":\"LR\",\"offsetgroup\":\"LR\",\"orientation\":\"v\",\"showlegend\":true,\"text\":[0.979215],\"textposition\":\"auto\",\"x\":[\"LR\"],\"xaxis\":\"x\",\"y\":[0.9792146141370832],\"yaxis\":\"y\",\"type\":\"bar\"}],                        {\"template\":{\"data\":{\"histogram2dcontour\":[{\"type\":\"histogram2dcontour\",\"colorbar\":{\"outlinewidth\":0,\"ticks\":\"\"},\"colorscale\":[[0.0,\"#0d0887\"],[0.1111111111111111,\"#46039f\"],[0.2222222222222222,\"#7201a8\"],[0.3333333333333333,\"#9c179e\"],[0.4444444444444444,\"#bd3786\"],[0.5555555555555556,\"#d8576b\"],[0.6666666666666666,\"#ed7953\"],[0.7777777777777778,\"#fb9f3a\"],[0.8888888888888888,\"#fdca26\"],[1.0,\"#f0f921\"]]}],\"choropleth\":[{\"type\":\"choropleth\",\"colorbar\":{\"outlinewidth\":0,\"ticks\":\"\"}}],\"histogram2d\":[{\"type\":\"histogram2d\",\"colorbar\":{\"outlinewidth\":0,\"ticks\":\"\"},\"colorscale\":[[0.0,\"#0d0887\"],[0.1111111111111111,\"#46039f\"],[0.2222222222222222,\"#7201a8\"],[0.3333333333333333,\"#9c179e\"],[0.4444444444444444,\"#bd3786\"],[0.5555555555555556,\"#d8576b\"],[0.6666666666666666,\"#ed7953\"],[0.7777777777777778,\"#fb9f3a\"],[0.8888888888888888,\"#fdca26\"],[1.0,\"#f0f921\"]]}],\"heatmap\":[{\"type\":\"heatmap\",\"colorbar\":{\"outlinewidth\":0,\"ticks\":\"\"},\"colorscale\":[[0.0,\"#0d0887\"],[0.1111111111111111,\"#46039f\"],[0.2222222222222222,\"#7201a8\"],[0.3333333333333333,\"#9c179e\"],[0.4444444444444444,\"#bd3786\"],[0.5555555555555556,\"#d8576b\"],[0.6666666666666666,\"#ed7953\"],[0.7777777777777778,\"#fb9f3a\"],[0.8888888888888888,\"#fdca26\"],[1.0,\"#f0f921\"]]}],\"heatmapgl\":[{\"type\":\"heatmapgl\",\"colorbar\":{\"outlinewidth\":0,\"ticks\":\"\"},\"colorscale\":[[0.0,\"#0d0887\"],[0.1111111111111111,\"#46039f\"],[0.2222222222222222,\"#7201a8\"],[0.3333333333333333,\"#9c179e\"],[0.4444444444444444,\"#bd3786\"],[0.5555555555555556,\"#d8576b\"],[0.6666666666666666,\"#ed7953\"],[0.7777777777777778,\"#fb9f3a\"],[0.8888888888888888,\"#fdca26\"],[1.0,\"#f0f921\"]]}],\"contourcarpet\":[{\"type\":\"contourcarpet\",\"colorbar\":{\"outlinewidth\":0,\"ticks\":\"\"}}],\"contour\":[{\"type\":\"contour\",\"colorbar\":{\"outlinewidth\":0,\"ticks\":\"\"},\"colorscale\":[[0.0,\"#0d0887\"],[0.1111111111111111,\"#46039f\"],[0.2222222222222222,\"#7201a8\"],[0.3333333333333333,\"#9c179e\"],[0.4444444444444444,\"#bd3786\"],[0.5555555555555556,\"#d8576b\"],[0.6666666666666666,\"#ed7953\"],[0.7777777777777778,\"#fb9f3a\"],[0.8888888888888888,\"#fdca26\"],[1.0,\"#f0f921\"]]}],\"surface\":[{\"type\":\"surface\",\"colorbar\":{\"outlinewidth\":0,\"ticks\":\"\"},\"colorscale\":[[0.0,\"#0d0887\"],[0.1111111111111111,\"#46039f\"],[0.2222222222222222,\"#7201a8\"],[0.3333333333333333,\"#9c179e\"],[0.4444444444444444,\"#bd3786\"],[0.5555555555555556,\"#d8576b\"],[0.6666666666666666,\"#ed7953\"],[0.7777777777777778,\"#fb9f3a\"],[0.8888888888888888,\"#fdca26\"],[1.0,\"#f0f921\"]]}],\"mesh3d\":[{\"type\":\"mesh3d\",\"colorbar\":{\"outlinewidth\":0,\"ticks\":\"\"}}],\"scatter\":[{\"fillpattern\":{\"fillmode\":\"overlay\",\"size\":10,\"solidity\":0.2},\"type\":\"scatter\"}],\"parcoords\":[{\"type\":\"parcoords\",\"line\":{\"colorbar\":{\"outlinewidth\":0,\"ticks\":\"\"}}}],\"scatterpolargl\":[{\"type\":\"scatterpolargl\",\"marker\":{\"colorbar\":{\"outlinewidth\":0,\"ticks\":\"\"}}}],\"bar\":[{\"error_x\":{\"color\":\"#2a3f5f\"},\"error_y\":{\"color\":\"#2a3f5f\"},\"marker\":{\"line\":{\"color\":\"#E5ECF6\",\"width\":0.5},\"pattern\":{\"fillmode\":\"overlay\",\"size\":10,\"solidity\":0.2}},\"type\":\"bar\"}],\"scattergeo\":[{\"type\":\"scattergeo\",\"marker\":{\"colorbar\":{\"outlinewidth\":0,\"ticks\":\"\"}}}],\"scatterpolar\":[{\"type\":\"scatterpolar\",\"marker\":{\"colorbar\":{\"outlinewidth\":0,\"ticks\":\"\"}}}],\"histogram\":[{\"marker\":{\"pattern\":{\"fillmode\":\"overlay\",\"size\":10,\"solidity\":0.2}},\"type\":\"histogram\"}],\"scattergl\":[{\"type\":\"scattergl\",\"marker\":{\"colorbar\":{\"outlinewidth\":0,\"ticks\":\"\"}}}],\"scatter3d\":[{\"type\":\"scatter3d\",\"line\":{\"colorbar\":{\"outlinewidth\":0,\"ticks\":\"\"}},\"marker\":{\"colorbar\":{\"outlinewidth\":0,\"ticks\":\"\"}}}],\"scattermapbox\":[{\"type\":\"scattermapbox\",\"marker\":{\"colorbar\":{\"outlinewidth\":0,\"ticks\":\"\"}}}],\"scatterternary\":[{\"type\":\"scatterternary\",\"marker\":{\"colorbar\":{\"outlinewidth\":0,\"ticks\":\"\"}}}],\"scattercarpet\":[{\"type\":\"scattercarpet\",\"marker\":{\"colorbar\":{\"outlinewidth\":0,\"ticks\":\"\"}}}],\"carpet\":[{\"aaxis\":{\"endlinecolor\":\"#2a3f5f\",\"gridcolor\":\"white\",\"linecolor\":\"white\",\"minorgridcolor\":\"white\",\"startlinecolor\":\"#2a3f5f\"},\"baxis\":{\"endlinecolor\":\"#2a3f5f\",\"gridcolor\":\"white\",\"linecolor\":\"white\",\"minorgridcolor\":\"white\",\"startlinecolor\":\"#2a3f5f\"},\"type\":\"carpet\"}],\"table\":[{\"cells\":{\"fill\":{\"color\":\"#EBF0F8\"},\"line\":{\"color\":\"white\"}},\"header\":{\"fill\":{\"color\":\"#C8D4E3\"},\"line\":{\"color\":\"white\"}},\"type\":\"table\"}],\"barpolar\":[{\"marker\":{\"line\":{\"color\":\"#E5ECF6\",\"width\":0.5},\"pattern\":{\"fillmode\":\"overlay\",\"size\":10,\"solidity\":0.2}},\"type\":\"barpolar\"}],\"pie\":[{\"automargin\":true,\"type\":\"pie\"}]},\"layout\":{\"autotypenumbers\":\"strict\",\"colorway\":[\"#636efa\",\"#EF553B\",\"#00cc96\",\"#ab63fa\",\"#FFA15A\",\"#19d3f3\",\"#FF6692\",\"#B6E880\",\"#FF97FF\",\"#FECB52\"],\"font\":{\"color\":\"#2a3f5f\"},\"hovermode\":\"closest\",\"hoverlabel\":{\"align\":\"left\"},\"paper_bgcolor\":\"white\",\"plot_bgcolor\":\"#E5ECF6\",\"polar\":{\"bgcolor\":\"#E5ECF6\",\"angularaxis\":{\"gridcolor\":\"white\",\"linecolor\":\"white\",\"ticks\":\"\"},\"radialaxis\":{\"gridcolor\":\"white\",\"linecolor\":\"white\",\"ticks\":\"\"}},\"ternary\":{\"bgcolor\":\"#E5ECF6\",\"aaxis\":{\"gridcolor\":\"white\",\"linecolor\":\"white\",\"ticks\":\"\"},\"baxis\":{\"gridcolor\":\"white\",\"linecolor\":\"white\",\"ticks\":\"\"},\"caxis\":{\"gridcolor\":\"white\",\"linecolor\":\"white\",\"ticks\":\"\"}},\"coloraxis\":{\"colorbar\":{\"outlinewidth\":0,\"ticks\":\"\"}},\"colorscale\":{\"sequential\":[[0.0,\"#0d0887\"],[0.1111111111111111,\"#46039f\"],[0.2222222222222222,\"#7201a8\"],[0.3333333333333333,\"#9c179e\"],[0.4444444444444444,\"#bd3786\"],[0.5555555555555556,\"#d8576b\"],[0.6666666666666666,\"#ed7953\"],[0.7777777777777778,\"#fb9f3a\"],[0.8888888888888888,\"#fdca26\"],[1.0,\"#f0f921\"]],\"sequentialminus\":[[0.0,\"#0d0887\"],[0.1111111111111111,\"#46039f\"],[0.2222222222222222,\"#7201a8\"],[0.3333333333333333,\"#9c179e\"],[0.4444444444444444,\"#bd3786\"],[0.5555555555555556,\"#d8576b\"],[0.6666666666666666,\"#ed7953\"],[0.7777777777777778,\"#fb9f3a\"],[0.8888888888888888,\"#fdca26\"],[1.0,\"#f0f921\"]],\"diverging\":[[0,\"#8e0152\"],[0.1,\"#c51b7d\"],[0.2,\"#de77ae\"],[0.3,\"#f1b6da\"],[0.4,\"#fde0ef\"],[0.5,\"#f7f7f7\"],[0.6,\"#e6f5d0\"],[0.7,\"#b8e186\"],[0.8,\"#7fbc41\"],[0.9,\"#4d9221\"],[1,\"#276419\"]]},\"xaxis\":{\"gridcolor\":\"white\",\"linecolor\":\"white\",\"ticks\":\"\",\"title\":{\"standoff\":15},\"zerolinecolor\":\"white\",\"automargin\":true,\"zerolinewidth\":2},\"yaxis\":{\"gridcolor\":\"white\",\"linecolor\":\"white\",\"ticks\":\"\",\"title\":{\"standoff\":15},\"zerolinecolor\":\"white\",\"automargin\":true,\"zerolinewidth\":2},\"scene\":{\"xaxis\":{\"backgroundcolor\":\"#E5ECF6\",\"gridcolor\":\"white\",\"linecolor\":\"white\",\"showbackground\":true,\"ticks\":\"\",\"zerolinecolor\":\"white\",\"gridwidth\":2},\"yaxis\":{\"backgroundcolor\":\"#E5ECF6\",\"gridcolor\":\"white\",\"linecolor\":\"white\",\"showbackground\":true,\"ticks\":\"\",\"zerolinecolor\":\"white\",\"gridwidth\":2},\"zaxis\":{\"backgroundcolor\":\"#E5ECF6\",\"gridcolor\":\"white\",\"linecolor\":\"white\",\"showbackground\":true,\"ticks\":\"\",\"zerolinecolor\":\"white\",\"gridwidth\":2}},\"shapedefaults\":{\"line\":{\"color\":\"#2a3f5f\"}},\"annotationdefaults\":{\"arrowcolor\":\"#2a3f5f\",\"arrowhead\":0,\"arrowwidth\":1},\"geo\":{\"bgcolor\":\"white\",\"landcolor\":\"#E5ECF6\",\"subunitcolor\":\"white\",\"showland\":true,\"showlakes\":true,\"lakecolor\":\"white\"},\"title\":{\"x\":0.05},\"mapbox\":{\"style\":\"light\"}}},\"xaxis\":{\"anchor\":\"y\",\"domain\":[0.0,1.0],\"title\":{\"text\":\"x\"}},\"yaxis\":{\"anchor\":\"x\",\"domain\":[0.0,1.0],\"title\":{\"text\":\"y\"}},\"legend\":{\"title\":{\"text\":\"color\"},\"tracegroupgap\":0},\"title\":{\"text\":\"Accuracy (AUC) score of each Classifier\"},\"barmode\":\"relative\"},                        {\"responsive\": true}                    ).then(function(){\n",
              "                            \n",
              "var gd = document.getElementById('375c4bb9-dca2-4ac6-8df8-b2f0e9cc85f7');\n",
              "var x = new MutationObserver(function (mutations, observer) {{\n",
              "        var display = window.getComputedStyle(gd).display;\n",
              "        if (!display || display === 'none') {{\n",
              "            console.log([gd, 'removed!']);\n",
              "            Plotly.purge(gd);\n",
              "            observer.disconnect();\n",
              "        }}\n",
              "}});\n",
              "\n",
              "// Listen for the removal of the full notebook cells\n",
              "var notebookContainer = gd.closest('#notebook-container');\n",
              "if (notebookContainer) {{\n",
              "    x.observe(notebookContainer, {childList: true});\n",
              "}}\n",
              "\n",
              "// Listen for the clearing of the current output cell\n",
              "var outputEl = gd.closest('.output');\n",
              "if (outputEl) {{\n",
              "    x.observe(outputEl, {childList: true});\n",
              "}}\n",
              "\n",
              "                        })                };                            </script>        </div>\n",
              "</body>\n",
              "</html>"
            ]
          },
          "metadata": {}
        }
      ],
      "source": [
        "fig = px.bar(x=list(auc_dict_s.keys()), y=list(auc_dict_s.values()), text=np.round(list(auc_dict_s.values()), 6),\n",
        "            title='Accuracy (AUC) score of each Classifier',color=list(auc_dict_s.keys()),\n",
        "            color_discrete_sequence=px.colors.sequential.matter)\n",
        "fig.show()"
      ],
      "id": "b79a3cff-ffbb-4258-9b50-58f7e5f81ffb"
    },
    {
      "cell_type": "markdown",
      "metadata": {
        "id": "9b3051ba-1879-488a-be4b-872b8eb4a94c"
      },
      "source": [
        "### Plotting Accuracy (Hamming Loss) scores (Lower score indicates better results)"
      ],
      "id": "9b3051ba-1879-488a-be4b-872b8eb4a94c"
    },
    {
      "cell_type": "code",
      "execution_count": 577,
      "metadata": {
        "id": "613faaeb-2883-484e-8699-2493903d126b",
        "colab": {
          "base_uri": "https://localhost:8080/",
          "height": 542
        },
        "outputId": "f93f54d6-8ca0-47a3-9b9e-bd4abfb3075c"
      },
      "outputs": [
        {
          "output_type": "display_data",
          "data": {
            "text/html": [
              "<html>\n",
              "<head><meta charset=\"utf-8\" /></head>\n",
              "<body>\n",
              "    <div>            <script src=\"https://cdnjs.cloudflare.com/ajax/libs/mathjax/2.7.5/MathJax.js?config=TeX-AMS-MML_SVG\"></script><script type=\"text/javascript\">if (window.MathJax && window.MathJax.Hub && window.MathJax.Hub.Config) {window.MathJax.Hub.Config({SVG: {font: \"STIX-Web\"}});}</script>                <script type=\"text/javascript\">window.PlotlyConfig = {MathJaxConfig: 'local'};</script>\n",
              "        <script charset=\"utf-8\" src=\"https://cdn.plot.ly/plotly-2.24.1.min.js\"></script>                <div id=\"995ead20-b209-4c14-b3ed-f4605d62e105\" class=\"plotly-graph-div\" style=\"height:525px; width:100%;\"></div>            <script type=\"text/javascript\">                                    window.PLOTLYENV=window.PLOTLYENV || {};                                    if (document.getElementById(\"995ead20-b209-4c14-b3ed-f4605d62e105\")) {                    Plotly.newPlot(                        \"995ead20-b209-4c14-b3ed-f4605d62e105\",                        [{\"alignmentgroup\":\"True\",\"hovertemplate\":\"color=LR\\u003cbr\\u003ex=%{x}\\u003cbr\\u003ey=%{y}\\u003cbr\\u003etext=%{text}\\u003cextra\\u003e\\u003c\\u002fextra\\u003e\",\"legendgroup\":\"LR\",\"marker\":{\"color\":\"rgb(253, 237, 176)\",\"pattern\":{\"shape\":\"\"}},\"name\":\"LR\",\"offsetgroup\":\"LR\",\"orientation\":\"v\",\"showlegend\":true,\"text\":[0.000586],\"textposition\":\"auto\",\"x\":[\"LR\"],\"xaxis\":\"x\",\"y\":[0.0005856637202127592],\"yaxis\":\"y\",\"type\":\"bar\"},{\"alignmentgroup\":\"True\",\"hovertemplate\":\"color=XGBoost\\u003cbr\\u003ex=%{x}\\u003cbr\\u003ey=%{y}\\u003cbr\\u003etext=%{text}\\u003cextra\\u003e\\u003c\\u002fextra\\u003e\",\"legendgroup\":\"XGBoost\",\"marker\":{\"color\":\"rgb(250, 205, 145)\",\"pattern\":{\"shape\":\"\"}},\"name\":\"XGBoost\",\"offsetgroup\":\"XGBoost\",\"orientation\":\"v\",\"showlegend\":true,\"text\":[0.000714],\"textposition\":\"auto\",\"x\":[\"XGBoost\"],\"xaxis\":\"x\",\"y\":[0.0007136776481281163],\"yaxis\":\"y\",\"type\":\"bar\"},{\"alignmentgroup\":\"True\",\"hovertemplate\":\"color=Random Forest\\u003cbr\\u003ex=%{x}\\u003cbr\\u003ey=%{y}\\u003cbr\\u003etext=%{text}\\u003cextra\\u003e\\u003c\\u002fextra\\u003e\",\"legendgroup\":\"Random Forest\",\"marker\":{\"color\":\"rgb(246, 173, 119)\",\"pattern\":{\"shape\":\"\"}},\"name\":\"Random Forest\",\"offsetgroup\":\"Random Forest\",\"orientation\":\"v\",\"showlegend\":true,\"text\":[0.000753],\"textposition\":\"auto\",\"x\":[\"Random Forest\"],\"xaxis\":\"x\",\"y\":[0.0007531486092353514],\"yaxis\":\"y\",\"type\":\"bar\"},{\"alignmentgroup\":\"True\",\"hovertemplate\":\"color=Light GBM\\u003cbr\\u003ex=%{x}\\u003cbr\\u003ey=%{y}\\u003cbr\\u003etext=%{text}\\u003cextra\\u003e\\u003c\\u002fextra\\u003e\",\"legendgroup\":\"Light GBM\",\"marker\":{\"color\":\"rgb(240, 142, 98)\",\"pattern\":{\"shape\":\"\"}},\"name\":\"Light GBM\",\"offsetgroup\":\"Light GBM\",\"orientation\":\"v\",\"showlegend\":true,\"text\":[0.000912],\"textposition\":\"auto\",\"x\":[\"Light GBM\"],\"xaxis\":\"x\",\"y\":[0.00091209923639692],\"yaxis\":\"y\",\"type\":\"bar\"}],                        {\"template\":{\"data\":{\"histogram2dcontour\":[{\"type\":\"histogram2dcontour\",\"colorbar\":{\"outlinewidth\":0,\"ticks\":\"\"},\"colorscale\":[[0.0,\"#0d0887\"],[0.1111111111111111,\"#46039f\"],[0.2222222222222222,\"#7201a8\"],[0.3333333333333333,\"#9c179e\"],[0.4444444444444444,\"#bd3786\"],[0.5555555555555556,\"#d8576b\"],[0.6666666666666666,\"#ed7953\"],[0.7777777777777778,\"#fb9f3a\"],[0.8888888888888888,\"#fdca26\"],[1.0,\"#f0f921\"]]}],\"choropleth\":[{\"type\":\"choropleth\",\"colorbar\":{\"outlinewidth\":0,\"ticks\":\"\"}}],\"histogram2d\":[{\"type\":\"histogram2d\",\"colorbar\":{\"outlinewidth\":0,\"ticks\":\"\"},\"colorscale\":[[0.0,\"#0d0887\"],[0.1111111111111111,\"#46039f\"],[0.2222222222222222,\"#7201a8\"],[0.3333333333333333,\"#9c179e\"],[0.4444444444444444,\"#bd3786\"],[0.5555555555555556,\"#d8576b\"],[0.6666666666666666,\"#ed7953\"],[0.7777777777777778,\"#fb9f3a\"],[0.8888888888888888,\"#fdca26\"],[1.0,\"#f0f921\"]]}],\"heatmap\":[{\"type\":\"heatmap\",\"colorbar\":{\"outlinewidth\":0,\"ticks\":\"\"},\"colorscale\":[[0.0,\"#0d0887\"],[0.1111111111111111,\"#46039f\"],[0.2222222222222222,\"#7201a8\"],[0.3333333333333333,\"#9c179e\"],[0.4444444444444444,\"#bd3786\"],[0.5555555555555556,\"#d8576b\"],[0.6666666666666666,\"#ed7953\"],[0.7777777777777778,\"#fb9f3a\"],[0.8888888888888888,\"#fdca26\"],[1.0,\"#f0f921\"]]}],\"heatmapgl\":[{\"type\":\"heatmapgl\",\"colorbar\":{\"outlinewidth\":0,\"ticks\":\"\"},\"colorscale\":[[0.0,\"#0d0887\"],[0.1111111111111111,\"#46039f\"],[0.2222222222222222,\"#7201a8\"],[0.3333333333333333,\"#9c179e\"],[0.4444444444444444,\"#bd3786\"],[0.5555555555555556,\"#d8576b\"],[0.6666666666666666,\"#ed7953\"],[0.7777777777777778,\"#fb9f3a\"],[0.8888888888888888,\"#fdca26\"],[1.0,\"#f0f921\"]]}],\"contourcarpet\":[{\"type\":\"contourcarpet\",\"colorbar\":{\"outlinewidth\":0,\"ticks\":\"\"}}],\"contour\":[{\"type\":\"contour\",\"colorbar\":{\"outlinewidth\":0,\"ticks\":\"\"},\"colorscale\":[[0.0,\"#0d0887\"],[0.1111111111111111,\"#46039f\"],[0.2222222222222222,\"#7201a8\"],[0.3333333333333333,\"#9c179e\"],[0.4444444444444444,\"#bd3786\"],[0.5555555555555556,\"#d8576b\"],[0.6666666666666666,\"#ed7953\"],[0.7777777777777778,\"#fb9f3a\"],[0.8888888888888888,\"#fdca26\"],[1.0,\"#f0f921\"]]}],\"surface\":[{\"type\":\"surface\",\"colorbar\":{\"outlinewidth\":0,\"ticks\":\"\"},\"colorscale\":[[0.0,\"#0d0887\"],[0.1111111111111111,\"#46039f\"],[0.2222222222222222,\"#7201a8\"],[0.3333333333333333,\"#9c179e\"],[0.4444444444444444,\"#bd3786\"],[0.5555555555555556,\"#d8576b\"],[0.6666666666666666,\"#ed7953\"],[0.7777777777777778,\"#fb9f3a\"],[0.8888888888888888,\"#fdca26\"],[1.0,\"#f0f921\"]]}],\"mesh3d\":[{\"type\":\"mesh3d\",\"colorbar\":{\"outlinewidth\":0,\"ticks\":\"\"}}],\"scatter\":[{\"fillpattern\":{\"fillmode\":\"overlay\",\"size\":10,\"solidity\":0.2},\"type\":\"scatter\"}],\"parcoords\":[{\"type\":\"parcoords\",\"line\":{\"colorbar\":{\"outlinewidth\":0,\"ticks\":\"\"}}}],\"scatterpolargl\":[{\"type\":\"scatterpolargl\",\"marker\":{\"colorbar\":{\"outlinewidth\":0,\"ticks\":\"\"}}}],\"bar\":[{\"error_x\":{\"color\":\"#2a3f5f\"},\"error_y\":{\"color\":\"#2a3f5f\"},\"marker\":{\"line\":{\"color\":\"#E5ECF6\",\"width\":0.5},\"pattern\":{\"fillmode\":\"overlay\",\"size\":10,\"solidity\":0.2}},\"type\":\"bar\"}],\"scattergeo\":[{\"type\":\"scattergeo\",\"marker\":{\"colorbar\":{\"outlinewidth\":0,\"ticks\":\"\"}}}],\"scatterpolar\":[{\"type\":\"scatterpolar\",\"marker\":{\"colorbar\":{\"outlinewidth\":0,\"ticks\":\"\"}}}],\"histogram\":[{\"marker\":{\"pattern\":{\"fillmode\":\"overlay\",\"size\":10,\"solidity\":0.2}},\"type\":\"histogram\"}],\"scattergl\":[{\"type\":\"scattergl\",\"marker\":{\"colorbar\":{\"outlinewidth\":0,\"ticks\":\"\"}}}],\"scatter3d\":[{\"type\":\"scatter3d\",\"line\":{\"colorbar\":{\"outlinewidth\":0,\"ticks\":\"\"}},\"marker\":{\"colorbar\":{\"outlinewidth\":0,\"ticks\":\"\"}}}],\"scattermapbox\":[{\"type\":\"scattermapbox\",\"marker\":{\"colorbar\":{\"outlinewidth\":0,\"ticks\":\"\"}}}],\"scatterternary\":[{\"type\":\"scatterternary\",\"marker\":{\"colorbar\":{\"outlinewidth\":0,\"ticks\":\"\"}}}],\"scattercarpet\":[{\"type\":\"scattercarpet\",\"marker\":{\"colorbar\":{\"outlinewidth\":0,\"ticks\":\"\"}}}],\"carpet\":[{\"aaxis\":{\"endlinecolor\":\"#2a3f5f\",\"gridcolor\":\"white\",\"linecolor\":\"white\",\"minorgridcolor\":\"white\",\"startlinecolor\":\"#2a3f5f\"},\"baxis\":{\"endlinecolor\":\"#2a3f5f\",\"gridcolor\":\"white\",\"linecolor\":\"white\",\"minorgridcolor\":\"white\",\"startlinecolor\":\"#2a3f5f\"},\"type\":\"carpet\"}],\"table\":[{\"cells\":{\"fill\":{\"color\":\"#EBF0F8\"},\"line\":{\"color\":\"white\"}},\"header\":{\"fill\":{\"color\":\"#C8D4E3\"},\"line\":{\"color\":\"white\"}},\"type\":\"table\"}],\"barpolar\":[{\"marker\":{\"line\":{\"color\":\"#E5ECF6\",\"width\":0.5},\"pattern\":{\"fillmode\":\"overlay\",\"size\":10,\"solidity\":0.2}},\"type\":\"barpolar\"}],\"pie\":[{\"automargin\":true,\"type\":\"pie\"}]},\"layout\":{\"autotypenumbers\":\"strict\",\"colorway\":[\"#636efa\",\"#EF553B\",\"#00cc96\",\"#ab63fa\",\"#FFA15A\",\"#19d3f3\",\"#FF6692\",\"#B6E880\",\"#FF97FF\",\"#FECB52\"],\"font\":{\"color\":\"#2a3f5f\"},\"hovermode\":\"closest\",\"hoverlabel\":{\"align\":\"left\"},\"paper_bgcolor\":\"white\",\"plot_bgcolor\":\"#E5ECF6\",\"polar\":{\"bgcolor\":\"#E5ECF6\",\"angularaxis\":{\"gridcolor\":\"white\",\"linecolor\":\"white\",\"ticks\":\"\"},\"radialaxis\":{\"gridcolor\":\"white\",\"linecolor\":\"white\",\"ticks\":\"\"}},\"ternary\":{\"bgcolor\":\"#E5ECF6\",\"aaxis\":{\"gridcolor\":\"white\",\"linecolor\":\"white\",\"ticks\":\"\"},\"baxis\":{\"gridcolor\":\"white\",\"linecolor\":\"white\",\"ticks\":\"\"},\"caxis\":{\"gridcolor\":\"white\",\"linecolor\":\"white\",\"ticks\":\"\"}},\"coloraxis\":{\"colorbar\":{\"outlinewidth\":0,\"ticks\":\"\"}},\"colorscale\":{\"sequential\":[[0.0,\"#0d0887\"],[0.1111111111111111,\"#46039f\"],[0.2222222222222222,\"#7201a8\"],[0.3333333333333333,\"#9c179e\"],[0.4444444444444444,\"#bd3786\"],[0.5555555555555556,\"#d8576b\"],[0.6666666666666666,\"#ed7953\"],[0.7777777777777778,\"#fb9f3a\"],[0.8888888888888888,\"#fdca26\"],[1.0,\"#f0f921\"]],\"sequentialminus\":[[0.0,\"#0d0887\"],[0.1111111111111111,\"#46039f\"],[0.2222222222222222,\"#7201a8\"],[0.3333333333333333,\"#9c179e\"],[0.4444444444444444,\"#bd3786\"],[0.5555555555555556,\"#d8576b\"],[0.6666666666666666,\"#ed7953\"],[0.7777777777777778,\"#fb9f3a\"],[0.8888888888888888,\"#fdca26\"],[1.0,\"#f0f921\"]],\"diverging\":[[0,\"#8e0152\"],[0.1,\"#c51b7d\"],[0.2,\"#de77ae\"],[0.3,\"#f1b6da\"],[0.4,\"#fde0ef\"],[0.5,\"#f7f7f7\"],[0.6,\"#e6f5d0\"],[0.7,\"#b8e186\"],[0.8,\"#7fbc41\"],[0.9,\"#4d9221\"],[1,\"#276419\"]]},\"xaxis\":{\"gridcolor\":\"white\",\"linecolor\":\"white\",\"ticks\":\"\",\"title\":{\"standoff\":15},\"zerolinecolor\":\"white\",\"automargin\":true,\"zerolinewidth\":2},\"yaxis\":{\"gridcolor\":\"white\",\"linecolor\":\"white\",\"ticks\":\"\",\"title\":{\"standoff\":15},\"zerolinecolor\":\"white\",\"automargin\":true,\"zerolinewidth\":2},\"scene\":{\"xaxis\":{\"backgroundcolor\":\"#E5ECF6\",\"gridcolor\":\"white\",\"linecolor\":\"white\",\"showbackground\":true,\"ticks\":\"\",\"zerolinecolor\":\"white\",\"gridwidth\":2},\"yaxis\":{\"backgroundcolor\":\"#E5ECF6\",\"gridcolor\":\"white\",\"linecolor\":\"white\",\"showbackground\":true,\"ticks\":\"\",\"zerolinecolor\":\"white\",\"gridwidth\":2},\"zaxis\":{\"backgroundcolor\":\"#E5ECF6\",\"gridcolor\":\"white\",\"linecolor\":\"white\",\"showbackground\":true,\"ticks\":\"\",\"zerolinecolor\":\"white\",\"gridwidth\":2}},\"shapedefaults\":{\"line\":{\"color\":\"#2a3f5f\"}},\"annotationdefaults\":{\"arrowcolor\":\"#2a3f5f\",\"arrowhead\":0,\"arrowwidth\":1},\"geo\":{\"bgcolor\":\"white\",\"landcolor\":\"#E5ECF6\",\"subunitcolor\":\"white\",\"showland\":true,\"showlakes\":true,\"lakecolor\":\"white\"},\"title\":{\"x\":0.05},\"mapbox\":{\"style\":\"light\"}}},\"xaxis\":{\"anchor\":\"y\",\"domain\":[0.0,1.0],\"title\":{\"text\":\"x\"}},\"yaxis\":{\"anchor\":\"x\",\"domain\":[0.0,1.0],\"title\":{\"text\":\"y\"}},\"legend\":{\"title\":{\"text\":\"color\"},\"tracegroupgap\":0},\"title\":{\"text\":\"Accuracy (Hamming Loss) score of each Classifier\"},\"barmode\":\"relative\"},                        {\"responsive\": true}                    ).then(function(){\n",
              "                            \n",
              "var gd = document.getElementById('995ead20-b209-4c14-b3ed-f4605d62e105');\n",
              "var x = new MutationObserver(function (mutations, observer) {{\n",
              "        var display = window.getComputedStyle(gd).display;\n",
              "        if (!display || display === 'none') {{\n",
              "            console.log([gd, 'removed!']);\n",
              "            Plotly.purge(gd);\n",
              "            observer.disconnect();\n",
              "        }}\n",
              "}});\n",
              "\n",
              "// Listen for the removal of the full notebook cells\n",
              "var notebookContainer = gd.closest('#notebook-container');\n",
              "if (notebookContainer) {{\n",
              "    x.observe(notebookContainer, {childList: true});\n",
              "}}\n",
              "\n",
              "// Listen for the clearing of the current output cell\n",
              "var outputEl = gd.closest('.output');\n",
              "if (outputEl) {{\n",
              "    x.observe(outputEl, {childList: true});\n",
              "}}\n",
              "\n",
              "                        })                };                            </script>        </div>\n",
              "</body>\n",
              "</html>"
            ]
          },
          "metadata": {}
        }
      ],
      "source": [
        "fig = px.bar(x=list(hml_dict_s.keys()), y=list(hml_dict_s.values()), text=np.round(list(hml_dict_s.values()), 6),\n",
        "            title='Accuracy (Hamming Loss) score of each Classifier',color=list(hml_dict_s.keys()),\n",
        "            color_discrete_sequence=px.colors.sequential.matter)\n",
        "fig.show()"
      ],
      "id": "613faaeb-2883-484e-8699-2493903d126b"
    },
    {
      "cell_type": "markdown",
      "metadata": {
        "id": "15007d4c-d507-4552-971b-d59fa275aa46"
      },
      "source": [
        "### Insights"
      ],
      "id": "15007d4c-d507-4552-971b-d59fa275aa46"
    },
    {
      "cell_type": "markdown",
      "metadata": {
        "id": "0abc8e4f-e662-414f-88d3-c9f3518b23ae"
      },
      "source": [
        "<ul>\n",
        "    <li><b>Logistic Regression</b> has the <b>best</b> performance with the - </li>\n",
        "    <ul>\n",
        "        <li>best (highest) AUC score - 0.983745</li>\n",
        "        <li>best (lowest) Hammington Loss score - 0.000834</li>\n",
        "    </ul>\n",
        "    <li><b>Light Gradient-Boosting Machine</b> has <b>worst</b> performance with the - </li>\n",
        "    <ul>\n",
        "        <li>worst (lowest) AUC score - 0.493639</li>\n",
        "        <li>worst (highest) Hamming Loss score - 0.00142</li>\n",
        "    </ul>"
      ],
      "id": "0abc8e4f-e662-414f-88d3-c9f3518b23ae"
    },
    {
      "cell_type": "code",
      "source": [],
      "metadata": {
        "id": "emuYNkiryiNg"
      },
      "id": "emuYNkiryiNg",
      "execution_count": 577,
      "outputs": []
    },
    {
      "cell_type": "markdown",
      "metadata": {
        "id": "552cd259-23b7-42a1-ab23-61052e8b2cab"
      },
      "source": [
        "## Neural Network"
      ],
      "id": "552cd259-23b7-42a1-ab23-61052e8b2cab"
    },
    {
      "cell_type": "markdown",
      "metadata": {
        "id": "7ba795f5-259b-4144-ab6c-49f72ad74430"
      },
      "source": [
        "### Deep Neural Network (DNN)\n",
        "# Hata deeeeeeeee"
      ],
      "id": "7ba795f5-259b-4144-ab6c-49f72ad74430"
    },
    {
      "cell_type": "markdown",
      "metadata": {
        "id": "2e2bb58e-d06a-4a59-9dd6-5932532be022"
      },
      "source": [
        "#### Importing Libraries"
      ],
      "id": "2e2bb58e-d06a-4a59-9dd6-5932532be022"
    },
    {
      "cell_type": "code",
      "execution_count": 578,
      "metadata": {
        "id": "3e7ee91d-554d-43e6-95d1-1253237cd955"
      },
      "outputs": [],
      "source": [
        "from tensorflow.keras.models import Sequential\n",
        "from tensorflow.keras.layers import Dense"
      ],
      "id": "3e7ee91d-554d-43e6-95d1-1253237cd955"
    },
    {
      "cell_type": "markdown",
      "metadata": {
        "id": "761787c5-5d72-4002-9094-ebc69123c5f8"
      },
      "source": [
        "#### Creating Network"
      ],
      "id": "761787c5-5d72-4002-9094-ebc69123c5f8"
    },
    {
      "cell_type": "code",
      "source": [
        "def create_dnn_model(input_shape, layers):\n",
        "    dnn = Sequential()\n",
        "    for layer_units, activation in layers:\n",
        "        dnn.add(Dense(layer_units, input_shape=input_shape, activation=activation))\n",
        "\n",
        "    return dnn\n",
        "\n",
        "def compile_and_train_dnn(model, X_train, y_train, params):\n",
        "    model.compile(loss=params['loss'], optimizer=params['optimizer'], metrics=params['metrics'])\n",
        "    history = model.fit(X_train, y_train, epochs=params['epochs'], batch_size=params['batch_size'], verbose=1, validation_split=params['validation_split'])\n",
        "\n",
        "    return history\n"
      ],
      "metadata": {
        "id": "3Co75zI_aVij"
      },
      "id": "3Co75zI_aVij",
      "execution_count": 579,
      "outputs": []
    },
    {
      "cell_type": "code",
      "source": [
        "input_shape = (X_train.shape[1],)  # Adjust this based on your input shape\n",
        "\n",
        "dnn_params = {\n",
        "    'layers': [(16, 'relu'), (32, 'relu'), (8, 'relu'), (1, 'sigmoid')],\n",
        "    'loss': 'binary_crossentropy',\n",
        "    'optimizer': 'adam',\n",
        "    'metrics': ['accuracy'],\n",
        "    'epochs': 15,\n",
        "    'batch_size': 250,\n",
        "    'validation_split': 0.2\n",
        "}\n",
        "\n",
        "dnn = create_dnn_model(input_shape, dnn_params['layers'])\n",
        "\n",
        "print(dnn.summary())\n",
        "\n",
        "history = compile_and_train_dnn(dnn, X_train, y_train, dnn_params)\n",
        "\n",
        "print(\"Training completed.\")\n"
      ],
      "metadata": {
        "colab": {
          "base_uri": "https://localhost:8080/"
        },
        "id": "Go5lZwvnaYdR",
        "outputId": "f1a7667b-4eda-42d2-e30f-29565a433f31"
      },
      "id": "Go5lZwvnaYdR",
      "execution_count": 580,
      "outputs": [
        {
          "output_type": "stream",
          "name": "stdout",
          "text": [
            "Model: \"sequential_8\"\n",
            "_________________________________________________________________\n",
            " Layer (type)                Output Shape              Param #   \n",
            "=================================================================\n",
            " dense_16 (Dense)            (None, 16)                224       \n",
            "                                                                 \n",
            " dense_17 (Dense)            (None, 32)                544       \n",
            "                                                                 \n",
            " dense_18 (Dense)            (None, 8)                 264       \n",
            "                                                                 \n",
            " dense_19 (Dense)            (None, 1)                 9         \n",
            "                                                                 \n",
            "=================================================================\n",
            "Total params: 1,041\n",
            "Trainable params: 1,041\n",
            "Non-trainable params: 0\n",
            "_________________________________________________________________\n",
            "None\n",
            "Epoch 1/15\n",
            "9000/9000 [==============================] - 25s 3ms/step - loss: 0.0063 - accuracy: 0.9992 - val_loss: 0.0030 - val_accuracy: 0.9994\n",
            "Epoch 2/15\n",
            "9000/9000 [==============================] - 24s 3ms/step - loss: 0.0026 - accuracy: 0.9995 - val_loss: 0.0028 - val_accuracy: 0.9995\n",
            "Epoch 3/15\n",
            "9000/9000 [==============================] - 22s 2ms/step - loss: 0.0024 - accuracy: 0.9996 - val_loss: 0.0024 - val_accuracy: 0.9995\n",
            "Epoch 4/15\n",
            "9000/9000 [==============================] - 23s 3ms/step - loss: 0.0023 - accuracy: 0.9996 - val_loss: 0.0026 - val_accuracy: 0.9995\n",
            "Epoch 5/15\n",
            "9000/9000 [==============================] - 25s 3ms/step - loss: 0.0021 - accuracy: 0.9996 - val_loss: 0.0022 - val_accuracy: 0.9996\n",
            "Epoch 6/15\n",
            "9000/9000 [==============================] - 22s 2ms/step - loss: 0.0021 - accuracy: 0.9996 - val_loss: 0.0024 - val_accuracy: 0.9996\n",
            "Epoch 7/15\n",
            "9000/9000 [==============================] - 22s 2ms/step - loss: 0.0020 - accuracy: 0.9996 - val_loss: 0.0023 - val_accuracy: 0.9996\n",
            "Epoch 8/15\n",
            "9000/9000 [==============================] - 25s 3ms/step - loss: 0.0020 - accuracy: 0.9996 - val_loss: 0.0021 - val_accuracy: 0.9996\n",
            "Epoch 9/15\n",
            "9000/9000 [==============================] - 23s 3ms/step - loss: 0.0019 - accuracy: 0.9996 - val_loss: 0.0020 - val_accuracy: 0.9996\n",
            "Epoch 10/15\n",
            "9000/9000 [==============================] - 22s 2ms/step - loss: 0.0019 - accuracy: 0.9996 - val_loss: 0.0019 - val_accuracy: 0.9996\n",
            "Epoch 11/15\n",
            "9000/9000 [==============================] - 24s 3ms/step - loss: 0.0019 - accuracy: 0.9996 - val_loss: 0.0020 - val_accuracy: 0.9996\n",
            "Epoch 12/15\n",
            "9000/9000 [==============================] - 24s 3ms/step - loss: 0.0019 - accuracy: 0.9996 - val_loss: 0.0020 - val_accuracy: 0.9996\n",
            "Epoch 13/15\n",
            "9000/9000 [==============================] - 25s 3ms/step - loss: 0.0018 - accuracy: 0.9996 - val_loss: 0.0019 - val_accuracy: 0.9996\n",
            "Epoch 14/15\n",
            "9000/9000 [==============================] - 21s 2ms/step - loss: 0.0018 - accuracy: 0.9996 - val_loss: 0.0019 - val_accuracy: 0.9996\n",
            "Epoch 15/15\n",
            "9000/9000 [==============================] - 22s 2ms/step - loss: 0.0018 - accuracy: 0.9996 - val_loss: 0.0021 - val_accuracy: 0.9996\n",
            "Training completed.\n"
          ]
        }
      ]
    },
    {
      "cell_type": "code",
      "execution_count": 580,
      "metadata": {
        "id": "ce1e0313-a886-49ac-8afd-93b2c50da281"
      },
      "outputs": [],
      "source": [],
      "id": "ce1e0313-a886-49ac-8afd-93b2c50da281"
    },
    {
      "cell_type": "code",
      "execution_count": 580,
      "metadata": {
        "id": "4d8a2f84-3211-48e5-8b25-f3ec2b92a531"
      },
      "outputs": [],
      "source": [],
      "id": "4d8a2f84-3211-48e5-8b25-f3ec2b92a531"
    },
    {
      "cell_type": "markdown",
      "metadata": {
        "id": "c239d780-c5a6-49bc-90cd-46785b416d39"
      },
      "source": [
        "#### Compile and Train network"
      ],
      "id": "c239d780-c5a6-49bc-90cd-46785b416d39"
    },
    {
      "cell_type": "code",
      "execution_count": 580,
      "metadata": {
        "id": "af4a8efe-fcd4-4533-9125-521a9f06df8d"
      },
      "outputs": [],
      "source": [],
      "id": "af4a8efe-fcd4-4533-9125-521a9f06df8d"
    },
    {
      "cell_type": "code",
      "execution_count": 580,
      "metadata": {
        "id": "1a8e049d-55b9-459d-96c6-b8d8e8415647"
      },
      "outputs": [],
      "source": [],
      "id": "1a8e049d-55b9-459d-96c6-b8d8e8415647"
    },
    {
      "cell_type": "markdown",
      "metadata": {
        "id": "a67f88da-e226-45df-8261-7edbfaf69051"
      },
      "source": [
        "#### Finding DNN network predictions and prediction probabilities"
      ],
      "id": "a67f88da-e226-45df-8261-7edbfaf69051"
    },
    {
      "cell_type": "code",
      "execution_count": 581,
      "metadata": {
        "id": "8cb01b3c-a241-4840-bff4-cd353564297f"
      },
      "outputs": [],
      "source": [
        "def calculate_predictions(model, X_test, threshold=0.5):\n",
        "    y_prob = model.predict(X_test)\n",
        "    y_pred = [1 if y_p >= threshold else 0 for y_p in y_prob]\n",
        "    return y_prob, y_pred\n",
        "\n",
        "def calculate_auc(y_test, y_prob):\n",
        "    return roc_auc_score(y_test, y_prob)\n",
        "\n",
        "def calculate_hamming_loss(y_test, y_pred):\n",
        "    return hamming_loss(y_test, y_pred)\n",
        "\n"
      ],
      "id": "8cb01b3c-a241-4840-bff4-cd353564297f"
    },
    {
      "cell_type": "code",
      "source": [
        "threshold = 0.5\n",
        "\n",
        "y_prob, y_pred = calculate_predictions(dnn, X_test, threshold)\n",
        "\n",
        "dnn_auc = calculate_auc(y_test, y_prob)\n",
        "print(f\"AUC score is: {dnn_auc}\")\n",
        "\n",
        "dnn_hml = calculate_hamming_loss(y_test, y_pred)\n",
        "print(f\"Hamming Loss is: {dnn_hml}\")"
      ],
      "metadata": {
        "colab": {
          "base_uri": "https://localhost:8080/"
        },
        "id": "wxuvK7bmd4wo",
        "outputId": "9e1eefc7-cbfc-418e-f3a6-5073e2fbf2f2"
      },
      "id": "wxuvK7bmd4wo",
      "execution_count": 582,
      "outputs": [
        {
          "output_type": "stream",
          "name": "stdout",
          "text": [
            "29294/29294 [==============================] - 39s 1ms/step\n",
            "AUC score is: 0.9938864279374109\n",
            "Hamming Loss is: 0.00038617534921132755\n"
          ]
        }
      ]
    },
    {
      "cell_type": "code",
      "execution_count": 582,
      "metadata": {
        "id": "f0143d22-52ed-4add-bd6b-67a8ba8bc496"
      },
      "outputs": [],
      "source": [],
      "id": "f0143d22-52ed-4add-bd6b-67a8ba8bc496"
    },
    {
      "cell_type": "code",
      "execution_count": 582,
      "metadata": {
        "id": "c53f90a1-5a81-40c1-93a4-3b950f78f44f"
      },
      "outputs": [],
      "source": [],
      "id": "c53f90a1-5a81-40c1-93a4-3b950f78f44f"
    },
    {
      "cell_type": "code",
      "execution_count": 582,
      "metadata": {
        "id": "83c628a4-e547-4020-8f64-e46e7af28f80"
      },
      "outputs": [],
      "source": [],
      "id": "83c628a4-e547-4020-8f64-e46e7af28f80"
    },
    {
      "cell_type": "markdown",
      "metadata": {
        "id": "f4c7a4df-8892-4b38-8625-49dfb8ff701d"
      },
      "source": [
        "#### Calculating accuracy scores (AUC and Hamming Loss)"
      ],
      "id": "f4c7a4df-8892-4b38-8625-49dfb8ff701d"
    },
    {
      "cell_type": "code",
      "execution_count": 582,
      "metadata": {
        "id": "f3eabf51-e194-4417-96ac-503adf99895a"
      },
      "outputs": [],
      "source": [],
      "id": "f3eabf51-e194-4417-96ac-503adf99895a"
    },
    {
      "cell_type": "code",
      "execution_count": 582,
      "metadata": {
        "id": "8ad46b83-280d-4b54-9a4a-35f7af7b0ec0"
      },
      "outputs": [],
      "source": [],
      "id": "8ad46b83-280d-4b54-9a4a-35f7af7b0ec0"
    },
    {
      "cell_type": "markdown",
      "metadata": {
        "id": "2766ff93-ee00-492a-8041-5956d4252afc"
      },
      "source": [
        "### Radial Neural Network (RNN)"
      ],
      "id": "2766ff93-ee00-492a-8041-5956d4252afc"
    },
    {
      "cell_type": "markdown",
      "metadata": {
        "id": "477821b7-4077-4165-a4f3-2ed76461913f"
      },
      "source": [
        "#### Importing Libraries"
      ],
      "id": "477821b7-4077-4165-a4f3-2ed76461913f"
    },
    {
      "cell_type": "code",
      "execution_count": 583,
      "metadata": {
        "id": "55250101-bc1a-49cf-b819-aaf03f5c5ae8"
      },
      "outputs": [],
      "source": [
        "from tensorflow.keras.layers import SimpleRNN"
      ],
      "id": "55250101-bc1a-49cf-b819-aaf03f5c5ae8"
    },
    {
      "cell_type": "markdown",
      "metadata": {
        "id": "fcdf33e5-65a5-4cff-a6e4-9f9babb2d0eb"
      },
      "source": [
        "#### Reshaping X_train and X_test for use with RNN"
      ],
      "id": "fcdf33e5-65a5-4cff-a6e4-9f9babb2d0eb"
    },
    {
      "cell_type": "code",
      "execution_count": 584,
      "metadata": {
        "colab": {
          "base_uri": "https://localhost:8080/"
        },
        "id": "c2244aa2-8fdd-4d93-bbd5-6f0cf4d64ba6",
        "outputId": "a7f4956a-4e17-4736-8596-ea4e960941f3"
      },
      "outputs": [
        {
          "output_type": "stream",
          "name": "stdout",
          "text": [
            "X_train shape is: (2812193, 1, 13), X_test shape is: (937398, 1, 13), y_train shape is: (2812193,), y_test shape is: (937398,)\n",
            "Model: \"sequential_9\"\n",
            "_________________________________________________________________\n",
            " Layer (type)                Output Shape              Param #   \n",
            "=================================================================\n",
            " simple_rnn_10 (SimpleRNN)   (None, 1, 16)             480       \n",
            "                                                                 \n",
            " simple_rnn_11 (SimpleRNN)   (None, 32)                1568      \n",
            "                                                                 \n",
            " dense_20 (Dense)            (None, 16)                528       \n",
            "                                                                 \n",
            " dense_21 (Dense)            (None, 1)                 17        \n",
            "                                                                 \n",
            "=================================================================\n",
            "Total params: 2,593\n",
            "Trainable params: 2,593\n",
            "Non-trainable params: 0\n",
            "_________________________________________________________________\n",
            "None\n",
            "Epoch 1/15\n",
            "9000/9000 [==============================] - 37s 4ms/step - loss: 0.0052 - accuracy: 0.9994 - val_loss: 0.0030 - val_accuracy: 0.9995\n",
            "Epoch 2/15\n",
            "9000/9000 [==============================] - 33s 4ms/step - loss: 0.0025 - accuracy: 0.9996 - val_loss: 0.0026 - val_accuracy: 0.9996\n",
            "Epoch 3/15\n",
            "9000/9000 [==============================] - 33s 4ms/step - loss: 0.0024 - accuracy: 0.9996 - val_loss: 0.0024 - val_accuracy: 0.9996\n",
            "Epoch 4/15\n",
            "9000/9000 [==============================] - 34s 4ms/step - loss: 0.0023 - accuracy: 0.9996 - val_loss: 0.0023 - val_accuracy: 0.9996\n",
            "Epoch 5/15\n",
            "9000/9000 [==============================] - 35s 4ms/step - loss: 0.0022 - accuracy: 0.9996 - val_loss: 0.0024 - val_accuracy: 0.9996\n",
            "Epoch 6/15\n",
            "9000/9000 [==============================] - 33s 4ms/step - loss: 0.0022 - accuracy: 0.9996 - val_loss: 0.0021 - val_accuracy: 0.9996\n",
            "Epoch 7/15\n",
            "9000/9000 [==============================] - 33s 4ms/step - loss: 0.0021 - accuracy: 0.9996 - val_loss: 0.0023 - val_accuracy: 0.9996\n",
            "Epoch 8/15\n",
            "9000/9000 [==============================] - 34s 4ms/step - loss: 0.0021 - accuracy: 0.9996 - val_loss: 0.0022 - val_accuracy: 0.9996\n",
            "Epoch 9/15\n",
            "9000/9000 [==============================] - 36s 4ms/step - loss: 0.0021 - accuracy: 0.9996 - val_loss: 0.0021 - val_accuracy: 0.9996\n",
            "Epoch 10/15\n",
            "9000/9000 [==============================] - 34s 4ms/step - loss: 0.0021 - accuracy: 0.9996 - val_loss: 0.0021 - val_accuracy: 0.9996\n",
            "Epoch 11/15\n",
            "9000/9000 [==============================] - 34s 4ms/step - loss: 0.0020 - accuracy: 0.9996 - val_loss: 0.0024 - val_accuracy: 0.9996\n",
            "Epoch 12/15\n",
            "9000/9000 [==============================] - 33s 4ms/step - loss: 0.0020 - accuracy: 0.9996 - val_loss: 0.0020 - val_accuracy: 0.9996\n",
            "Epoch 13/15\n",
            "9000/9000 [==============================] - 36s 4ms/step - loss: 0.0020 - accuracy: 0.9996 - val_loss: 0.0022 - val_accuracy: 0.9996\n",
            "Epoch 14/15\n",
            "9000/9000 [==============================] - 34s 4ms/step - loss: 0.0020 - accuracy: 0.9996 - val_loss: 0.0023 - val_accuracy: 0.9996\n",
            "Epoch 15/15\n",
            "9000/9000 [==============================] - 35s 4ms/step - loss: 0.0019 - accuracy: 0.9996 - val_loss: 0.0023 - val_accuracy: 0.9996\n"
          ]
        },
        {
          "output_type": "execute_result",
          "data": {
            "text/plain": [
              "<keras.callbacks.History at 0x7ea09d3118a0>"
            ]
          },
          "metadata": {},
          "execution_count": 584
        }
      ],
      "source": [
        "rnn_params = {\n",
        "    'input_shape': (X_train.shape[1],),\n",
        "    'units': [16, 32],\n",
        "    'loss': 'binary_crossentropy',\n",
        "    'optimizer': 'adam',\n",
        "    'metrics': ['accuracy'],\n",
        "    'epochs': 15,\n",
        "    'batch_size': 250,\n",
        "    'validation_split': 0.2\n",
        "}\n",
        "\n",
        "# Reshape the data to include a time step dimension\n",
        "X_train_rnn = X_train.reshape((X_train.shape[0], 1, X_train.shape[1]))\n",
        "X_test_rnn = X_test.reshape((X_test.shape[0], 1, X_test.shape[1]))\n",
        "\n",
        "print(f\"X_train shape is: {X_train_rnn.shape}, X_test shape is: {X_test_rnn.shape}, y_train shape is: {y_train.shape}, y_test shape is: {y_test.shape}\")\n",
        "\n",
        "# Create an RNN model\n",
        "rnn = Sequential()\n",
        "rnn.add(SimpleRNN(rnn_params['units'][0], input_shape=(1, X_train.shape[1]), return_sequences=True))\n",
        "rnn.add(SimpleRNN(rnn_params['units'][1]))\n",
        "rnn.add(Dense(16, activation='relu'))\n",
        "rnn.add(Dense(1, activation='sigmoid'))\n",
        "\n",
        "print(rnn.summary())\n",
        "\n",
        "# Compile and train the RNN model\n",
        "rnn.compile(loss=rnn_params['loss'], optimizer=rnn_params['optimizer'], metrics=rnn_params['metrics'])\n",
        "rnn.fit(X_train_rnn, y_train, epochs=rnn_params['epochs'], batch_size=rnn_params['batch_size'], verbose=1, validation_split=rnn_params['validation_split'])\n",
        "\n"
      ],
      "id": "c2244aa2-8fdd-4d93-bbd5-6f0cf4d64ba6"
    },
    {
      "cell_type": "markdown",
      "metadata": {
        "id": "2e442805-a552-4a3e-8ec2-d31261f40998"
      },
      "source": [
        "#### Creating Network"
      ],
      "id": "2e442805-a552-4a3e-8ec2-d31261f40998"
    },
    {
      "cell_type": "code",
      "execution_count": 584,
      "metadata": {
        "id": "85769a28-16cf-4c12-a2c6-65612cb79b94"
      },
      "outputs": [],
      "source": [],
      "id": "85769a28-16cf-4c12-a2c6-65612cb79b94"
    },
    {
      "cell_type": "markdown",
      "metadata": {
        "id": "546c857d-4287-469d-97d3-7713b90f7a51"
      },
      "source": [
        "#### Compile and Train Network"
      ],
      "id": "546c857d-4287-469d-97d3-7713b90f7a51"
    },
    {
      "cell_type": "markdown",
      "metadata": {
        "id": "eb4247aa-9203-4f52-9b37-d9bb006f47a7"
      },
      "source": [
        "#### Finding RNN network predictions and prediction probabilities"
      ],
      "id": "eb4247aa-9203-4f52-9b37-d9bb006f47a7"
    },
    {
      "cell_type": "code",
      "execution_count": 585,
      "metadata": {
        "id": "c0e2ec4e-119b-497c-99ad-4940ad682846"
      },
      "outputs": [],
      "source": [
        "def calculate_predictions(model, X_test_rnn, threshold=0.5):\n",
        "    y_prob = model.predict(X_test_rnn)\n",
        "    y_pred = [1 if y_p >= threshold else 0 for y_p in y_prob]\n",
        "    return y_prob, y_pred\n",
        "\n",
        "def calculate_auc(y_test, y_prob):\n",
        "    return roc_auc_score(y_test, y_prob)\n",
        "\n",
        "def calculate_hamming_loss(y_test, y_pred):\n",
        "    return hamming_loss(y_test, y_pred)"
      ],
      "id": "c0e2ec4e-119b-497c-99ad-4940ad682846"
    },
    {
      "cell_type": "code",
      "source": [
        "threshold = 0.5\n",
        "\n",
        "y_prob, y_pred = calculate_predictions(rnn, X_test_rnn, threshold)\n",
        "\n",
        "rnn_auc = calculate_auc(y_test, y_prob)\n",
        "print(f\"AUC score is: {rnn_auc}\")\n",
        "\n",
        "rnn_hml = calculate_hamming_loss(y_test, y_pred)\n",
        "print(f\"Hamming Loss is: {rnn_hml}\")\n"
      ],
      "metadata": {
        "colab": {
          "base_uri": "https://localhost:8080/"
        },
        "id": "jRabN_yUhOsR",
        "outputId": "236bb431-0263-45f2-c54c-6ef2f901f956"
      },
      "id": "jRabN_yUhOsR",
      "execution_count": 586,
      "outputs": [
        {
          "output_type": "stream",
          "name": "stdout",
          "text": [
            "29294/29294 [==============================] - 49s 2ms/step\n",
            "AUC score is: 0.9944191488530285\n",
            "Hamming Loss is: 0.00041177813479439896\n"
          ]
        }
      ]
    },
    {
      "cell_type": "markdown",
      "metadata": {
        "id": "f89b378f-81ee-45c1-bdcc-07f7c60b3322"
      },
      "source": [
        "#### Calculating accuracy scores (AUC and Hamming Loss)"
      ],
      "id": "f89b378f-81ee-45c1-bdcc-07f7c60b3322"
    },
    {
      "cell_type": "markdown",
      "metadata": {
        "id": "b4a2c5bd-cd45-476f-a02c-f5dd472e88dd"
      },
      "source": [
        "### Comparing Neural Network accuracy scores"
      ],
      "id": "b4a2c5bd-cd45-476f-a02c-f5dd472e88dd"
    },
    {
      "cell_type": "code",
      "execution_count": 587,
      "metadata": {
        "id": "24d56bec-f75a-47f6-8ca1-c36846082274",
        "colab": {
          "base_uri": "https://localhost:8080/"
        },
        "outputId": "e141725a-29d5-42d2-d025-1d497fa3ddbe"
      },
      "outputs": [
        {
          "output_type": "stream",
          "name": "stdout",
          "text": [
            "\n",
            "Hamming Loss Dictionary:\n",
            "{'DNN': 0.00038617534921132755, 'RNN': 0.00041177813479439896}\n"
          ]
        }
      ],
      "source": [
        "\n",
        "keys = ['DNN', 'RNN']\n",
        "NN_auc_scrs = [dnn_auc, rnn_auc]\n",
        "NN_hml_scrs = [dnn_hml, rnn_hml]\n",
        "\n",
        "NN_auc_dict = dict(zip(keys, NN_auc_scrs))\n",
        "NN_hml_dict = dict(zip(keys, NN_hml_scrs))\n",
        "\n",
        "\n",
        "print(\"\\nHamming Loss Dictionary:\")\n",
        "print(NN_hml_dict)\n"
      ],
      "id": "24d56bec-f75a-47f6-8ca1-c36846082274"
    },
    {
      "cell_type": "markdown",
      "metadata": {
        "id": "ddceb4f5-7c20-40b2-971d-841acb05075d"
      },
      "source": [
        "#### Plotting AUC accuracy scores (Higher AUC score indicates better result)"
      ],
      "id": "ddceb4f5-7c20-40b2-971d-841acb05075d"
    },
    {
      "cell_type": "code",
      "execution_count": 588,
      "metadata": {
        "colab": {
          "base_uri": "https://localhost:8080/",
          "height": 1000
        },
        "id": "8dbe79be-8560-44c4-a16f-51e510fe41b1",
        "outputId": "4ebd1f30-06a8-44aa-a0fd-7123a55c4775"
      },
      "outputs": [
        {
          "output_type": "display_data",
          "data": {
            "text/html": [
              "<html>\n",
              "<head><meta charset=\"utf-8\" /></head>\n",
              "<body>\n",
              "    <div>            <script src=\"https://cdnjs.cloudflare.com/ajax/libs/mathjax/2.7.5/MathJax.js?config=TeX-AMS-MML_SVG\"></script><script type=\"text/javascript\">if (window.MathJax && window.MathJax.Hub && window.MathJax.Hub.Config) {window.MathJax.Hub.Config({SVG: {font: \"STIX-Web\"}});}</script>                <script type=\"text/javascript\">window.PlotlyConfig = {MathJaxConfig: 'local'};</script>\n",
              "        <script charset=\"utf-8\" src=\"https://cdn.plot.ly/plotly-2.24.1.min.js\"></script>                <div id=\"702b7507-cbc9-4639-8e17-bae3f408b719\" class=\"plotly-graph-div\" style=\"height:525px; width:100%;\"></div>            <script type=\"text/javascript\">                                    window.PLOTLYENV=window.PLOTLYENV || {};                                    if (document.getElementById(\"702b7507-cbc9-4639-8e17-bae3f408b719\")) {                    Plotly.newPlot(                        \"702b7507-cbc9-4639-8e17-bae3f408b719\",                        [{\"alignmentgroup\":\"True\",\"hovertemplate\":\"color=DNN\\u003cbr\\u003ex=%{x}\\u003cbr\\u003ey=%{y}\\u003cbr\\u003etext=%{text}\\u003cextra\\u003e\\u003c\\u002fextra\\u003e\",\"legendgroup\":\"DNN\",\"marker\":{\"color\":\"rgb(253, 237, 176)\",\"pattern\":{\"shape\":\"\"}},\"name\":\"DNN\",\"offsetgroup\":\"DNN\",\"orientation\":\"v\",\"showlegend\":true,\"text\":[0.993886],\"textposition\":\"auto\",\"x\":[\"DNN\"],\"xaxis\":\"x\",\"y\":[0.9938864279374109],\"yaxis\":\"y\",\"type\":\"bar\"},{\"alignmentgroup\":\"True\",\"hovertemplate\":\"color=RNN\\u003cbr\\u003ex=%{x}\\u003cbr\\u003ey=%{y}\\u003cbr\\u003etext=%{text}\\u003cextra\\u003e\\u003c\\u002fextra\\u003e\",\"legendgroup\":\"RNN\",\"marker\":{\"color\":\"rgb(250, 205, 145)\",\"pattern\":{\"shape\":\"\"}},\"name\":\"RNN\",\"offsetgroup\":\"RNN\",\"orientation\":\"v\",\"showlegend\":true,\"text\":[0.994419],\"textposition\":\"auto\",\"x\":[\"RNN\"],\"xaxis\":\"x\",\"y\":[0.9944191488530285],\"yaxis\":\"y\",\"type\":\"bar\"}],                        {\"template\":{\"data\":{\"histogram2dcontour\":[{\"type\":\"histogram2dcontour\",\"colorbar\":{\"outlinewidth\":0,\"ticks\":\"\"},\"colorscale\":[[0.0,\"#0d0887\"],[0.1111111111111111,\"#46039f\"],[0.2222222222222222,\"#7201a8\"],[0.3333333333333333,\"#9c179e\"],[0.4444444444444444,\"#bd3786\"],[0.5555555555555556,\"#d8576b\"],[0.6666666666666666,\"#ed7953\"],[0.7777777777777778,\"#fb9f3a\"],[0.8888888888888888,\"#fdca26\"],[1.0,\"#f0f921\"]]}],\"choropleth\":[{\"type\":\"choropleth\",\"colorbar\":{\"outlinewidth\":0,\"ticks\":\"\"}}],\"histogram2d\":[{\"type\":\"histogram2d\",\"colorbar\":{\"outlinewidth\":0,\"ticks\":\"\"},\"colorscale\":[[0.0,\"#0d0887\"],[0.1111111111111111,\"#46039f\"],[0.2222222222222222,\"#7201a8\"],[0.3333333333333333,\"#9c179e\"],[0.4444444444444444,\"#bd3786\"],[0.5555555555555556,\"#d8576b\"],[0.6666666666666666,\"#ed7953\"],[0.7777777777777778,\"#fb9f3a\"],[0.8888888888888888,\"#fdca26\"],[1.0,\"#f0f921\"]]}],\"heatmap\":[{\"type\":\"heatmap\",\"colorbar\":{\"outlinewidth\":0,\"ticks\":\"\"},\"colorscale\":[[0.0,\"#0d0887\"],[0.1111111111111111,\"#46039f\"],[0.2222222222222222,\"#7201a8\"],[0.3333333333333333,\"#9c179e\"],[0.4444444444444444,\"#bd3786\"],[0.5555555555555556,\"#d8576b\"],[0.6666666666666666,\"#ed7953\"],[0.7777777777777778,\"#fb9f3a\"],[0.8888888888888888,\"#fdca26\"],[1.0,\"#f0f921\"]]}],\"heatmapgl\":[{\"type\":\"heatmapgl\",\"colorbar\":{\"outlinewidth\":0,\"ticks\":\"\"},\"colorscale\":[[0.0,\"#0d0887\"],[0.1111111111111111,\"#46039f\"],[0.2222222222222222,\"#7201a8\"],[0.3333333333333333,\"#9c179e\"],[0.4444444444444444,\"#bd3786\"],[0.5555555555555556,\"#d8576b\"],[0.6666666666666666,\"#ed7953\"],[0.7777777777777778,\"#fb9f3a\"],[0.8888888888888888,\"#fdca26\"],[1.0,\"#f0f921\"]]}],\"contourcarpet\":[{\"type\":\"contourcarpet\",\"colorbar\":{\"outlinewidth\":0,\"ticks\":\"\"}}],\"contour\":[{\"type\":\"contour\",\"colorbar\":{\"outlinewidth\":0,\"ticks\":\"\"},\"colorscale\":[[0.0,\"#0d0887\"],[0.1111111111111111,\"#46039f\"],[0.2222222222222222,\"#7201a8\"],[0.3333333333333333,\"#9c179e\"],[0.4444444444444444,\"#bd3786\"],[0.5555555555555556,\"#d8576b\"],[0.6666666666666666,\"#ed7953\"],[0.7777777777777778,\"#fb9f3a\"],[0.8888888888888888,\"#fdca26\"],[1.0,\"#f0f921\"]]}],\"surface\":[{\"type\":\"surface\",\"colorbar\":{\"outlinewidth\":0,\"ticks\":\"\"},\"colorscale\":[[0.0,\"#0d0887\"],[0.1111111111111111,\"#46039f\"],[0.2222222222222222,\"#7201a8\"],[0.3333333333333333,\"#9c179e\"],[0.4444444444444444,\"#bd3786\"],[0.5555555555555556,\"#d8576b\"],[0.6666666666666666,\"#ed7953\"],[0.7777777777777778,\"#fb9f3a\"],[0.8888888888888888,\"#fdca26\"],[1.0,\"#f0f921\"]]}],\"mesh3d\":[{\"type\":\"mesh3d\",\"colorbar\":{\"outlinewidth\":0,\"ticks\":\"\"}}],\"scatter\":[{\"fillpattern\":{\"fillmode\":\"overlay\",\"size\":10,\"solidity\":0.2},\"type\":\"scatter\"}],\"parcoords\":[{\"type\":\"parcoords\",\"line\":{\"colorbar\":{\"outlinewidth\":0,\"ticks\":\"\"}}}],\"scatterpolargl\":[{\"type\":\"scatterpolargl\",\"marker\":{\"colorbar\":{\"outlinewidth\":0,\"ticks\":\"\"}}}],\"bar\":[{\"error_x\":{\"color\":\"#2a3f5f\"},\"error_y\":{\"color\":\"#2a3f5f\"},\"marker\":{\"line\":{\"color\":\"#E5ECF6\",\"width\":0.5},\"pattern\":{\"fillmode\":\"overlay\",\"size\":10,\"solidity\":0.2}},\"type\":\"bar\"}],\"scattergeo\":[{\"type\":\"scattergeo\",\"marker\":{\"colorbar\":{\"outlinewidth\":0,\"ticks\":\"\"}}}],\"scatterpolar\":[{\"type\":\"scatterpolar\",\"marker\":{\"colorbar\":{\"outlinewidth\":0,\"ticks\":\"\"}}}],\"histogram\":[{\"marker\":{\"pattern\":{\"fillmode\":\"overlay\",\"size\":10,\"solidity\":0.2}},\"type\":\"histogram\"}],\"scattergl\":[{\"type\":\"scattergl\",\"marker\":{\"colorbar\":{\"outlinewidth\":0,\"ticks\":\"\"}}}],\"scatter3d\":[{\"type\":\"scatter3d\",\"line\":{\"colorbar\":{\"outlinewidth\":0,\"ticks\":\"\"}},\"marker\":{\"colorbar\":{\"outlinewidth\":0,\"ticks\":\"\"}}}],\"scattermapbox\":[{\"type\":\"scattermapbox\",\"marker\":{\"colorbar\":{\"outlinewidth\":0,\"ticks\":\"\"}}}],\"scatterternary\":[{\"type\":\"scatterternary\",\"marker\":{\"colorbar\":{\"outlinewidth\":0,\"ticks\":\"\"}}}],\"scattercarpet\":[{\"type\":\"scattercarpet\",\"marker\":{\"colorbar\":{\"outlinewidth\":0,\"ticks\":\"\"}}}],\"carpet\":[{\"aaxis\":{\"endlinecolor\":\"#2a3f5f\",\"gridcolor\":\"white\",\"linecolor\":\"white\",\"minorgridcolor\":\"white\",\"startlinecolor\":\"#2a3f5f\"},\"baxis\":{\"endlinecolor\":\"#2a3f5f\",\"gridcolor\":\"white\",\"linecolor\":\"white\",\"minorgridcolor\":\"white\",\"startlinecolor\":\"#2a3f5f\"},\"type\":\"carpet\"}],\"table\":[{\"cells\":{\"fill\":{\"color\":\"#EBF0F8\"},\"line\":{\"color\":\"white\"}},\"header\":{\"fill\":{\"color\":\"#C8D4E3\"},\"line\":{\"color\":\"white\"}},\"type\":\"table\"}],\"barpolar\":[{\"marker\":{\"line\":{\"color\":\"#E5ECF6\",\"width\":0.5},\"pattern\":{\"fillmode\":\"overlay\",\"size\":10,\"solidity\":0.2}},\"type\":\"barpolar\"}],\"pie\":[{\"automargin\":true,\"type\":\"pie\"}]},\"layout\":{\"autotypenumbers\":\"strict\",\"colorway\":[\"#636efa\",\"#EF553B\",\"#00cc96\",\"#ab63fa\",\"#FFA15A\",\"#19d3f3\",\"#FF6692\",\"#B6E880\",\"#FF97FF\",\"#FECB52\"],\"font\":{\"color\":\"#2a3f5f\"},\"hovermode\":\"closest\",\"hoverlabel\":{\"align\":\"left\"},\"paper_bgcolor\":\"white\",\"plot_bgcolor\":\"#E5ECF6\",\"polar\":{\"bgcolor\":\"#E5ECF6\",\"angularaxis\":{\"gridcolor\":\"white\",\"linecolor\":\"white\",\"ticks\":\"\"},\"radialaxis\":{\"gridcolor\":\"white\",\"linecolor\":\"white\",\"ticks\":\"\"}},\"ternary\":{\"bgcolor\":\"#E5ECF6\",\"aaxis\":{\"gridcolor\":\"white\",\"linecolor\":\"white\",\"ticks\":\"\"},\"baxis\":{\"gridcolor\":\"white\",\"linecolor\":\"white\",\"ticks\":\"\"},\"caxis\":{\"gridcolor\":\"white\",\"linecolor\":\"white\",\"ticks\":\"\"}},\"coloraxis\":{\"colorbar\":{\"outlinewidth\":0,\"ticks\":\"\"}},\"colorscale\":{\"sequential\":[[0.0,\"#0d0887\"],[0.1111111111111111,\"#46039f\"],[0.2222222222222222,\"#7201a8\"],[0.3333333333333333,\"#9c179e\"],[0.4444444444444444,\"#bd3786\"],[0.5555555555555556,\"#d8576b\"],[0.6666666666666666,\"#ed7953\"],[0.7777777777777778,\"#fb9f3a\"],[0.8888888888888888,\"#fdca26\"],[1.0,\"#f0f921\"]],\"sequentialminus\":[[0.0,\"#0d0887\"],[0.1111111111111111,\"#46039f\"],[0.2222222222222222,\"#7201a8\"],[0.3333333333333333,\"#9c179e\"],[0.4444444444444444,\"#bd3786\"],[0.5555555555555556,\"#d8576b\"],[0.6666666666666666,\"#ed7953\"],[0.7777777777777778,\"#fb9f3a\"],[0.8888888888888888,\"#fdca26\"],[1.0,\"#f0f921\"]],\"diverging\":[[0,\"#8e0152\"],[0.1,\"#c51b7d\"],[0.2,\"#de77ae\"],[0.3,\"#f1b6da\"],[0.4,\"#fde0ef\"],[0.5,\"#f7f7f7\"],[0.6,\"#e6f5d0\"],[0.7,\"#b8e186\"],[0.8,\"#7fbc41\"],[0.9,\"#4d9221\"],[1,\"#276419\"]]},\"xaxis\":{\"gridcolor\":\"white\",\"linecolor\":\"white\",\"ticks\":\"\",\"title\":{\"standoff\":15},\"zerolinecolor\":\"white\",\"automargin\":true,\"zerolinewidth\":2},\"yaxis\":{\"gridcolor\":\"white\",\"linecolor\":\"white\",\"ticks\":\"\",\"title\":{\"standoff\":15},\"zerolinecolor\":\"white\",\"automargin\":true,\"zerolinewidth\":2},\"scene\":{\"xaxis\":{\"backgroundcolor\":\"#E5ECF6\",\"gridcolor\":\"white\",\"linecolor\":\"white\",\"showbackground\":true,\"ticks\":\"\",\"zerolinecolor\":\"white\",\"gridwidth\":2},\"yaxis\":{\"backgroundcolor\":\"#E5ECF6\",\"gridcolor\":\"white\",\"linecolor\":\"white\",\"showbackground\":true,\"ticks\":\"\",\"zerolinecolor\":\"white\",\"gridwidth\":2},\"zaxis\":{\"backgroundcolor\":\"#E5ECF6\",\"gridcolor\":\"white\",\"linecolor\":\"white\",\"showbackground\":true,\"ticks\":\"\",\"zerolinecolor\":\"white\",\"gridwidth\":2}},\"shapedefaults\":{\"line\":{\"color\":\"#2a3f5f\"}},\"annotationdefaults\":{\"arrowcolor\":\"#2a3f5f\",\"arrowhead\":0,\"arrowwidth\":1},\"geo\":{\"bgcolor\":\"white\",\"landcolor\":\"#E5ECF6\",\"subunitcolor\":\"white\",\"showland\":true,\"showlakes\":true,\"lakecolor\":\"white\"},\"title\":{\"x\":0.05},\"mapbox\":{\"style\":\"light\"}}},\"xaxis\":{\"anchor\":\"y\",\"domain\":[0.0,1.0],\"title\":{\"text\":\"x\"}},\"yaxis\":{\"anchor\":\"x\",\"domain\":[0.0,1.0],\"title\":{\"text\":\"y\"}},\"legend\":{\"title\":{\"text\":\"color\"},\"tracegroupgap\":0},\"title\":{\"text\":\"Accuracy (AUC) score of each Classifier\"},\"barmode\":\"relative\"},                        {\"responsive\": true}                    ).then(function(){\n",
              "                            \n",
              "var gd = document.getElementById('702b7507-cbc9-4639-8e17-bae3f408b719');\n",
              "var x = new MutationObserver(function (mutations, observer) {{\n",
              "        var display = window.getComputedStyle(gd).display;\n",
              "        if (!display || display === 'none') {{\n",
              "            console.log([gd, 'removed!']);\n",
              "            Plotly.purge(gd);\n",
              "            observer.disconnect();\n",
              "        }}\n",
              "}});\n",
              "\n",
              "// Listen for the removal of the full notebook cells\n",
              "var notebookContainer = gd.closest('#notebook-container');\n",
              "if (notebookContainer) {{\n",
              "    x.observe(notebookContainer, {childList: true});\n",
              "}}\n",
              "\n",
              "// Listen for the clearing of the current output cell\n",
              "var outputEl = gd.closest('.output');\n",
              "if (outputEl) {{\n",
              "    x.observe(outputEl, {childList: true});\n",
              "}}\n",
              "\n",
              "                        })                };                            </script>        </div>\n",
              "</body>\n",
              "</html>"
            ]
          },
          "metadata": {}
        },
        {
          "output_type": "display_data",
          "data": {
            "text/html": [
              "<html>\n",
              "<head><meta charset=\"utf-8\" /></head>\n",
              "<body>\n",
              "    <div>            <script src=\"https://cdnjs.cloudflare.com/ajax/libs/mathjax/2.7.5/MathJax.js?config=TeX-AMS-MML_SVG\"></script><script type=\"text/javascript\">if (window.MathJax && window.MathJax.Hub && window.MathJax.Hub.Config) {window.MathJax.Hub.Config({SVG: {font: \"STIX-Web\"}});}</script>                <script type=\"text/javascript\">window.PlotlyConfig = {MathJaxConfig: 'local'};</script>\n",
              "        <script charset=\"utf-8\" src=\"https://cdn.plot.ly/plotly-2.24.1.min.js\"></script>                <div id=\"68fb4cd4-7da8-4857-ad3c-7821fe708185\" class=\"plotly-graph-div\" style=\"height:525px; width:100%;\"></div>            <script type=\"text/javascript\">                                    window.PLOTLYENV=window.PLOTLYENV || {};                                    if (document.getElementById(\"68fb4cd4-7da8-4857-ad3c-7821fe708185\")) {                    Plotly.newPlot(                        \"68fb4cd4-7da8-4857-ad3c-7821fe708185\",                        [{\"alignmentgroup\":\"True\",\"hovertemplate\":\"color=DNN\\u003cbr\\u003ex=%{x}\\u003cbr\\u003ey=%{y}\\u003cbr\\u003etext=%{text}\\u003cextra\\u003e\\u003c\\u002fextra\\u003e\",\"legendgroup\":\"DNN\",\"marker\":{\"color\":\"rgb(253, 237, 176)\",\"pattern\":{\"shape\":\"\"}},\"name\":\"DNN\",\"offsetgroup\":\"DNN\",\"orientation\":\"v\",\"showlegend\":true,\"text\":[0.000386],\"textposition\":\"auto\",\"x\":[\"DNN\"],\"xaxis\":\"x\",\"y\":[0.00038617534921132755],\"yaxis\":\"y\",\"type\":\"bar\"},{\"alignmentgroup\":\"True\",\"hovertemplate\":\"color=RNN\\u003cbr\\u003ex=%{x}\\u003cbr\\u003ey=%{y}\\u003cbr\\u003etext=%{text}\\u003cextra\\u003e\\u003c\\u002fextra\\u003e\",\"legendgroup\":\"RNN\",\"marker\":{\"color\":\"rgb(250, 205, 145)\",\"pattern\":{\"shape\":\"\"}},\"name\":\"RNN\",\"offsetgroup\":\"RNN\",\"orientation\":\"v\",\"showlegend\":true,\"text\":[0.000412],\"textposition\":\"auto\",\"x\":[\"RNN\"],\"xaxis\":\"x\",\"y\":[0.00041177813479439896],\"yaxis\":\"y\",\"type\":\"bar\"}],                        {\"template\":{\"data\":{\"histogram2dcontour\":[{\"type\":\"histogram2dcontour\",\"colorbar\":{\"outlinewidth\":0,\"ticks\":\"\"},\"colorscale\":[[0.0,\"#0d0887\"],[0.1111111111111111,\"#46039f\"],[0.2222222222222222,\"#7201a8\"],[0.3333333333333333,\"#9c179e\"],[0.4444444444444444,\"#bd3786\"],[0.5555555555555556,\"#d8576b\"],[0.6666666666666666,\"#ed7953\"],[0.7777777777777778,\"#fb9f3a\"],[0.8888888888888888,\"#fdca26\"],[1.0,\"#f0f921\"]]}],\"choropleth\":[{\"type\":\"choropleth\",\"colorbar\":{\"outlinewidth\":0,\"ticks\":\"\"}}],\"histogram2d\":[{\"type\":\"histogram2d\",\"colorbar\":{\"outlinewidth\":0,\"ticks\":\"\"},\"colorscale\":[[0.0,\"#0d0887\"],[0.1111111111111111,\"#46039f\"],[0.2222222222222222,\"#7201a8\"],[0.3333333333333333,\"#9c179e\"],[0.4444444444444444,\"#bd3786\"],[0.5555555555555556,\"#d8576b\"],[0.6666666666666666,\"#ed7953\"],[0.7777777777777778,\"#fb9f3a\"],[0.8888888888888888,\"#fdca26\"],[1.0,\"#f0f921\"]]}],\"heatmap\":[{\"type\":\"heatmap\",\"colorbar\":{\"outlinewidth\":0,\"ticks\":\"\"},\"colorscale\":[[0.0,\"#0d0887\"],[0.1111111111111111,\"#46039f\"],[0.2222222222222222,\"#7201a8\"],[0.3333333333333333,\"#9c179e\"],[0.4444444444444444,\"#bd3786\"],[0.5555555555555556,\"#d8576b\"],[0.6666666666666666,\"#ed7953\"],[0.7777777777777778,\"#fb9f3a\"],[0.8888888888888888,\"#fdca26\"],[1.0,\"#f0f921\"]]}],\"heatmapgl\":[{\"type\":\"heatmapgl\",\"colorbar\":{\"outlinewidth\":0,\"ticks\":\"\"},\"colorscale\":[[0.0,\"#0d0887\"],[0.1111111111111111,\"#46039f\"],[0.2222222222222222,\"#7201a8\"],[0.3333333333333333,\"#9c179e\"],[0.4444444444444444,\"#bd3786\"],[0.5555555555555556,\"#d8576b\"],[0.6666666666666666,\"#ed7953\"],[0.7777777777777778,\"#fb9f3a\"],[0.8888888888888888,\"#fdca26\"],[1.0,\"#f0f921\"]]}],\"contourcarpet\":[{\"type\":\"contourcarpet\",\"colorbar\":{\"outlinewidth\":0,\"ticks\":\"\"}}],\"contour\":[{\"type\":\"contour\",\"colorbar\":{\"outlinewidth\":0,\"ticks\":\"\"},\"colorscale\":[[0.0,\"#0d0887\"],[0.1111111111111111,\"#46039f\"],[0.2222222222222222,\"#7201a8\"],[0.3333333333333333,\"#9c179e\"],[0.4444444444444444,\"#bd3786\"],[0.5555555555555556,\"#d8576b\"],[0.6666666666666666,\"#ed7953\"],[0.7777777777777778,\"#fb9f3a\"],[0.8888888888888888,\"#fdca26\"],[1.0,\"#f0f921\"]]}],\"surface\":[{\"type\":\"surface\",\"colorbar\":{\"outlinewidth\":0,\"ticks\":\"\"},\"colorscale\":[[0.0,\"#0d0887\"],[0.1111111111111111,\"#46039f\"],[0.2222222222222222,\"#7201a8\"],[0.3333333333333333,\"#9c179e\"],[0.4444444444444444,\"#bd3786\"],[0.5555555555555556,\"#d8576b\"],[0.6666666666666666,\"#ed7953\"],[0.7777777777777778,\"#fb9f3a\"],[0.8888888888888888,\"#fdca26\"],[1.0,\"#f0f921\"]]}],\"mesh3d\":[{\"type\":\"mesh3d\",\"colorbar\":{\"outlinewidth\":0,\"ticks\":\"\"}}],\"scatter\":[{\"fillpattern\":{\"fillmode\":\"overlay\",\"size\":10,\"solidity\":0.2},\"type\":\"scatter\"}],\"parcoords\":[{\"type\":\"parcoords\",\"line\":{\"colorbar\":{\"outlinewidth\":0,\"ticks\":\"\"}}}],\"scatterpolargl\":[{\"type\":\"scatterpolargl\",\"marker\":{\"colorbar\":{\"outlinewidth\":0,\"ticks\":\"\"}}}],\"bar\":[{\"error_x\":{\"color\":\"#2a3f5f\"},\"error_y\":{\"color\":\"#2a3f5f\"},\"marker\":{\"line\":{\"color\":\"#E5ECF6\",\"width\":0.5},\"pattern\":{\"fillmode\":\"overlay\",\"size\":10,\"solidity\":0.2}},\"type\":\"bar\"}],\"scattergeo\":[{\"type\":\"scattergeo\",\"marker\":{\"colorbar\":{\"outlinewidth\":0,\"ticks\":\"\"}}}],\"scatterpolar\":[{\"type\":\"scatterpolar\",\"marker\":{\"colorbar\":{\"outlinewidth\":0,\"ticks\":\"\"}}}],\"histogram\":[{\"marker\":{\"pattern\":{\"fillmode\":\"overlay\",\"size\":10,\"solidity\":0.2}},\"type\":\"histogram\"}],\"scattergl\":[{\"type\":\"scattergl\",\"marker\":{\"colorbar\":{\"outlinewidth\":0,\"ticks\":\"\"}}}],\"scatter3d\":[{\"type\":\"scatter3d\",\"line\":{\"colorbar\":{\"outlinewidth\":0,\"ticks\":\"\"}},\"marker\":{\"colorbar\":{\"outlinewidth\":0,\"ticks\":\"\"}}}],\"scattermapbox\":[{\"type\":\"scattermapbox\",\"marker\":{\"colorbar\":{\"outlinewidth\":0,\"ticks\":\"\"}}}],\"scatterternary\":[{\"type\":\"scatterternary\",\"marker\":{\"colorbar\":{\"outlinewidth\":0,\"ticks\":\"\"}}}],\"scattercarpet\":[{\"type\":\"scattercarpet\",\"marker\":{\"colorbar\":{\"outlinewidth\":0,\"ticks\":\"\"}}}],\"carpet\":[{\"aaxis\":{\"endlinecolor\":\"#2a3f5f\",\"gridcolor\":\"white\",\"linecolor\":\"white\",\"minorgridcolor\":\"white\",\"startlinecolor\":\"#2a3f5f\"},\"baxis\":{\"endlinecolor\":\"#2a3f5f\",\"gridcolor\":\"white\",\"linecolor\":\"white\",\"minorgridcolor\":\"white\",\"startlinecolor\":\"#2a3f5f\"},\"type\":\"carpet\"}],\"table\":[{\"cells\":{\"fill\":{\"color\":\"#EBF0F8\"},\"line\":{\"color\":\"white\"}},\"header\":{\"fill\":{\"color\":\"#C8D4E3\"},\"line\":{\"color\":\"white\"}},\"type\":\"table\"}],\"barpolar\":[{\"marker\":{\"line\":{\"color\":\"#E5ECF6\",\"width\":0.5},\"pattern\":{\"fillmode\":\"overlay\",\"size\":10,\"solidity\":0.2}},\"type\":\"barpolar\"}],\"pie\":[{\"automargin\":true,\"type\":\"pie\"}]},\"layout\":{\"autotypenumbers\":\"strict\",\"colorway\":[\"#636efa\",\"#EF553B\",\"#00cc96\",\"#ab63fa\",\"#FFA15A\",\"#19d3f3\",\"#FF6692\",\"#B6E880\",\"#FF97FF\",\"#FECB52\"],\"font\":{\"color\":\"#2a3f5f\"},\"hovermode\":\"closest\",\"hoverlabel\":{\"align\":\"left\"},\"paper_bgcolor\":\"white\",\"plot_bgcolor\":\"#E5ECF6\",\"polar\":{\"bgcolor\":\"#E5ECF6\",\"angularaxis\":{\"gridcolor\":\"white\",\"linecolor\":\"white\",\"ticks\":\"\"},\"radialaxis\":{\"gridcolor\":\"white\",\"linecolor\":\"white\",\"ticks\":\"\"}},\"ternary\":{\"bgcolor\":\"#E5ECF6\",\"aaxis\":{\"gridcolor\":\"white\",\"linecolor\":\"white\",\"ticks\":\"\"},\"baxis\":{\"gridcolor\":\"white\",\"linecolor\":\"white\",\"ticks\":\"\"},\"caxis\":{\"gridcolor\":\"white\",\"linecolor\":\"white\",\"ticks\":\"\"}},\"coloraxis\":{\"colorbar\":{\"outlinewidth\":0,\"ticks\":\"\"}},\"colorscale\":{\"sequential\":[[0.0,\"#0d0887\"],[0.1111111111111111,\"#46039f\"],[0.2222222222222222,\"#7201a8\"],[0.3333333333333333,\"#9c179e\"],[0.4444444444444444,\"#bd3786\"],[0.5555555555555556,\"#d8576b\"],[0.6666666666666666,\"#ed7953\"],[0.7777777777777778,\"#fb9f3a\"],[0.8888888888888888,\"#fdca26\"],[1.0,\"#f0f921\"]],\"sequentialminus\":[[0.0,\"#0d0887\"],[0.1111111111111111,\"#46039f\"],[0.2222222222222222,\"#7201a8\"],[0.3333333333333333,\"#9c179e\"],[0.4444444444444444,\"#bd3786\"],[0.5555555555555556,\"#d8576b\"],[0.6666666666666666,\"#ed7953\"],[0.7777777777777778,\"#fb9f3a\"],[0.8888888888888888,\"#fdca26\"],[1.0,\"#f0f921\"]],\"diverging\":[[0,\"#8e0152\"],[0.1,\"#c51b7d\"],[0.2,\"#de77ae\"],[0.3,\"#f1b6da\"],[0.4,\"#fde0ef\"],[0.5,\"#f7f7f7\"],[0.6,\"#e6f5d0\"],[0.7,\"#b8e186\"],[0.8,\"#7fbc41\"],[0.9,\"#4d9221\"],[1,\"#276419\"]]},\"xaxis\":{\"gridcolor\":\"white\",\"linecolor\":\"white\",\"ticks\":\"\",\"title\":{\"standoff\":15},\"zerolinecolor\":\"white\",\"automargin\":true,\"zerolinewidth\":2},\"yaxis\":{\"gridcolor\":\"white\",\"linecolor\":\"white\",\"ticks\":\"\",\"title\":{\"standoff\":15},\"zerolinecolor\":\"white\",\"automargin\":true,\"zerolinewidth\":2},\"scene\":{\"xaxis\":{\"backgroundcolor\":\"#E5ECF6\",\"gridcolor\":\"white\",\"linecolor\":\"white\",\"showbackground\":true,\"ticks\":\"\",\"zerolinecolor\":\"white\",\"gridwidth\":2},\"yaxis\":{\"backgroundcolor\":\"#E5ECF6\",\"gridcolor\":\"white\",\"linecolor\":\"white\",\"showbackground\":true,\"ticks\":\"\",\"zerolinecolor\":\"white\",\"gridwidth\":2},\"zaxis\":{\"backgroundcolor\":\"#E5ECF6\",\"gridcolor\":\"white\",\"linecolor\":\"white\",\"showbackground\":true,\"ticks\":\"\",\"zerolinecolor\":\"white\",\"gridwidth\":2}},\"shapedefaults\":{\"line\":{\"color\":\"#2a3f5f\"}},\"annotationdefaults\":{\"arrowcolor\":\"#2a3f5f\",\"arrowhead\":0,\"arrowwidth\":1},\"geo\":{\"bgcolor\":\"white\",\"landcolor\":\"#E5ECF6\",\"subunitcolor\":\"white\",\"showland\":true,\"showlakes\":true,\"lakecolor\":\"white\"},\"title\":{\"x\":0.05},\"mapbox\":{\"style\":\"light\"}}},\"xaxis\":{\"anchor\":\"y\",\"domain\":[0.0,1.0],\"title\":{\"text\":\"x\"}},\"yaxis\":{\"anchor\":\"x\",\"domain\":[0.0,1.0],\"title\":{\"text\":\"y\"}},\"legend\":{\"title\":{\"text\":\"color\"},\"tracegroupgap\":0},\"title\":{\"text\":\"Accuracy (Hamming Loss) score of each Classifier\"},\"barmode\":\"relative\"},                        {\"responsive\": true}                    ).then(function(){\n",
              "                            \n",
              "var gd = document.getElementById('68fb4cd4-7da8-4857-ad3c-7821fe708185');\n",
              "var x = new MutationObserver(function (mutations, observer) {{\n",
              "        var display = window.getComputedStyle(gd).display;\n",
              "        if (!display || display === 'none') {{\n",
              "            console.log([gd, 'removed!']);\n",
              "            Plotly.purge(gd);\n",
              "            observer.disconnect();\n",
              "        }}\n",
              "}});\n",
              "\n",
              "// Listen for the removal of the full notebook cells\n",
              "var notebookContainer = gd.closest('#notebook-container');\n",
              "if (notebookContainer) {{\n",
              "    x.observe(notebookContainer, {childList: true});\n",
              "}}\n",
              "\n",
              "// Listen for the clearing of the current output cell\n",
              "var outputEl = gd.closest('.output');\n",
              "if (outputEl) {{\n",
              "    x.observe(outputEl, {childList: true});\n",
              "}}\n",
              "\n",
              "                        })                };                            </script>        </div>\n",
              "</body>\n",
              "</html>"
            ]
          },
          "metadata": {}
        }
      ],
      "source": [
        "def plot_bar_chart(data_dict, title):\n",
        "    fig = px.bar(\n",
        "        x=list(data_dict.keys()),\n",
        "        y=list(data_dict.values()),\n",
        "        text=np.round(list(data_dict.values()), 6),\n",
        "        title=title,\n",
        "        color=list(data_dict.keys()),\n",
        "        color_discrete_sequence=px.colors.sequential.matter\n",
        "    )\n",
        "    fig.show()\n",
        "\n",
        "plot_bar_chart(NN_auc_dict, 'Accuracy (AUC) score of each Classifier')\n",
        "plot_bar_chart(NN_hml_dict, 'Accuracy (Hamming Loss) score of each Classifier')\n"
      ],
      "id": "8dbe79be-8560-44c4-a16f-51e510fe41b1"
    },
    {
      "cell_type": "markdown",
      "metadata": {
        "id": "b84fdcb2-31cd-4c25-b433-e7da7bcf4b95"
      },
      "source": [
        "### Plotting Accuracy (Hamming Loss) scores (Lower score indicates better results)"
      ],
      "id": "b84fdcb2-31cd-4c25-b433-e7da7bcf4b95"
    },
    {
      "cell_type": "code",
      "execution_count": 588,
      "metadata": {
        "id": "6a982c18-1a62-432c-8617-7324ff9878c4"
      },
      "outputs": [],
      "source": [],
      "id": "6a982c18-1a62-432c-8617-7324ff9878c4"
    },
    {
      "cell_type": "markdown",
      "metadata": {
        "id": "4fde69c0-95d3-45b8-95c0-c7d4b298b6b2"
      },
      "source": [
        "### Insights"
      ],
      "id": "4fde69c0-95d3-45b8-95c0-c7d4b298b6b2"
    },
    {
      "cell_type": "markdown",
      "metadata": {
        "id": "cc4f16bc-b5f9-4bd2-8a7b-c9cc9a2a328d"
      },
      "source": [
        "<ul>\n",
        "    <li><b>RNN</b> performs better than <b>DNN</b> - </li>\n",
        "    <ul>\n",
        "        <li>RNN has the better (higher) AUC score </li>\n",
        "        <li>RNN has the better (lower) Hammington Loss score </li>"
      ],
      "id": "cc4f16bc-b5f9-4bd2-8a7b-c9cc9a2a328d"
    },
    {
      "cell_type": "markdown",
      "metadata": {
        "id": "2da9f329-6b64-42e1-a336-a28b280492e3"
      },
      "source": [
        "## Combining ML and NN results"
      ],
      "id": "2da9f329-6b64-42e1-a336-a28b280492e3"
    },
    {
      "cell_type": "markdown",
      "metadata": {
        "id": "ae5f3db6-fbe3-4225-993d-0e6883f87578"
      },
      "source": [
        "### AUC score case"
      ],
      "id": "ae5f3db6-fbe3-4225-993d-0e6883f87578"
    },
    {
      "cell_type": "code",
      "execution_count": 589,
      "metadata": {
        "id": "79a23d00-4dfd-48c4-ad1c-5c56190b9b7c",
        "colab": {
          "base_uri": "https://localhost:8080/"
        },
        "outputId": "1fa3ca8f-425e-4a77-ad75-b203df7e2dae"
      },
      "outputs": [
        {
          "output_type": "execute_result",
          "data": {
            "text/plain": [
              "{'DNN': 0.00038617534921132755,\n",
              " 'RNN': 0.00041177813479439896,\n",
              " 'LR': 0.0005856637202127592,\n",
              " 'XGBoost': 0.0007136776481281163,\n",
              " 'Random Forest': 0.0007531486092353514,\n",
              " 'Light GBM': 0.00091209923639692}"
            ]
          },
          "metadata": {},
          "execution_count": 589
        }
      ],
      "source": [
        "auc_comb_dict = auc_dict_s\n",
        "auc_comb_dict.update(NN_auc_dict)\n",
        "auc_comb_dict_s = dict(sorted(auc_comb_dict.items(), key=lambda item: item[1]))\n",
        "auc_comb_dict_s\n",
        "hml_comb_dict = hml_dict_s\n",
        "hml_comb_dict.update(NN_hml_dict)\n",
        "hml_comb_dict_s = dict(sorted(hml_comb_dict.items(), key=lambda item: item[1]))\n",
        "hml_comb_dict_s"
      ],
      "id": "79a23d00-4dfd-48c4-ad1c-5c56190b9b7c"
    },
    {
      "cell_type": "code",
      "source": [
        "def combine_and_sort_dicts(dict1, dict2):\n",
        "    combined_dict = dict1.copy()\n",
        "    combined_dict.update(dict2)\n",
        "    sorted_dict = dict(sorted(combined_dict.items(), key=lambda item: item[1]))\n",
        "    return sorted_dict\n"
      ],
      "metadata": {
        "id": "FMjz_lzmmWrh"
      },
      "id": "FMjz_lzmmWrh",
      "execution_count": 590,
      "outputs": []
    },
    {
      "cell_type": "code",
      "source": [
        "auc_comb_dict = combine_and_sort_dicts(auc_dict_s, NN_auc_dict)\n",
        "hml_comb_dict = combine_and_sort_dicts(hml_dict_s, NN_hml_dict)\n",
        "\n",
        "print(\"Combined and Sorted AUC Dictionary:\")\n",
        "print(auc_comb_dict)\n",
        "\n",
        "print(\"\\nCombined and Sorted Hamming Loss Dictionary:\")\n",
        "print(hml_comb_dict)\n"
      ],
      "metadata": {
        "colab": {
          "base_uri": "https://localhost:8080/"
        },
        "id": "OoNIYG5AmacQ",
        "outputId": "e8fcfb50-d14e-444f-e027-d7654f1a9656"
      },
      "id": "OoNIYG5AmacQ",
      "execution_count": 591,
      "outputs": [
        {
          "output_type": "stream",
          "name": "stdout",
          "text": [
            "Combined and Sorted AUC Dictionary:\n",
            "{'Light GBM': 0.5975372283213826, 'Random Forest': 0.6937292383078004, 'XGBoost': 0.8959990217710939, 'LR': 0.9792146141370832, 'DNN': 0.9938864279374109, 'RNN': 0.9944191488530285}\n",
            "\n",
            "Combined and Sorted Hamming Loss Dictionary:\n",
            "{'DNN': 0.00038617534921132755, 'RNN': 0.00041177813479439896, 'LR': 0.0005856637202127592, 'XGBoost': 0.0007136776481281163, 'Random Forest': 0.0007531486092353514, 'Light GBM': 0.00091209923639692}\n"
          ]
        }
      ]
    },
    {
      "cell_type": "markdown",
      "metadata": {
        "id": "46c18078-81a4-40f0-898c-764acf4e2c0b"
      },
      "source": [
        "### Visualizing combined accuracy score results"
      ],
      "id": "46c18078-81a4-40f0-898c-764acf4e2c0b"
    },
    {
      "cell_type": "markdown",
      "metadata": {
        "id": "eeaae78c-053d-4f6a-8fac-93954b37c8b0"
      },
      "source": [
        "#### Plotting AUC accuracy scores (Higher AUC score indicates better result)"
      ],
      "id": "eeaae78c-053d-4f6a-8fac-93954b37c8b0"
    },
    {
      "cell_type": "code",
      "execution_count": 592,
      "metadata": {
        "colab": {
          "base_uri": "https://localhost:8080/",
          "height": 1000
        },
        "id": "025790eb-2e91-4213-935f-7e9d1f97c092",
        "outputId": "3d17af34-fa45-4f17-b116-777f435f74b4"
      },
      "outputs": [
        {
          "output_type": "display_data",
          "data": {
            "text/html": [
              "<html>\n",
              "<head><meta charset=\"utf-8\" /></head>\n",
              "<body>\n",
              "    <div>            <script src=\"https://cdnjs.cloudflare.com/ajax/libs/mathjax/2.7.5/MathJax.js?config=TeX-AMS-MML_SVG\"></script><script type=\"text/javascript\">if (window.MathJax && window.MathJax.Hub && window.MathJax.Hub.Config) {window.MathJax.Hub.Config({SVG: {font: \"STIX-Web\"}});}</script>                <script type=\"text/javascript\">window.PlotlyConfig = {MathJaxConfig: 'local'};</script>\n",
              "        <script charset=\"utf-8\" src=\"https://cdn.plot.ly/plotly-2.24.1.min.js\"></script>                <div id=\"99506789-2a3f-40ca-9098-ee848b2ef1d5\" class=\"plotly-graph-div\" style=\"height:525px; width:100%;\"></div>            <script type=\"text/javascript\">                                    window.PLOTLYENV=window.PLOTLYENV || {};                                    if (document.getElementById(\"99506789-2a3f-40ca-9098-ee848b2ef1d5\")) {                    Plotly.newPlot(                        \"99506789-2a3f-40ca-9098-ee848b2ef1d5\",                        [{\"alignmentgroup\":\"True\",\"hovertemplate\":\"color=Light GBM\\u003cbr\\u003ex=%{x}\\u003cbr\\u003ey=%{y}\\u003cbr\\u003etext=%{text}\\u003cextra\\u003e\\u003c\\u002fextra\\u003e\",\"legendgroup\":\"Light GBM\",\"marker\":{\"color\":\"rgb(253, 237, 176)\",\"pattern\":{\"shape\":\"\"}},\"name\":\"Light GBM\",\"offsetgroup\":\"Light GBM\",\"orientation\":\"v\",\"showlegend\":true,\"text\":[0.597537],\"textposition\":\"auto\",\"x\":[\"Light GBM\"],\"xaxis\":\"x\",\"y\":[0.5975372283213826],\"yaxis\":\"y\",\"type\":\"bar\"},{\"alignmentgroup\":\"True\",\"hovertemplate\":\"color=Random Forest\\u003cbr\\u003ex=%{x}\\u003cbr\\u003ey=%{y}\\u003cbr\\u003etext=%{text}\\u003cextra\\u003e\\u003c\\u002fextra\\u003e\",\"legendgroup\":\"Random Forest\",\"marker\":{\"color\":\"rgb(250, 205, 145)\",\"pattern\":{\"shape\":\"\"}},\"name\":\"Random Forest\",\"offsetgroup\":\"Random Forest\",\"orientation\":\"v\",\"showlegend\":true,\"text\":[0.693729],\"textposition\":\"auto\",\"x\":[\"Random Forest\"],\"xaxis\":\"x\",\"y\":[0.6937292383078004],\"yaxis\":\"y\",\"type\":\"bar\"},{\"alignmentgroup\":\"True\",\"hovertemplate\":\"color=XGBoost\\u003cbr\\u003ex=%{x}\\u003cbr\\u003ey=%{y}\\u003cbr\\u003etext=%{text}\\u003cextra\\u003e\\u003c\\u002fextra\\u003e\",\"legendgroup\":\"XGBoost\",\"marker\":{\"color\":\"rgb(246, 173, 119)\",\"pattern\":{\"shape\":\"\"}},\"name\":\"XGBoost\",\"offsetgroup\":\"XGBoost\",\"orientation\":\"v\",\"showlegend\":true,\"text\":[0.895999],\"textposition\":\"auto\",\"x\":[\"XGBoost\"],\"xaxis\":\"x\",\"y\":[0.8959990217710939],\"yaxis\":\"y\",\"type\":\"bar\"},{\"alignmentgroup\":\"True\",\"hovertemplate\":\"color=LR\\u003cbr\\u003ex=%{x}\\u003cbr\\u003ey=%{y}\\u003cbr\\u003etext=%{text}\\u003cextra\\u003e\\u003c\\u002fextra\\u003e\",\"legendgroup\":\"LR\",\"marker\":{\"color\":\"rgb(240, 142, 98)\",\"pattern\":{\"shape\":\"\"}},\"name\":\"LR\",\"offsetgroup\":\"LR\",\"orientation\":\"v\",\"showlegend\":true,\"text\":[0.979215],\"textposition\":\"auto\",\"x\":[\"LR\"],\"xaxis\":\"x\",\"y\":[0.9792146141370832],\"yaxis\":\"y\",\"type\":\"bar\"},{\"alignmentgroup\":\"True\",\"hovertemplate\":\"color=DNN\\u003cbr\\u003ex=%{x}\\u003cbr\\u003ey=%{y}\\u003cbr\\u003etext=%{text}\\u003cextra\\u003e\\u003c\\u002fextra\\u003e\",\"legendgroup\":\"DNN\",\"marker\":{\"color\":\"rgb(231, 109, 84)\",\"pattern\":{\"shape\":\"\"}},\"name\":\"DNN\",\"offsetgroup\":\"DNN\",\"orientation\":\"v\",\"showlegend\":true,\"text\":[0.993886],\"textposition\":\"auto\",\"x\":[\"DNN\"],\"xaxis\":\"x\",\"y\":[0.9938864279374109],\"yaxis\":\"y\",\"type\":\"bar\"},{\"alignmentgroup\":\"True\",\"hovertemplate\":\"color=RNN\\u003cbr\\u003ex=%{x}\\u003cbr\\u003ey=%{y}\\u003cbr\\u003etext=%{text}\\u003cextra\\u003e\\u003c\\u002fextra\\u003e\",\"legendgroup\":\"RNN\",\"marker\":{\"color\":\"rgb(216, 80, 83)\",\"pattern\":{\"shape\":\"\"}},\"name\":\"RNN\",\"offsetgroup\":\"RNN\",\"orientation\":\"v\",\"showlegend\":true,\"text\":[0.994419],\"textposition\":\"auto\",\"x\":[\"RNN\"],\"xaxis\":\"x\",\"y\":[0.9944191488530285],\"yaxis\":\"y\",\"type\":\"bar\"}],                        {\"template\":{\"data\":{\"histogram2dcontour\":[{\"type\":\"histogram2dcontour\",\"colorbar\":{\"outlinewidth\":0,\"ticks\":\"\"},\"colorscale\":[[0.0,\"#0d0887\"],[0.1111111111111111,\"#46039f\"],[0.2222222222222222,\"#7201a8\"],[0.3333333333333333,\"#9c179e\"],[0.4444444444444444,\"#bd3786\"],[0.5555555555555556,\"#d8576b\"],[0.6666666666666666,\"#ed7953\"],[0.7777777777777778,\"#fb9f3a\"],[0.8888888888888888,\"#fdca26\"],[1.0,\"#f0f921\"]]}],\"choropleth\":[{\"type\":\"choropleth\",\"colorbar\":{\"outlinewidth\":0,\"ticks\":\"\"}}],\"histogram2d\":[{\"type\":\"histogram2d\",\"colorbar\":{\"outlinewidth\":0,\"ticks\":\"\"},\"colorscale\":[[0.0,\"#0d0887\"],[0.1111111111111111,\"#46039f\"],[0.2222222222222222,\"#7201a8\"],[0.3333333333333333,\"#9c179e\"],[0.4444444444444444,\"#bd3786\"],[0.5555555555555556,\"#d8576b\"],[0.6666666666666666,\"#ed7953\"],[0.7777777777777778,\"#fb9f3a\"],[0.8888888888888888,\"#fdca26\"],[1.0,\"#f0f921\"]]}],\"heatmap\":[{\"type\":\"heatmap\",\"colorbar\":{\"outlinewidth\":0,\"ticks\":\"\"},\"colorscale\":[[0.0,\"#0d0887\"],[0.1111111111111111,\"#46039f\"],[0.2222222222222222,\"#7201a8\"],[0.3333333333333333,\"#9c179e\"],[0.4444444444444444,\"#bd3786\"],[0.5555555555555556,\"#d8576b\"],[0.6666666666666666,\"#ed7953\"],[0.7777777777777778,\"#fb9f3a\"],[0.8888888888888888,\"#fdca26\"],[1.0,\"#f0f921\"]]}],\"heatmapgl\":[{\"type\":\"heatmapgl\",\"colorbar\":{\"outlinewidth\":0,\"ticks\":\"\"},\"colorscale\":[[0.0,\"#0d0887\"],[0.1111111111111111,\"#46039f\"],[0.2222222222222222,\"#7201a8\"],[0.3333333333333333,\"#9c179e\"],[0.4444444444444444,\"#bd3786\"],[0.5555555555555556,\"#d8576b\"],[0.6666666666666666,\"#ed7953\"],[0.7777777777777778,\"#fb9f3a\"],[0.8888888888888888,\"#fdca26\"],[1.0,\"#f0f921\"]]}],\"contourcarpet\":[{\"type\":\"contourcarpet\",\"colorbar\":{\"outlinewidth\":0,\"ticks\":\"\"}}],\"contour\":[{\"type\":\"contour\",\"colorbar\":{\"outlinewidth\":0,\"ticks\":\"\"},\"colorscale\":[[0.0,\"#0d0887\"],[0.1111111111111111,\"#46039f\"],[0.2222222222222222,\"#7201a8\"],[0.3333333333333333,\"#9c179e\"],[0.4444444444444444,\"#bd3786\"],[0.5555555555555556,\"#d8576b\"],[0.6666666666666666,\"#ed7953\"],[0.7777777777777778,\"#fb9f3a\"],[0.8888888888888888,\"#fdca26\"],[1.0,\"#f0f921\"]]}],\"surface\":[{\"type\":\"surface\",\"colorbar\":{\"outlinewidth\":0,\"ticks\":\"\"},\"colorscale\":[[0.0,\"#0d0887\"],[0.1111111111111111,\"#46039f\"],[0.2222222222222222,\"#7201a8\"],[0.3333333333333333,\"#9c179e\"],[0.4444444444444444,\"#bd3786\"],[0.5555555555555556,\"#d8576b\"],[0.6666666666666666,\"#ed7953\"],[0.7777777777777778,\"#fb9f3a\"],[0.8888888888888888,\"#fdca26\"],[1.0,\"#f0f921\"]]}],\"mesh3d\":[{\"type\":\"mesh3d\",\"colorbar\":{\"outlinewidth\":0,\"ticks\":\"\"}}],\"scatter\":[{\"fillpattern\":{\"fillmode\":\"overlay\",\"size\":10,\"solidity\":0.2},\"type\":\"scatter\"}],\"parcoords\":[{\"type\":\"parcoords\",\"line\":{\"colorbar\":{\"outlinewidth\":0,\"ticks\":\"\"}}}],\"scatterpolargl\":[{\"type\":\"scatterpolargl\",\"marker\":{\"colorbar\":{\"outlinewidth\":0,\"ticks\":\"\"}}}],\"bar\":[{\"error_x\":{\"color\":\"#2a3f5f\"},\"error_y\":{\"color\":\"#2a3f5f\"},\"marker\":{\"line\":{\"color\":\"#E5ECF6\",\"width\":0.5},\"pattern\":{\"fillmode\":\"overlay\",\"size\":10,\"solidity\":0.2}},\"type\":\"bar\"}],\"scattergeo\":[{\"type\":\"scattergeo\",\"marker\":{\"colorbar\":{\"outlinewidth\":0,\"ticks\":\"\"}}}],\"scatterpolar\":[{\"type\":\"scatterpolar\",\"marker\":{\"colorbar\":{\"outlinewidth\":0,\"ticks\":\"\"}}}],\"histogram\":[{\"marker\":{\"pattern\":{\"fillmode\":\"overlay\",\"size\":10,\"solidity\":0.2}},\"type\":\"histogram\"}],\"scattergl\":[{\"type\":\"scattergl\",\"marker\":{\"colorbar\":{\"outlinewidth\":0,\"ticks\":\"\"}}}],\"scatter3d\":[{\"type\":\"scatter3d\",\"line\":{\"colorbar\":{\"outlinewidth\":0,\"ticks\":\"\"}},\"marker\":{\"colorbar\":{\"outlinewidth\":0,\"ticks\":\"\"}}}],\"scattermapbox\":[{\"type\":\"scattermapbox\",\"marker\":{\"colorbar\":{\"outlinewidth\":0,\"ticks\":\"\"}}}],\"scatterternary\":[{\"type\":\"scatterternary\",\"marker\":{\"colorbar\":{\"outlinewidth\":0,\"ticks\":\"\"}}}],\"scattercarpet\":[{\"type\":\"scattercarpet\",\"marker\":{\"colorbar\":{\"outlinewidth\":0,\"ticks\":\"\"}}}],\"carpet\":[{\"aaxis\":{\"endlinecolor\":\"#2a3f5f\",\"gridcolor\":\"white\",\"linecolor\":\"white\",\"minorgridcolor\":\"white\",\"startlinecolor\":\"#2a3f5f\"},\"baxis\":{\"endlinecolor\":\"#2a3f5f\",\"gridcolor\":\"white\",\"linecolor\":\"white\",\"minorgridcolor\":\"white\",\"startlinecolor\":\"#2a3f5f\"},\"type\":\"carpet\"}],\"table\":[{\"cells\":{\"fill\":{\"color\":\"#EBF0F8\"},\"line\":{\"color\":\"white\"}},\"header\":{\"fill\":{\"color\":\"#C8D4E3\"},\"line\":{\"color\":\"white\"}},\"type\":\"table\"}],\"barpolar\":[{\"marker\":{\"line\":{\"color\":\"#E5ECF6\",\"width\":0.5},\"pattern\":{\"fillmode\":\"overlay\",\"size\":10,\"solidity\":0.2}},\"type\":\"barpolar\"}],\"pie\":[{\"automargin\":true,\"type\":\"pie\"}]},\"layout\":{\"autotypenumbers\":\"strict\",\"colorway\":[\"#636efa\",\"#EF553B\",\"#00cc96\",\"#ab63fa\",\"#FFA15A\",\"#19d3f3\",\"#FF6692\",\"#B6E880\",\"#FF97FF\",\"#FECB52\"],\"font\":{\"color\":\"#2a3f5f\"},\"hovermode\":\"closest\",\"hoverlabel\":{\"align\":\"left\"},\"paper_bgcolor\":\"white\",\"plot_bgcolor\":\"#E5ECF6\",\"polar\":{\"bgcolor\":\"#E5ECF6\",\"angularaxis\":{\"gridcolor\":\"white\",\"linecolor\":\"white\",\"ticks\":\"\"},\"radialaxis\":{\"gridcolor\":\"white\",\"linecolor\":\"white\",\"ticks\":\"\"}},\"ternary\":{\"bgcolor\":\"#E5ECF6\",\"aaxis\":{\"gridcolor\":\"white\",\"linecolor\":\"white\",\"ticks\":\"\"},\"baxis\":{\"gridcolor\":\"white\",\"linecolor\":\"white\",\"ticks\":\"\"},\"caxis\":{\"gridcolor\":\"white\",\"linecolor\":\"white\",\"ticks\":\"\"}},\"coloraxis\":{\"colorbar\":{\"outlinewidth\":0,\"ticks\":\"\"}},\"colorscale\":{\"sequential\":[[0.0,\"#0d0887\"],[0.1111111111111111,\"#46039f\"],[0.2222222222222222,\"#7201a8\"],[0.3333333333333333,\"#9c179e\"],[0.4444444444444444,\"#bd3786\"],[0.5555555555555556,\"#d8576b\"],[0.6666666666666666,\"#ed7953\"],[0.7777777777777778,\"#fb9f3a\"],[0.8888888888888888,\"#fdca26\"],[1.0,\"#f0f921\"]],\"sequentialminus\":[[0.0,\"#0d0887\"],[0.1111111111111111,\"#46039f\"],[0.2222222222222222,\"#7201a8\"],[0.3333333333333333,\"#9c179e\"],[0.4444444444444444,\"#bd3786\"],[0.5555555555555556,\"#d8576b\"],[0.6666666666666666,\"#ed7953\"],[0.7777777777777778,\"#fb9f3a\"],[0.8888888888888888,\"#fdca26\"],[1.0,\"#f0f921\"]],\"diverging\":[[0,\"#8e0152\"],[0.1,\"#c51b7d\"],[0.2,\"#de77ae\"],[0.3,\"#f1b6da\"],[0.4,\"#fde0ef\"],[0.5,\"#f7f7f7\"],[0.6,\"#e6f5d0\"],[0.7,\"#b8e186\"],[0.8,\"#7fbc41\"],[0.9,\"#4d9221\"],[1,\"#276419\"]]},\"xaxis\":{\"gridcolor\":\"white\",\"linecolor\":\"white\",\"ticks\":\"\",\"title\":{\"standoff\":15},\"zerolinecolor\":\"white\",\"automargin\":true,\"zerolinewidth\":2},\"yaxis\":{\"gridcolor\":\"white\",\"linecolor\":\"white\",\"ticks\":\"\",\"title\":{\"standoff\":15},\"zerolinecolor\":\"white\",\"automargin\":true,\"zerolinewidth\":2},\"scene\":{\"xaxis\":{\"backgroundcolor\":\"#E5ECF6\",\"gridcolor\":\"white\",\"linecolor\":\"white\",\"showbackground\":true,\"ticks\":\"\",\"zerolinecolor\":\"white\",\"gridwidth\":2},\"yaxis\":{\"backgroundcolor\":\"#E5ECF6\",\"gridcolor\":\"white\",\"linecolor\":\"white\",\"showbackground\":true,\"ticks\":\"\",\"zerolinecolor\":\"white\",\"gridwidth\":2},\"zaxis\":{\"backgroundcolor\":\"#E5ECF6\",\"gridcolor\":\"white\",\"linecolor\":\"white\",\"showbackground\":true,\"ticks\":\"\",\"zerolinecolor\":\"white\",\"gridwidth\":2}},\"shapedefaults\":{\"line\":{\"color\":\"#2a3f5f\"}},\"annotationdefaults\":{\"arrowcolor\":\"#2a3f5f\",\"arrowhead\":0,\"arrowwidth\":1},\"geo\":{\"bgcolor\":\"white\",\"landcolor\":\"#E5ECF6\",\"subunitcolor\":\"white\",\"showland\":true,\"showlakes\":true,\"lakecolor\":\"white\"},\"title\":{\"x\":0.05},\"mapbox\":{\"style\":\"light\"}}},\"xaxis\":{\"anchor\":\"y\",\"domain\":[0.0,1.0],\"title\":{\"text\":\"x\"}},\"yaxis\":{\"anchor\":\"x\",\"domain\":[0.0,1.0],\"title\":{\"text\":\"y\"}},\"legend\":{\"title\":{\"text\":\"color\"},\"tracegroupgap\":0},\"title\":{\"text\":\"Accuracy (AUC) score of each Classifier\"},\"barmode\":\"relative\"},                        {\"responsive\": true}                    ).then(function(){\n",
              "                            \n",
              "var gd = document.getElementById('99506789-2a3f-40ca-9098-ee848b2ef1d5');\n",
              "var x = new MutationObserver(function (mutations, observer) {{\n",
              "        var display = window.getComputedStyle(gd).display;\n",
              "        if (!display || display === 'none') {{\n",
              "            console.log([gd, 'removed!']);\n",
              "            Plotly.purge(gd);\n",
              "            observer.disconnect();\n",
              "        }}\n",
              "}});\n",
              "\n",
              "// Listen for the removal of the full notebook cells\n",
              "var notebookContainer = gd.closest('#notebook-container');\n",
              "if (notebookContainer) {{\n",
              "    x.observe(notebookContainer, {childList: true});\n",
              "}}\n",
              "\n",
              "// Listen for the clearing of the current output cell\n",
              "var outputEl = gd.closest('.output');\n",
              "if (outputEl) {{\n",
              "    x.observe(outputEl, {childList: true});\n",
              "}}\n",
              "\n",
              "                        })                };                            </script>        </div>\n",
              "</body>\n",
              "</html>"
            ]
          },
          "metadata": {}
        },
        {
          "output_type": "display_data",
          "data": {
            "text/html": [
              "<html>\n",
              "<head><meta charset=\"utf-8\" /></head>\n",
              "<body>\n",
              "    <div>            <script src=\"https://cdnjs.cloudflare.com/ajax/libs/mathjax/2.7.5/MathJax.js?config=TeX-AMS-MML_SVG\"></script><script type=\"text/javascript\">if (window.MathJax && window.MathJax.Hub && window.MathJax.Hub.Config) {window.MathJax.Hub.Config({SVG: {font: \"STIX-Web\"}});}</script>                <script type=\"text/javascript\">window.PlotlyConfig = {MathJaxConfig: 'local'};</script>\n",
              "        <script charset=\"utf-8\" src=\"https://cdn.plot.ly/plotly-2.24.1.min.js\"></script>                <div id=\"f65dd0ca-9657-4226-8df8-c81e609c7ea5\" class=\"plotly-graph-div\" style=\"height:525px; width:100%;\"></div>            <script type=\"text/javascript\">                                    window.PLOTLYENV=window.PLOTLYENV || {};                                    if (document.getElementById(\"f65dd0ca-9657-4226-8df8-c81e609c7ea5\")) {                    Plotly.newPlot(                        \"f65dd0ca-9657-4226-8df8-c81e609c7ea5\",                        [{\"alignmentgroup\":\"True\",\"hovertemplate\":\"color=DNN\\u003cbr\\u003ex=%{x}\\u003cbr\\u003ey=%{y}\\u003cbr\\u003etext=%{text}\\u003cextra\\u003e\\u003c\\u002fextra\\u003e\",\"legendgroup\":\"DNN\",\"marker\":{\"color\":\"rgb(253, 237, 176)\",\"pattern\":{\"shape\":\"\"}},\"name\":\"DNN\",\"offsetgroup\":\"DNN\",\"orientation\":\"v\",\"showlegend\":true,\"text\":[0.000386],\"textposition\":\"auto\",\"x\":[\"DNN\"],\"xaxis\":\"x\",\"y\":[0.00038617534921132755],\"yaxis\":\"y\",\"type\":\"bar\"},{\"alignmentgroup\":\"True\",\"hovertemplate\":\"color=RNN\\u003cbr\\u003ex=%{x}\\u003cbr\\u003ey=%{y}\\u003cbr\\u003etext=%{text}\\u003cextra\\u003e\\u003c\\u002fextra\\u003e\",\"legendgroup\":\"RNN\",\"marker\":{\"color\":\"rgb(250, 205, 145)\",\"pattern\":{\"shape\":\"\"}},\"name\":\"RNN\",\"offsetgroup\":\"RNN\",\"orientation\":\"v\",\"showlegend\":true,\"text\":[0.000412],\"textposition\":\"auto\",\"x\":[\"RNN\"],\"xaxis\":\"x\",\"y\":[0.00041177813479439896],\"yaxis\":\"y\",\"type\":\"bar\"},{\"alignmentgroup\":\"True\",\"hovertemplate\":\"color=LR\\u003cbr\\u003ex=%{x}\\u003cbr\\u003ey=%{y}\\u003cbr\\u003etext=%{text}\\u003cextra\\u003e\\u003c\\u002fextra\\u003e\",\"legendgroup\":\"LR\",\"marker\":{\"color\":\"rgb(246, 173, 119)\",\"pattern\":{\"shape\":\"\"}},\"name\":\"LR\",\"offsetgroup\":\"LR\",\"orientation\":\"v\",\"showlegend\":true,\"text\":[0.000586],\"textposition\":\"auto\",\"x\":[\"LR\"],\"xaxis\":\"x\",\"y\":[0.0005856637202127592],\"yaxis\":\"y\",\"type\":\"bar\"},{\"alignmentgroup\":\"True\",\"hovertemplate\":\"color=XGBoost\\u003cbr\\u003ex=%{x}\\u003cbr\\u003ey=%{y}\\u003cbr\\u003etext=%{text}\\u003cextra\\u003e\\u003c\\u002fextra\\u003e\",\"legendgroup\":\"XGBoost\",\"marker\":{\"color\":\"rgb(240, 142, 98)\",\"pattern\":{\"shape\":\"\"}},\"name\":\"XGBoost\",\"offsetgroup\":\"XGBoost\",\"orientation\":\"v\",\"showlegend\":true,\"text\":[0.000714],\"textposition\":\"auto\",\"x\":[\"XGBoost\"],\"xaxis\":\"x\",\"y\":[0.0007136776481281163],\"yaxis\":\"y\",\"type\":\"bar\"},{\"alignmentgroup\":\"True\",\"hovertemplate\":\"color=Random Forest\\u003cbr\\u003ex=%{x}\\u003cbr\\u003ey=%{y}\\u003cbr\\u003etext=%{text}\\u003cextra\\u003e\\u003c\\u002fextra\\u003e\",\"legendgroup\":\"Random Forest\",\"marker\":{\"color\":\"rgb(231, 109, 84)\",\"pattern\":{\"shape\":\"\"}},\"name\":\"Random Forest\",\"offsetgroup\":\"Random Forest\",\"orientation\":\"v\",\"showlegend\":true,\"text\":[0.000753],\"textposition\":\"auto\",\"x\":[\"Random Forest\"],\"xaxis\":\"x\",\"y\":[0.0007531486092353514],\"yaxis\":\"y\",\"type\":\"bar\"},{\"alignmentgroup\":\"True\",\"hovertemplate\":\"color=Light GBM\\u003cbr\\u003ex=%{x}\\u003cbr\\u003ey=%{y}\\u003cbr\\u003etext=%{text}\\u003cextra\\u003e\\u003c\\u002fextra\\u003e\",\"legendgroup\":\"Light GBM\",\"marker\":{\"color\":\"rgb(216, 80, 83)\",\"pattern\":{\"shape\":\"\"}},\"name\":\"Light GBM\",\"offsetgroup\":\"Light GBM\",\"orientation\":\"v\",\"showlegend\":true,\"text\":[0.000912],\"textposition\":\"auto\",\"x\":[\"Light GBM\"],\"xaxis\":\"x\",\"y\":[0.00091209923639692],\"yaxis\":\"y\",\"type\":\"bar\"}],                        {\"template\":{\"data\":{\"histogram2dcontour\":[{\"type\":\"histogram2dcontour\",\"colorbar\":{\"outlinewidth\":0,\"ticks\":\"\"},\"colorscale\":[[0.0,\"#0d0887\"],[0.1111111111111111,\"#46039f\"],[0.2222222222222222,\"#7201a8\"],[0.3333333333333333,\"#9c179e\"],[0.4444444444444444,\"#bd3786\"],[0.5555555555555556,\"#d8576b\"],[0.6666666666666666,\"#ed7953\"],[0.7777777777777778,\"#fb9f3a\"],[0.8888888888888888,\"#fdca26\"],[1.0,\"#f0f921\"]]}],\"choropleth\":[{\"type\":\"choropleth\",\"colorbar\":{\"outlinewidth\":0,\"ticks\":\"\"}}],\"histogram2d\":[{\"type\":\"histogram2d\",\"colorbar\":{\"outlinewidth\":0,\"ticks\":\"\"},\"colorscale\":[[0.0,\"#0d0887\"],[0.1111111111111111,\"#46039f\"],[0.2222222222222222,\"#7201a8\"],[0.3333333333333333,\"#9c179e\"],[0.4444444444444444,\"#bd3786\"],[0.5555555555555556,\"#d8576b\"],[0.6666666666666666,\"#ed7953\"],[0.7777777777777778,\"#fb9f3a\"],[0.8888888888888888,\"#fdca26\"],[1.0,\"#f0f921\"]]}],\"heatmap\":[{\"type\":\"heatmap\",\"colorbar\":{\"outlinewidth\":0,\"ticks\":\"\"},\"colorscale\":[[0.0,\"#0d0887\"],[0.1111111111111111,\"#46039f\"],[0.2222222222222222,\"#7201a8\"],[0.3333333333333333,\"#9c179e\"],[0.4444444444444444,\"#bd3786\"],[0.5555555555555556,\"#d8576b\"],[0.6666666666666666,\"#ed7953\"],[0.7777777777777778,\"#fb9f3a\"],[0.8888888888888888,\"#fdca26\"],[1.0,\"#f0f921\"]]}],\"heatmapgl\":[{\"type\":\"heatmapgl\",\"colorbar\":{\"outlinewidth\":0,\"ticks\":\"\"},\"colorscale\":[[0.0,\"#0d0887\"],[0.1111111111111111,\"#46039f\"],[0.2222222222222222,\"#7201a8\"],[0.3333333333333333,\"#9c179e\"],[0.4444444444444444,\"#bd3786\"],[0.5555555555555556,\"#d8576b\"],[0.6666666666666666,\"#ed7953\"],[0.7777777777777778,\"#fb9f3a\"],[0.8888888888888888,\"#fdca26\"],[1.0,\"#f0f921\"]]}],\"contourcarpet\":[{\"type\":\"contourcarpet\",\"colorbar\":{\"outlinewidth\":0,\"ticks\":\"\"}}],\"contour\":[{\"type\":\"contour\",\"colorbar\":{\"outlinewidth\":0,\"ticks\":\"\"},\"colorscale\":[[0.0,\"#0d0887\"],[0.1111111111111111,\"#46039f\"],[0.2222222222222222,\"#7201a8\"],[0.3333333333333333,\"#9c179e\"],[0.4444444444444444,\"#bd3786\"],[0.5555555555555556,\"#d8576b\"],[0.6666666666666666,\"#ed7953\"],[0.7777777777777778,\"#fb9f3a\"],[0.8888888888888888,\"#fdca26\"],[1.0,\"#f0f921\"]]}],\"surface\":[{\"type\":\"surface\",\"colorbar\":{\"outlinewidth\":0,\"ticks\":\"\"},\"colorscale\":[[0.0,\"#0d0887\"],[0.1111111111111111,\"#46039f\"],[0.2222222222222222,\"#7201a8\"],[0.3333333333333333,\"#9c179e\"],[0.4444444444444444,\"#bd3786\"],[0.5555555555555556,\"#d8576b\"],[0.6666666666666666,\"#ed7953\"],[0.7777777777777778,\"#fb9f3a\"],[0.8888888888888888,\"#fdca26\"],[1.0,\"#f0f921\"]]}],\"mesh3d\":[{\"type\":\"mesh3d\",\"colorbar\":{\"outlinewidth\":0,\"ticks\":\"\"}}],\"scatter\":[{\"fillpattern\":{\"fillmode\":\"overlay\",\"size\":10,\"solidity\":0.2},\"type\":\"scatter\"}],\"parcoords\":[{\"type\":\"parcoords\",\"line\":{\"colorbar\":{\"outlinewidth\":0,\"ticks\":\"\"}}}],\"scatterpolargl\":[{\"type\":\"scatterpolargl\",\"marker\":{\"colorbar\":{\"outlinewidth\":0,\"ticks\":\"\"}}}],\"bar\":[{\"error_x\":{\"color\":\"#2a3f5f\"},\"error_y\":{\"color\":\"#2a3f5f\"},\"marker\":{\"line\":{\"color\":\"#E5ECF6\",\"width\":0.5},\"pattern\":{\"fillmode\":\"overlay\",\"size\":10,\"solidity\":0.2}},\"type\":\"bar\"}],\"scattergeo\":[{\"type\":\"scattergeo\",\"marker\":{\"colorbar\":{\"outlinewidth\":0,\"ticks\":\"\"}}}],\"scatterpolar\":[{\"type\":\"scatterpolar\",\"marker\":{\"colorbar\":{\"outlinewidth\":0,\"ticks\":\"\"}}}],\"histogram\":[{\"marker\":{\"pattern\":{\"fillmode\":\"overlay\",\"size\":10,\"solidity\":0.2}},\"type\":\"histogram\"}],\"scattergl\":[{\"type\":\"scattergl\",\"marker\":{\"colorbar\":{\"outlinewidth\":0,\"ticks\":\"\"}}}],\"scatter3d\":[{\"type\":\"scatter3d\",\"line\":{\"colorbar\":{\"outlinewidth\":0,\"ticks\":\"\"}},\"marker\":{\"colorbar\":{\"outlinewidth\":0,\"ticks\":\"\"}}}],\"scattermapbox\":[{\"type\":\"scattermapbox\",\"marker\":{\"colorbar\":{\"outlinewidth\":0,\"ticks\":\"\"}}}],\"scatterternary\":[{\"type\":\"scatterternary\",\"marker\":{\"colorbar\":{\"outlinewidth\":0,\"ticks\":\"\"}}}],\"scattercarpet\":[{\"type\":\"scattercarpet\",\"marker\":{\"colorbar\":{\"outlinewidth\":0,\"ticks\":\"\"}}}],\"carpet\":[{\"aaxis\":{\"endlinecolor\":\"#2a3f5f\",\"gridcolor\":\"white\",\"linecolor\":\"white\",\"minorgridcolor\":\"white\",\"startlinecolor\":\"#2a3f5f\"},\"baxis\":{\"endlinecolor\":\"#2a3f5f\",\"gridcolor\":\"white\",\"linecolor\":\"white\",\"minorgridcolor\":\"white\",\"startlinecolor\":\"#2a3f5f\"},\"type\":\"carpet\"}],\"table\":[{\"cells\":{\"fill\":{\"color\":\"#EBF0F8\"},\"line\":{\"color\":\"white\"}},\"header\":{\"fill\":{\"color\":\"#C8D4E3\"},\"line\":{\"color\":\"white\"}},\"type\":\"table\"}],\"barpolar\":[{\"marker\":{\"line\":{\"color\":\"#E5ECF6\",\"width\":0.5},\"pattern\":{\"fillmode\":\"overlay\",\"size\":10,\"solidity\":0.2}},\"type\":\"barpolar\"}],\"pie\":[{\"automargin\":true,\"type\":\"pie\"}]},\"layout\":{\"autotypenumbers\":\"strict\",\"colorway\":[\"#636efa\",\"#EF553B\",\"#00cc96\",\"#ab63fa\",\"#FFA15A\",\"#19d3f3\",\"#FF6692\",\"#B6E880\",\"#FF97FF\",\"#FECB52\"],\"font\":{\"color\":\"#2a3f5f\"},\"hovermode\":\"closest\",\"hoverlabel\":{\"align\":\"left\"},\"paper_bgcolor\":\"white\",\"plot_bgcolor\":\"#E5ECF6\",\"polar\":{\"bgcolor\":\"#E5ECF6\",\"angularaxis\":{\"gridcolor\":\"white\",\"linecolor\":\"white\",\"ticks\":\"\"},\"radialaxis\":{\"gridcolor\":\"white\",\"linecolor\":\"white\",\"ticks\":\"\"}},\"ternary\":{\"bgcolor\":\"#E5ECF6\",\"aaxis\":{\"gridcolor\":\"white\",\"linecolor\":\"white\",\"ticks\":\"\"},\"baxis\":{\"gridcolor\":\"white\",\"linecolor\":\"white\",\"ticks\":\"\"},\"caxis\":{\"gridcolor\":\"white\",\"linecolor\":\"white\",\"ticks\":\"\"}},\"coloraxis\":{\"colorbar\":{\"outlinewidth\":0,\"ticks\":\"\"}},\"colorscale\":{\"sequential\":[[0.0,\"#0d0887\"],[0.1111111111111111,\"#46039f\"],[0.2222222222222222,\"#7201a8\"],[0.3333333333333333,\"#9c179e\"],[0.4444444444444444,\"#bd3786\"],[0.5555555555555556,\"#d8576b\"],[0.6666666666666666,\"#ed7953\"],[0.7777777777777778,\"#fb9f3a\"],[0.8888888888888888,\"#fdca26\"],[1.0,\"#f0f921\"]],\"sequentialminus\":[[0.0,\"#0d0887\"],[0.1111111111111111,\"#46039f\"],[0.2222222222222222,\"#7201a8\"],[0.3333333333333333,\"#9c179e\"],[0.4444444444444444,\"#bd3786\"],[0.5555555555555556,\"#d8576b\"],[0.6666666666666666,\"#ed7953\"],[0.7777777777777778,\"#fb9f3a\"],[0.8888888888888888,\"#fdca26\"],[1.0,\"#f0f921\"]],\"diverging\":[[0,\"#8e0152\"],[0.1,\"#c51b7d\"],[0.2,\"#de77ae\"],[0.3,\"#f1b6da\"],[0.4,\"#fde0ef\"],[0.5,\"#f7f7f7\"],[0.6,\"#e6f5d0\"],[0.7,\"#b8e186\"],[0.8,\"#7fbc41\"],[0.9,\"#4d9221\"],[1,\"#276419\"]]},\"xaxis\":{\"gridcolor\":\"white\",\"linecolor\":\"white\",\"ticks\":\"\",\"title\":{\"standoff\":15},\"zerolinecolor\":\"white\",\"automargin\":true,\"zerolinewidth\":2},\"yaxis\":{\"gridcolor\":\"white\",\"linecolor\":\"white\",\"ticks\":\"\",\"title\":{\"standoff\":15},\"zerolinecolor\":\"white\",\"automargin\":true,\"zerolinewidth\":2},\"scene\":{\"xaxis\":{\"backgroundcolor\":\"#E5ECF6\",\"gridcolor\":\"white\",\"linecolor\":\"white\",\"showbackground\":true,\"ticks\":\"\",\"zerolinecolor\":\"white\",\"gridwidth\":2},\"yaxis\":{\"backgroundcolor\":\"#E5ECF6\",\"gridcolor\":\"white\",\"linecolor\":\"white\",\"showbackground\":true,\"ticks\":\"\",\"zerolinecolor\":\"white\",\"gridwidth\":2},\"zaxis\":{\"backgroundcolor\":\"#E5ECF6\",\"gridcolor\":\"white\",\"linecolor\":\"white\",\"showbackground\":true,\"ticks\":\"\",\"zerolinecolor\":\"white\",\"gridwidth\":2}},\"shapedefaults\":{\"line\":{\"color\":\"#2a3f5f\"}},\"annotationdefaults\":{\"arrowcolor\":\"#2a3f5f\",\"arrowhead\":0,\"arrowwidth\":1},\"geo\":{\"bgcolor\":\"white\",\"landcolor\":\"#E5ECF6\",\"subunitcolor\":\"white\",\"showland\":true,\"showlakes\":true,\"lakecolor\":\"white\"},\"title\":{\"x\":0.05},\"mapbox\":{\"style\":\"light\"}}},\"xaxis\":{\"anchor\":\"y\",\"domain\":[0.0,1.0],\"title\":{\"text\":\"x\"}},\"yaxis\":{\"anchor\":\"x\",\"domain\":[0.0,1.0],\"title\":{\"text\":\"y\"}},\"legend\":{\"title\":{\"text\":\"color\"},\"tracegroupgap\":0},\"title\":{\"text\":\"Accuracy (Hamming Loss) score of each Classifier\"},\"barmode\":\"relative\"},                        {\"responsive\": true}                    ).then(function(){\n",
              "                            \n",
              "var gd = document.getElementById('f65dd0ca-9657-4226-8df8-c81e609c7ea5');\n",
              "var x = new MutationObserver(function (mutations, observer) {{\n",
              "        var display = window.getComputedStyle(gd).display;\n",
              "        if (!display || display === 'none') {{\n",
              "            console.log([gd, 'removed!']);\n",
              "            Plotly.purge(gd);\n",
              "            observer.disconnect();\n",
              "        }}\n",
              "}});\n",
              "\n",
              "// Listen for the removal of the full notebook cells\n",
              "var notebookContainer = gd.closest('#notebook-container');\n",
              "if (notebookContainer) {{\n",
              "    x.observe(notebookContainer, {childList: true});\n",
              "}}\n",
              "\n",
              "// Listen for the clearing of the current output cell\n",
              "var outputEl = gd.closest('.output');\n",
              "if (outputEl) {{\n",
              "    x.observe(outputEl, {childList: true});\n",
              "}}\n",
              "\n",
              "                        })                };                            </script>        </div>\n",
              "</body>\n",
              "</html>"
            ]
          },
          "metadata": {}
        }
      ],
      "source": [
        "import plotly.express as px\n",
        "\n",
        "def plot_scores(data_dict, title, score_type):\n",
        "    fig = px.bar(\n",
        "        x=list(data_dict.keys()),\n",
        "        y=list(data_dict.values()),\n",
        "        text=np.round(list(data_dict.values()), 6),\n",
        "        title=f'Accuracy ({score_type}) score of each Classifier',\n",
        "        color=list(data_dict.keys()),\n",
        "        color_discrete_sequence=px.colors.sequential.matter\n",
        "    )\n",
        "    fig.show()\n",
        "\n",
        "# Assuming you have 'auc_comb_dict_s' and 'hml_comb_dict_s' available\n",
        "plot_scores(auc_comb_dict_s, 'AUC', 'AUC')\n",
        "plot_scores(hml_comb_dict_s, 'Hamming Loss', 'Hamming Loss')\n"
      ],
      "id": "025790eb-2e91-4213-935f-7e9d1f97c092"
    },
    {
      "cell_type": "markdown",
      "metadata": {
        "id": "8500d2a6-f170-420a-94e4-aeaaec8cf199"
      },
      "source": [
        "### Insights"
      ],
      "id": "8500d2a6-f170-420a-94e4-aeaaec8cf199"
    },
    {
      "cell_type": "markdown",
      "metadata": {
        "id": "ad48d520-8bc3-400e-9081-da49f28abbc7"
      },
      "source": [
        "<ul>\n",
        "    <li>Both Neural Networks have better performances than any of the ML models (as expected)</li>\n",
        "    <li>Out of the four ML models and two Neural Networks tried, <b>RNN</b> has the best performance</li>\n",
        "</ul>"
      ],
      "id": "ad48d520-8bc3-400e-9081-da49f28abbc7"
    },
    {
      "cell_type": "markdown",
      "metadata": {
        "id": "bfa38c23-7840-4411-9b5d-09610eea4c0a"
      },
      "source": [
        "## Summary"
      ],
      "id": "bfa38c23-7840-4411-9b5d-09610eea4c0a"
    },
    {
      "cell_type": "markdown",
      "metadata": {
        "id": "f1552a10-928b-4645-801d-f4fd3392cb1c"
      },
      "source": [
        "<ul>\n",
        "    <li>Fraud transactions only for 'TRANSFER' and 'CASH_OUT' transcation types</li>\n",
        "    <li>Fraud transactions only to and from customers</li>\n",
        "    <li>Recipient account for fraud 'TRANSFER' transactions used 4097 times to make valis cash withdrawals</li>\n",
        "    <li>Four ML models were used for prediction - </li>\n",
        "    <ul>\n",
        "        <li>Logistic Regression: AUC - 0.983745, Hammington Loss - 0.000834</li>\n",
        "        <li>Random Forest: AUC - 0.746883, Hammington Loss - 0.001035</li>\n",
        "        <li>Extreme Gradient Boost: AUC - 0.91755, Hammington Loss - 0.001152</li>\n",
        "        <li>Light Gradient-Boosting Machine: AUC - 0.493639, Hammington Loss - 0.00142</li>\n",
        "        <li><b>Logistic Regression</b> has the best performance and <b>Light Gradient-Boosting Machine</b> the worst\n",
        "    </ul>\n",
        "    <li>Two Neural Networks were used for prediction - </li>\n",
        "    <ul>\n",
        "        <li>DNN: AUC - 0.995656, Hammington Loss - 0.000538</li>\n",
        "        <li>RNN: AUC - 0.997087, Hammington Loss - 0.000471</li>\n",
        "        <li><b>RNN</b> performs better than <b>DNN</b></li>\n",
        "    </ul>\n",
        "    <li>Neural Networks perform better than Machine Learning models in general - as expected</li>"
      ],
      "id": "f1552a10-928b-4645-801d-f4fd3392cb1c"
    },
    {
      "cell_type": "markdown",
      "metadata": {
        "id": "a3a1b7a3-03ac-46cb-8340-1bf6cd93b806"
      },
      "source": [
        "## NOTE:"
      ],
      "id": "a3a1b7a3-03ac-46cb-8340-1bf6cd93b806"
    },
    {
      "cell_type": "markdown",
      "metadata": {
        "id": "102df773-1b3c-42e8-a004-881f5b77e9f3"
      },
      "source": [
        "<ul>\n",
        "    <li><b>AUC score</b> - The higher the AUC score, the better the model's performance at distinguishing between the true and false classes.</li>\n",
        "    <li><b>Hammington Loss score</b> - Fraction of labels that are predicted incorrectly. So lower the score the better the model/network performance.</li>\n",
        "</ul>"
      ],
      "id": "102df773-1b3c-42e8-a004-881f5b77e9f3"
    },
    {
      "cell_type": "markdown",
      "metadata": {
        "id": "18b1825b-0b38-4981-a830-346daa50f0a8"
      },
      "source": [
        "<ul>\n",
        "    <li><b>Data obtained from</b> - https://www.kaggle.com/datasets/ealaxi/paysim1</li>\n",
        "    <li><b>Work heavily inspired by</b> - https://www.kaggle.com/code/waleedfaheem/credit-card-fraud-detection-auc-0-9\n",
        "    <br>Main differences - </br></li>\n",
        "    <ul>\n",
        "        <li>Neural Networks included for prediction purposes</li>\n",
        "        <li>Minor differences in observations/findings</li>\n",
        "        <li>Different accuracy metrics used for determining model/network performances</li>\n",
        "    </ul>\n",
        "</ul>"
      ],
      "id": "18b1825b-0b38-4981-a830-346daa50f0a8"
    }
  ],
  "metadata": {
    "colab": {
      "provenance": []
    },
    "kernelspec": {
      "display_name": "Python 3 (ipykernel)",
      "language": "python",
      "name": "python3"
    },
    "language_info": {
      "codemirror_mode": {
        "name": "ipython",
        "version": 3
      },
      "file_extension": ".py",
      "mimetype": "text/x-python",
      "name": "python",
      "nbconvert_exporter": "python",
      "pygments_lexer": "ipython3",
      "version": "3.8.9"
    }
  },
  "nbformat": 4,
  "nbformat_minor": 5
}